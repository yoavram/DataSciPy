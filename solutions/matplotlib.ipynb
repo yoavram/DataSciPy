{
 "cells": [
  {
   "cell_type": "markdown",
   "metadata": {},
   "source": [
    "## Exercise 1"
   ]
  },
  {
   "cell_type": "code",
   "execution_count": null,
   "metadata": {},
   "outputs": [],
   "source": [
    "avg_inflammation = data.mean(axis=0)\n",
    "max_inflammation = data.max(axis=0)\n",
    "min_inflammation = data.min(axis=0)\n",
    "\n",
    "plt.plot(avg_inflammation, label='avg')\n",
    "plt.plot(max_inflammation, label='max')\n",
    "plt.plot(min_inflammation, label='min')\n",
    "plt.legend()\n",
    "plt.xlabel('day')\n",
    "plt.ylabel('inflammation');"
   ]
  },
  {
   "cell_type": "markdown",
   "metadata": {},
   "source": [
    "## Exercise 2"
   ]
  },
  {
   "cell_type": "code",
   "execution_count": null,
   "metadata": {},
   "outputs": [],
   "source": [
    "patient_max = data.max(axis=1)\n",
    "assert patient_max.shape[0] == n_patients\n",
    "\n",
    "plt.bar(range(n_patients), patient_max)\n",
    "plt.xlabel('Patient')\n",
    "plt.ylabel('Max inflammation');"
   ]
  },
  {
   "cell_type": "markdown",
   "metadata": {},
   "source": [
    "## Exercise 3"
   ]
  },
  {
   "cell_type": "code",
   "execution_count": null,
   "metadata": {},
   "outputs": [],
   "source": [
    "nrows = 8\n",
    "fig, axes = plt.subplots(nrows, 1, figsize=(6, 8), sharex=True, sharey=True)\n",
    "\n",
    "for i in range(nrows):\n",
    "    axes[i].plot(data[i])\n",
    "    axes[i].set_ylim(0, data.max() + 1)\n",
    "    axes[i].set_yticks([])\n",
    "    axes[i].set_yticks([])\n",
    "    \n",
    "axes[-1].set_xticks([1, 10, 20, 30, 40], [1, 10, 20, 30, 40])\n",
    "axes[-1].set_xlabel('Day')\n",
    "axes[nrows//2-1].set_ylabel('Inflammation');"
   ]
  }
 ],
 "metadata": {
  "kernelspec": {
   "display_name": "Python 3",
   "language": "python",
   "name": "python3"
  },
  "language_info": {
   "codemirror_mode": {
    "name": "ipython",
    "version": 3
   },
   "file_extension": ".py",
   "mimetype": "text/x-python",
   "name": "python",
   "nbconvert_exporter": "python",
   "pygments_lexer": "ipython3",
   "version": "3.7.3"
  }
 },
 "nbformat": 4,
 "nbformat_minor": 4
}
