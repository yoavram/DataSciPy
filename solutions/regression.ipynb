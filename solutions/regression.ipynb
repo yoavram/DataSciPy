{
 "cells": [
  {
   "cell_type": "markdown",
   "metadata": {},
   "source": [
    "# Wine"
   ]
  },
  {
   "cell_type": "code",
   "execution_count": null,
   "metadata": {},
   "outputs": [],
   "source": [
    "X_train, X_test, y_train, y_test = train_test_split(X, y, test_size=0.33, random_state=0)\n",
    "classifier = RandomForestClassifier(1000)\n",
    "classifier.fit(X_train, y_train)\n",
    "print(\"Test accuracy:\", classifier.score(X_test, y_test))"
   ]
  },
  {
   "cell_type": "markdown",
   "metadata": {},
   "source": [
    "# Digits"
   ]
  },
  {
   "cell_type": "code",
   "execution_count": null,
   "metadata": {},
   "outputs": [],
   "source": [
    "nn = neural_network.MLPClassifier(hidden_layer_sizes=(1000, 500))\n",
    "nn.fit(X_train, y_train)\n",
    "print(\"Test accuracy: {:.4f}\".format(nn.score(X_test, y_test)))"
   ]
  },
  {
   "cell_type": "markdown",
   "metadata": {},
   "source": [
    "# Tennis"
   ]
  },
  {
   "cell_type": "code",
   "execution_count": null,
   "metadata": {},
   "outputs": [],
   "source": [
    "feature = 'player1 double faults'\n",
    "\n",
    "X = df[feature].values\n",
    "y = df['player1 total points won'].values\n",
    "y = y[np.isfinite(X)]\n",
    "X = X[np.isfinite(X)]\n",
    "\n",
    "# scikit-learn likes X to be 2D, even if there is only one feature\n",
    "X = X.reshape((-1, 1)) \n",
    "# train-test split\n",
    "X_train, X_test, y_train, y_test = train_test_split(X, y, test_size=0.2, random_state=0)\n",
    "\n",
    "regressor = linear_model.LinearRegression()\n",
    "regressor.fit(X_train, y_train)\n",
    "print(\"R^2: {:.4f}\".format(regressor.score(X_test, y_test)))\n",
    "\n",
    "plt.plot(X, y, '.k')\n",
    "plt.plot(X, regressor.predict(X))\n",
    "plt.xlabel(feature)\n",
    "plt.ylabel('total points won')\n",
    "sns.despine()"
   ]
  }
 ],
 "metadata": {
  "kernelspec": {
   "display_name": "Python 3 (ipykernel)",
   "language": "python",
   "name": "python3"
  },
  "language_info": {
   "codemirror_mode": {
    "name": "ipython",
    "version": 3
   },
   "file_extension": ".py",
   "mimetype": "text/x-python",
   "name": "python",
   "nbconvert_exporter": "python",
   "pygments_lexer": "ipython3",
   "version": "3.11.3"
  }
 },
 "nbformat": 4,
 "nbformat_minor": 4
}
