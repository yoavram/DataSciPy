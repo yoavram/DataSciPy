{
 "cells": [
  {
   "cell_type": "markdown",
   "id": "70e542db-dc15-4361-aeb0-b001a93958ab",
   "metadata": {},
   "source": [
    "Decryption exercise:"
   ]
  },
  {
   "cell_type": "code",
   "execution_count": null,
   "id": "ad2dcd7f-43f6-4f84-85c1-a6fa3350c93a",
   "metadata": {},
   "outputs": [],
   "source": [
    "decoded = (code.get(c, c)  for c in secret)\n",
    "joined = str.join('', decoded) \n",
    "print(joined)"
   ]
  },
  {
   "cell_type": "markdown",
   "id": "f6335978-5938-4c25-ac23-55be98d187f4",
   "metadata": {},
   "source": [
    "Note that `code.get` is only called when `join` starts pulling elements from `decoded`."
   ]
  },
  {
   "cell_type": "markdown",
   "id": "1c0dc5d4-0c46-412a-9e00-d45559581643",
   "metadata": {},
   "source": [
    "For the custom `all`:"
   ]
  },
  {
   "cell_type": "code",
   "execution_count": null,
   "id": "d6a3487b-2d9e-45b9-a02c-b2e92e77ca8d",
   "metadata": {},
   "outputs": [],
   "source": [
    "def myall(iterable):\n",
    "    booleans = (bool(e) for e in iterable)\n",
    "    return reduce(operator.and_, booleans)"
   ]
  }
 ],
 "metadata": {
  "kernelspec": {
   "display_name": "Python 3 (ipykernel)",
   "language": "python",
   "name": "python3"
  },
  "language_info": {
   "codemirror_mode": {
    "name": "ipython",
    "version": 3
   },
   "file_extension": ".py",
   "mimetype": "text/x-python",
   "name": "python",
   "nbconvert_exporter": "python",
   "pygments_lexer": "ipython3",
   "version": "3.11.6"
  }
 },
 "nbformat": 4,
 "nbformat_minor": 5
}
