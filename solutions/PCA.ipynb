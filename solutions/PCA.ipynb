{
 "cells": [
  {
   "cell_type": "markdown",
   "metadata": {},
   "source": [
    "# Introduction to Principal component analysis\n",
    "## Solutions"
   ]
  },
  {
   "cell_type": "markdown",
   "metadata": {},
   "source": [
    "## Exercise: PCA implementation"
   ]
  },
  {
   "cell_type": "code",
   "execution_count": null,
   "metadata": {},
   "outputs": [],
   "source": [
    "S = (X.T @ X) / (n - 1) # cov matrix with n-1 degree of freedom\n",
    "# S = np.cov(X.T) # this is equivalent (up to some numerical differences)\n",
    "print('S =\\n', S)\n",
    "print()\n",
    "\n",
    "λ, v = np.linalg.eig(S) # eigen system\n",
    "idx = λ.argsort()[::-1] # sort eigenvalues in descending order\n",
    "λ = λ[idx]\n",
    "print('λ =', λ[0], λ[1], λ.sum())\n",
    "print()\n",
    "print('VAR PC1:, ', λ[0]/λ.sum()) # the amount of variance explained by PC1\n",
    "print()\n",
    "\n",
    "A = v[:, idx] # the projection matrix\n",
    "print('A =\\n', A) \n",
    "print()\n",
    "\n",
    "Xmean = X.mean(axis=0, keepdims=True) # normalize\n",
    "X_ = (X - Xmean) @ A.T # project (ie transform)\n",
    "print('X_ =\\n', X_)"
   ]
  },
  {
   "cell_type": "markdown",
   "metadata": {},
   "source": [
    "## Exercise: t-SNE"
   ]
  },
  {
   "cell_type": "code",
   "execution_count": null,
   "metadata": {},
   "outputs": [],
   "source": [
    "tsne = TSNE()\n",
    "X_ = tsne.fit_transform(X)"
   ]
  }
 ],
 "metadata": {
  "kernelspec": {
   "display_name": "Python [conda env:curveball]",
   "language": "python",
   "name": "conda-env-curveball-py"
  },
  "language_info": {
   "codemirror_mode": {
    "name": "ipython",
    "version": 3
   },
   "file_extension": ".py",
   "mimetype": "text/x-python",
   "name": "python",
   "nbconvert_exporter": "python",
   "pygments_lexer": "ipython3",
   "version": "3.7.3"
  }
 },
 "nbformat": 4,
 "nbformat_minor": 4
}
