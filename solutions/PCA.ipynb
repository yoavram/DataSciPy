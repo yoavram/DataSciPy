{
 "cells": [
  {
   "cell_type": "markdown",
   "metadata": {},
   "source": [
    "# Introduction to Principal component analysis\n",
    "## Solutions"
   ]
  },
  {
   "cell_type": "markdown",
   "metadata": {},
   "source": [
    "## Exercise: PCA implementation"
   ]
  },
  {
   "cell_type": "code",
   "execution_count": null,
   "metadata": {},
   "outputs": [],
   "source": [
    "S = (X.T @ X) / (n - 1) # cov matrix with n-1 degree of freedom\n",
    "# S = np.cov(X.T) # this is equivalent (up to some numerical differences)\n",
    "print('S =\\n', S)\n",
    "print()\n",
    "\n",
    "λ, v = np.linalg.eig(S) # eigen system\n",
    "idx = λ.argsort()[::-1] # sort eigenvalues in descending order\n",
    "λ = λ[idx]\n",
    "print('λ =', λ[0], λ[1], λ.sum())\n",
    "print()\n",
    "print('VAR PC1:, ', λ[0]/λ.sum()) # the amount of variance explained by PC1\n",
    "print()\n",
    "\n",
    "A = v[:, idx] # the projection matrix\n",
    "print('A =\\n', A) \n",
    "print()\n",
    "\n",
    "Xmean = X.mean(axis=0, keepdims=True) # normalize\n",
    "X_ = (X - Xmean) @ A.T # project (ie transform)\n",
    "print('X_ =\\n', X_)"
   ]
  },
  {
   "cell_type": "markdown",
   "metadata": {},
   "source": [
    "## Exercise: Digits dataset"
   ]
  },
  {
   "cell_type": "code",
   "execution_count": null,
   "metadata": {},
   "outputs": [],
   "source": [
    "pca = PCA()\n",
    "X_ = pca.fit_transform(X)"
   ]
  },
  {
   "cell_type": "code",
   "execution_count": null,
   "metadata": {},
   "outputs": [],
   "source": [
    "colors = sns.color_palette('Set1', 10)\n",
    "\n",
    "PC1 = X_[:, 0]\n",
    "PC2 = X_[:, 1]\n",
    "\n",
    "fig, ax = plt.subplots(figsize=(12, 10))\n",
    "for pc1, pc2, s in zip(PC1, PC2, labels):\n",
    "    c = colors[s]\n",
    "    ax.text(pc1, pc2, str(s), fontdict=dict(fontsize=10, color=c))\n",
    "ax.set_xlim(PC1.min()-1, PC1.max()+1)\n",
    "ax.set_ylim(PC2.min()-1, PC2.max()+1)\n",
    "ax.set_xticks([])\n",
    "ax.set_yticks([])\n",
    "pca_labels()\n",
    "sns.despine()"
   ]
  },
  {
   "cell_type": "markdown",
   "metadata": {},
   "source": [
    "## Exercise: t-SNE"
   ]
  },
  {
   "cell_type": "code",
   "execution_count": null,
   "metadata": {},
   "outputs": [],
   "source": [
    "tsne = TSNE()\n",
    "X_ = tsne.fit_transform(X)"
   ]
  },
  {
   "cell_type": "code",
   "execution_count": null,
   "metadata": {},
   "outputs": [],
   "source": [
    "colors = sns.color_palette('Set1', 10)\n",
    "\n",
    "PC1 = X_[:, 0]\n",
    "PC2 = X_[:, 1]\n",
    "\n",
    "fig, ax = plt.subplots(figsize=(12, 10))\n",
    "for pc1, pc2, s in zip(PC1, PC2, labels):\n",
    "    c = colors[s]\n",
    "    ax.text(pc1, pc2, str(s), fontdict=dict(fontsize=10, color=c))\n",
    "ax.set_xlim(PC1.min()-1, PC1.max()+1)\n",
    "ax.set_ylim(PC2.min()-1, PC2.max()+1)\n",
    "ax.set_xticks([])\n",
    "ax.set_yticks([])\n",
    "pca_labels()\n",
    "sns.despine()"
   ]
  }
 ],
 "metadata": {
  "kernelspec": {
   "display_name": "Python [conda env:DataSciPy]",
   "language": "python",
   "name": "conda-env-DataSciPy-py"
  },
  "language_info": {
   "codemirror_mode": {
    "name": "ipython",
    "version": 3
   },
   "file_extension": ".py",
   "mimetype": "text/x-python",
   "name": "python",
   "nbconvert_exporter": "python",
   "pygments_lexer": "ipython3",
   "version": "3.7.12"
  }
 },
 "nbformat": 4,
 "nbformat_minor": 4
}
