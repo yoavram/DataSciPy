{
 "cells": [
  {
   "cell_type": "markdown",
   "metadata": {},
   "source": [
    "# LSTM with Keras\n",
    "\n",
    "In practice, there are some [problems with training RNN](https://towardsdatascience.com/understanding-lstm-and-its-quick-implementation-in-keras-for-sentiment-analysis-af410fd85b47), and most applications use a variation called [LSTM](http://colah.github.io/posts/2015-08-Understanding-LSTMs/)\n",
    "\n",
    "Let's use an LSTM network to [predict word completions](http://curiousily.com/data-science/2017/05/23/tensorflow-for-hackers-part-5.html) for [Jonathan Swift](https://en.wikipedia.org/wiki/Jonathan_Swift), the author of Gulliver's Travels."
   ]
  },
  {
   "cell_type": "code",
   "execution_count": 2,
   "metadata": {},
   "outputs": [
    {
     "name": "stdout",
     "output_type": "stream",
     "text": [
      "Keras 2.13.1\n",
      "GPU: []\n",
      "\n"
     ]
    }
   ],
   "source": [
    "%matplotlib inline\n",
    "import matplotlib.pyplot as plt\n",
    "import numpy as np\n",
    "import tensorflow as tf\n",
    "try:\n",
    "    import keras\n",
    "except ModuleNotFoundError:\n",
    "    from tensorflow import keras\n",
    "print('Keras', keras.__version__)\n",
    "print('GPU:', tf.config.list_physical_devices('GPU'))\n",
    "print(tf.test.gpu_device_name())"
   ]
  },
  {
   "cell_type": "markdown",
   "metadata": {},
   "source": [
    "The data is at `../data/Gulliver.txt` and contains the Project Gutenberg's version of the book."
   ]
  },
  {
   "cell_type": "code",
   "execution_count": 3,
   "metadata": {},
   "outputs": [
    {
     "name": "stdout",
     "output_type": "stream",
     "text": [
      "Number of characters: 308221\n",
      "Number of unique characters: 85\n",
      "Number of lines: 5586\n",
      "Number of words: 51438\n",
      "\n",
      "Excerpt:\n",
      "********\n",
      "Title: Gulliver's Travels\n",
      "       Into Several Remote Regions of the World\n",
      "\n",
      "\n",
      "Author: Jonathan Swift\n",
      "\n",
      "Editor: Thomas M. Balliet\n",
      "\n",
      "Release Date: November 26, 2005  [eBook #17157]\n",
      "\n",
      "Language: English\n",
      "\n",
      "Character set encoding: ISO-646-US (US-ASCII)\n",
      "\n",
      "\n",
      "***START OF THE PROJECT GUTENBERG EBOOK GULLIVER'S TRAVEL\n"
     ]
    }
   ],
   "source": [
    "filename = '../data/Gulliver.txt'\n",
    "text = open(filename, 'rt').read()\n",
    "text = text[352:]\n",
    "print(\"Number of characters: {}\".format(len(text)))\n",
    "print(\"Number of unique characters: {}\".format(len(set(text))))\n",
    "print(\"Number of lines: {}\".format(text.count('\\n')))\n",
    "print(\"Number of words: {}\".format(text.count(' ')))\n",
    "print()\n",
    "print(\"Excerpt:\")\n",
    "print(\"*\" * len(\"Excerpt:\"))\n",
    "print(text[:300])"
   ]
  },
  {
   "cell_type": "markdown",
   "metadata": {},
   "source": [
    "We create mappings from characters to integers and from integers to characters:"
   ]
  },
  {
   "cell_type": "code",
   "execution_count": 6,
   "metadata": {},
   "outputs": [],
   "source": [
    "chars = list(set(text))\n",
    "data_size, vocab_size = len(text), len(chars)\n",
    "\n",
    "id_to_char = dict(enumerate(chars)) # { i: ch for i,ch in enumerate(chars) }\n",
    "char_to_id = dict(zip(id_to_char.values(), id_to_char.keys())) # { ch: i for i,ch in enumerate(chars) }\n",
    "data = np.array([char_to_id[c] for c in text], dtype=int)"
   ]
  },
  {
   "cell_type": "markdown",
   "metadata": {},
   "source": [
    "We'll use sequences of length 40 and with a step size of 3 so that we don't have complete overlap.\n",
    "\n",
    "The following generates `X` and `Y`."
   ]
  },
  {
   "cell_type": "code",
   "execution_count": 8,
   "metadata": {},
   "outputs": [
    {
     "name": "stdout",
     "output_type": "stream",
     "text": [
      "# sequences: 102727\n",
      "Title: Gulliver's Travels\n",
      "       Into Se -> v\n"
     ]
    }
   ],
   "source": [
    "seq_length = 40\n",
    "step = 3\n",
    "sequences = []\n",
    "next_chars = []\n",
    "for i in range(0, len(text) - seq_length, step):\n",
    "    sequences.append(text[i: i + seq_length])\n",
    "    next_chars.append(text[i + seq_length])\n",
    "n_sequences = len(sequences)\n",
    "print('# sequences:', n_sequences)\n",
    "print(sequences[0], '->', next_chars[0])\n",
    "\n",
    "X = np.zeros((n_sequences, seq_length, vocab_size), dtype=bool)\n",
    "Y = np.zeros((n_sequences, vocab_size), dtype=bool)\n",
    "\n",
    "for i, seq in enumerate(sequences):\n",
    "    for t, char in enumerate(seq):\n",
    "        X[i, t, char_to_id[char]] = 1\n",
    "    Y[i, char_to_id[next_chars[i]]] = 1"
   ]
  },
  {
   "cell_type": "markdown",
   "metadata": {},
   "source": [
    "**Create the model using Keras**.\n",
    "Use one or more LSTM layers and consider what is the correct output layer.\n",
    "Note that the input to an LSTM layer is a sequence, so if you connect two LSTM layers you need the earlier one to return a sequence -- there's a special argument for that in the LSTM constructor."
   ]
  },
  {
   "cell_type": "code",
   "execution_count": 9,
   "metadata": {},
   "outputs": [
    {
     "name": "stdout",
     "output_type": "stream",
     "text": [
      "Model: \"sequential\"\n",
      "_________________________________________________________________\n",
      " Layer (type)                Output Shape              Param #   \n",
      "=================================================================\n",
      " lstm (LSTM)                 (None, None, 128)         109568    \n",
      "                                                                 \n",
      " lstm_1 (LSTM)               (None, 32)                20608     \n",
      "                                                                 \n",
      " dense (Dense)               (None, 85)                2805      \n",
      "                                                                 \n",
      "=================================================================\n",
      "Total params: 132981 (519.46 KB)\n",
      "Trainable params: 132981 (519.46 KB)\n",
      "Non-trainable params: 0 (0.00 Byte)\n",
      "_________________________________________________________________\n"
     ]
    }
   ],
   "source": [
    "layers = [\n",
    "    keras.layers.LSTM(128, return_sequences=True, input_shape=(None, vocab_size)),\n",
    "    keras.layers.LSTM(32),\n",
    "    keras.layers.Dense(vocab_size, activation='softmax')\n",
    "]\n",
    "model = keras.models.Sequential(layers)\n",
    "model.summary()"
   ]
  },
  {
   "cell_type": "markdown",
   "metadata": {},
   "source": [
    "**Compile the model.**"
   ]
  },
  {
   "cell_type": "code",
   "execution_count": 10,
   "metadata": {},
   "outputs": [],
   "source": [
    "model.compile(\n",
    "    loss=keras.losses.categorical_crossentropy,\n",
    "    optimizer=keras.optimizers.Adam(), \n",
    "    metrics=['accuracy']\n",
    ")"
   ]
  },
  {
   "cell_type": "markdown",
   "metadata": {},
   "source": [
    "To measure accuracy on a test set, we tell Keras to split of the data for a train and test set.\n",
    "\n",
    "Other training parameters are the batch size - number of samples or sequences per gradient update - and epochs - number of times we want to iterate over the entire data.\n",
    "\n",
    "**Choose the training parameters and run the training**. This may take about 30-60 secons per epoch."
   ]
  },
  {
   "cell_type": "code",
   "execution_count": 237,
   "metadata": {},
   "outputs": [
    {
     "name": "stdout",
     "output_type": "stream",
     "text": [
      "Train on 97590 samples, validate on 5137 samples\n",
      "Epoch 1/50\n",
      "97590/97590 [==============================] - 93s 954us/step - loss: 3.1692 - acc: 0.1665 - val_loss: 3.3205 - val_acc: 0.1468\n",
      "Epoch 2/50\n",
      "97590/97590 [==============================] - 89s 911us/step - loss: 2.9687 - acc: 0.2177 - val_loss: 3.1871 - val_acc: 0.2040\n",
      "Epoch 3/50\n",
      "97590/97590 [==============================] - 90s 924us/step - loss: 2.6726 - acc: 0.2905 - val_loss: 2.9142 - val_acc: 0.2488\n",
      "Epoch 4/50\n",
      "97590/97590 [==============================] - 90s 922us/step - loss: 2.4496 - acc: 0.3212 - val_loss: 2.7644 - val_acc: 0.2768\n",
      "Epoch 5/50\n",
      "97590/97590 [==============================] - 92s 945us/step - loss: 2.3249 - acc: 0.3417 - val_loss: 2.6926 - val_acc: 0.2938\n",
      "Epoch 6/50\n",
      "97590/97590 [==============================] - 91s 933us/step - loss: 2.2467 - acc: 0.3603 - val_loss: 2.6385 - val_acc: 0.3132\n",
      "Epoch 7/50\n",
      "97590/97590 [==============================] - 90s 927us/step - loss: 2.1832 - acc: 0.3736 - val_loss: 2.6122 - val_acc: 0.3159\n",
      "Epoch 8/50\n",
      "97590/97590 [==============================] - 94s 964us/step - loss: 2.1345 - acc: 0.3844 - val_loss: 2.5748 - val_acc: 0.3290\n",
      "Epoch 9/50\n",
      "97590/97590 [==============================] - 94s 964us/step - loss: 2.0914 - acc: 0.3945 - val_loss: 2.5702 - val_acc: 0.3272\n",
      "Epoch 10/50\n",
      "97590/97590 [==============================] - 94s 961us/step - loss: 2.0545 - acc: 0.4057 - val_loss: 2.5350 - val_acc: 0.3342\n",
      "Epoch 11/50\n",
      "97590/97590 [==============================] - 92s 940us/step - loss: 2.0217 - acc: 0.4139 - val_loss: 2.5169 - val_acc: 0.3409\n",
      "Epoch 12/50\n",
      "97590/97590 [==============================] - 97s 991us/step - loss: 1.9917 - acc: 0.4212 - val_loss: 2.4951 - val_acc: 0.3426\n",
      "Epoch 13/50\n",
      "97590/97590 [==============================] - 87s 894us/step - loss: 1.9662 - acc: 0.4301 - val_loss: 2.4913 - val_acc: 0.3475\n",
      "Epoch 14/50\n",
      "97590/97590 [==============================] - 90s 926us/step - loss: 1.9407 - acc: 0.4363 - val_loss: 2.4652 - val_acc: 0.3539\n",
      "Epoch 15/50\n",
      "97590/97590 [==============================] - 92s 945us/step - loss: 1.9170 - acc: 0.4434 - val_loss: 2.4476 - val_acc: 0.3557\n",
      "Epoch 16/50\n",
      "97590/97590 [==============================] - 92s 938us/step - loss: 1.9079 - acc: 0.4466 - val_loss: 2.4346 - val_acc: 0.3599\n",
      "Epoch 17/50\n",
      "97590/97590 [==============================] - 89s 915us/step - loss: 1.8782 - acc: 0.4543 - val_loss: 2.4382 - val_acc: 0.3609\n",
      "Epoch 18/50\n",
      "97590/97590 [==============================] - 90s 922us/step - loss: 1.8596 - acc: 0.4596 - val_loss: 2.4161 - val_acc: 0.3627\n",
      "Epoch 19/50\n",
      "97590/97590 [==============================] - 89s 910us/step - loss: 1.8431 - acc: 0.4644 - val_loss: 2.4029 - val_acc: 0.3701\n",
      "Epoch 20/50\n",
      "97590/97590 [==============================] - 90s 918us/step - loss: 1.8256 - acc: 0.4683 - val_loss: 2.3978 - val_acc: 0.3736\n",
      "Epoch 21/50\n",
      "97590/97590 [==============================] - 90s 917us/step - loss: 1.8113 - acc: 0.4731 - val_loss: 2.3755 - val_acc: 0.3794\n",
      "Epoch 22/50\n",
      "97590/97590 [==============================] - 90s 919us/step - loss: 1.7956 - acc: 0.4765 - val_loss: 2.3801 - val_acc: 0.3767\n",
      "Epoch 23/50\n",
      "97590/97590 [==============================] - 90s 926us/step - loss: 1.7807 - acc: 0.4798 - val_loss: 2.3689 - val_acc: 0.3757\n",
      "Epoch 24/50\n",
      "97590/97590 [==============================] - 91s 929us/step - loss: 1.7784 - acc: 0.4829 - val_loss: 2.4306 - val_acc: 0.3625\n",
      "Epoch 25/50\n",
      "97590/97590 [==============================] - 94s 964us/step - loss: 1.7932 - acc: 0.4802 - val_loss: 2.4116 - val_acc: 0.3726\n",
      "Epoch 26/50\n",
      "97590/97590 [==============================] - 95s 973us/step - loss: 1.7820 - acc: 0.4821 - val_loss: 2.4130 - val_acc: 0.3681\n",
      "Epoch 27/50\n",
      "97590/97590 [==============================] - 92s 945us/step - loss: 1.7768 - acc: 0.4834 - val_loss: 2.3831 - val_acc: 0.3749\n",
      "Epoch 28/50\n",
      "97590/97590 [==============================] - 93s 950us/step - loss: 1.7525 - acc: 0.4898 - val_loss: 2.3798 - val_acc: 0.3706\n",
      "Epoch 29/50\n",
      "97590/97590 [==============================] - 94s 962us/step - loss: 1.7402 - acc: 0.4925 - val_loss: 2.3740 - val_acc: 0.3759\n",
      "Epoch 30/50\n",
      "97590/97590 [==============================] - 93s 954us/step - loss: 1.7301 - acc: 0.4951 - val_loss: 2.3694 - val_acc: 0.3741\n",
      "Epoch 31/50\n",
      "97590/97590 [==============================] - 93s 954us/step - loss: 1.7194 - acc: 0.4986 - val_loss: 2.3660 - val_acc: 0.3866\n",
      "Epoch 32/50\n",
      "97590/97590 [==============================] - 95s 973us/step - loss: 1.7067 - acc: 0.5013 - val_loss: 2.3639 - val_acc: 0.3860\n",
      "Epoch 33/50\n",
      "97590/97590 [==============================] - 94s 963us/step - loss: 1.6954 - acc: 0.5046 - val_loss: 2.3659 - val_acc: 0.3850\n",
      "Epoch 34/50\n",
      "97590/97590 [==============================] - 94s 966us/step - loss: 1.6864 - acc: 0.5074 - val_loss: 2.3389 - val_acc: 0.3971\n",
      "Epoch 35/50\n",
      "97590/97590 [==============================] - 94s 961us/step - loss: 1.6744 - acc: 0.5101 - val_loss: 2.3317 - val_acc: 0.3946\n",
      "Epoch 36/50\n",
      "97590/97590 [==============================] - 95s 973us/step - loss: 1.6515 - acc: 0.5163 - val_loss: 2.3304 - val_acc: 0.3921\n",
      "Epoch 37/50\n",
      "97590/97590 [==============================] - 95s 973us/step - loss: 1.6393 - acc: 0.5184 - val_loss: 2.3323 - val_acc: 0.3969\n",
      "Epoch 38/50\n",
      "97590/97590 [==============================] - 96s 982us/step - loss: 1.6297 - acc: 0.5214 - val_loss: 2.3258 - val_acc: 0.4039\n",
      "Epoch 39/50\n",
      "97590/97590 [==============================] - 96s 982us/step - loss: 1.6221 - acc: 0.5236 - val_loss: 2.3035 - val_acc: 0.4032\n",
      "Epoch 40/50\n",
      "97590/97590 [==============================] - 95s 973us/step - loss: 1.6085 - acc: 0.5270 - val_loss: 2.3191 - val_acc: 0.4014\n",
      "Epoch 41/50\n",
      "97590/97590 [==============================] - 96s 985us/step - loss: 1.6007 - acc: 0.5297 - val_loss: 2.3163 - val_acc: 0.4100\n",
      "Epoch 42/50\n",
      "97590/97590 [==============================] - 95s 976us/step - loss: 1.5951 - acc: 0.5309 - val_loss: 2.3213 - val_acc: 0.4041\n",
      "Epoch 43/50\n",
      "97590/97590 [==============================] - 96s 980us/step - loss: 1.5869 - acc: 0.5331 - val_loss: 2.3165 - val_acc: 0.4088\n",
      "Epoch 44/50\n",
      "97590/97590 [==============================] - 96s 979us/step - loss: 1.5786 - acc: 0.5354 - val_loss: 2.3335 - val_acc: 0.4098\n",
      "Epoch 45/50\n",
      "97590/97590 [==============================] - 96s 984us/step - loss: 1.5670 - acc: 0.5385 - val_loss: 2.3199 - val_acc: 0.4119\n",
      "Epoch 46/50\n",
      "97590/97590 [==============================] - 98s 1000us/step - loss: 1.5590 - acc: 0.5408 - val_loss: 2.3173 - val_acc: 0.4111\n",
      "Epoch 47/50\n",
      "97590/97590 [==============================] - 97s 993us/step - loss: 1.5496 - acc: 0.5432 - val_loss: 2.3151 - val_acc: 0.4127\n",
      "Epoch 48/50\n",
      "97590/97590 [==============================] - 96s 988us/step - loss: 1.5400 - acc: 0.5455 - val_loss: 2.3126 - val_acc: 0.4181\n",
      "Epoch 49/50\n",
      "97590/97590 [==============================] - 97s 996us/step - loss: 1.5332 - acc: 0.5477 - val_loss: 2.2935 - val_acc: 0.4203\n",
      "Epoch 50/50\n",
      "97590/97590 [==============================] - 98s 1ms/step - loss: 1.5233 - acc: 0.5516 - val_loss: 2.3145 - val_acc: 0.4137\n"
     ]
    }
   ],
   "source": [
    "test_size = 0.05\n",
    "batch_size = 128\n",
    "epochs = 50\n",
    "\n",
    "history = model.fit(\n",
    "    X, Y, \n",
    "    validation_split=test_size, \n",
    "    batch_size=batch_size, \n",
    "    epochs=epochs).history"
   ]
  },
  {
   "cell_type": "markdown",
   "metadata": {},
   "source": [
    "Here we plot the change in accuracy and loss over the training time:"
   ]
  },
  {
   "cell_type": "code",
   "execution_count": 242,
   "metadata": {},
   "outputs": [
    {
     "data": {
      "image/png": "[encoded data removed]",
      "text/plain": [
       "<Figure size 432x288 with 1 Axes>"
      ]
     },
     "metadata": {
      "image/png": {
       "height": 263,
       "width": 393
      },
      "needs_background": "light"
     },
     "output_type": "display_data"
    }
   ],
   "source": [
    "plt.plot(history['acc'], label='train')\n",
    "plt.plot(history['val_acc'], label='test')\n",
    "plt.xlabel('epoch')\n",
    "plt.ylabel('accuracy')\n",
    "plt.legend();"
   ]
  },
  {
   "cell_type": "markdown",
   "metadata": {},
   "source": [
    "Now let's apply the model for text completion."
   ]
  },
  {
   "cell_type": "code",
   "execution_count": 330,
   "metadata": {},
   "outputs": [],
   "source": [
    "def complete(sentence):\n",
    "    # one-hot encode\n",
    "#     x = np.zeros((1, len(sentence), vocab_size), dtype=float)\n",
    "#     keras.utils.to_categorical()\n",
    "#     for t, char in enumerate(sentence):\n",
    "#         x[0, t, char_to_id[char]] = 1\n",
    "    x = keras.utils.to_categorical([char_to_id[x] for x in sentence], num_classes=vocab_size)\n",
    "    x = np.expand_dims(x, axis=0)\n",
    "    completion = ''\n",
    "    for _ in range(5):\n",
    "        # predict char distribution\n",
    "        pred = model.predict(x).squeeze() # returns 2D array\n",
    "        # sample next char\n",
    "        char_id = pred.argmax()\n",
    "        next_char = id_to_char[char_id]\n",
    "        completion += next_char\n",
    "        # can't have a completion of a single non-char\n",
    "        if completion in (' ', '\\n', '.', ',', ';'):\n",
    "            completion = ''\n",
    "            continue\n",
    "        # if next char is space/newline, stop completion\n",
    "        if next_char in (' ', '\\n'): \n",
    "            break \n",
    "        # update x by adding the one-hot vector of the next char\n",
    "        new_x = np.zeros((1, 1, vocab_size))\n",
    "        new_x[0, 0, char_id] = 1\n",
    "        x = np.concatenate((x, new_x), axis=1)\n",
    "    return completion"
   ]
  },
  {
   "cell_type": "code",
   "execution_count": 336,
   "metadata": {},
   "outputs": [
    {
     "name": "stdout",
     "output_type": "stream",
     "text": [
      "Good morning, how are yo...u \n"
     ]
    }
   ],
   "source": [
    "sentence = 'Good morning, how are yo'\n",
    "print(sentence, '...', complete(sentence), sep='')"
   ]
  },
  {
   "cell_type": "code",
   "execution_count": 335,
   "metadata": {},
   "outputs": [
    {
     "name": "stdout",
     "output_type": "stream",
     "text": [
      "Good evening, how are yo...u \n"
     ]
    }
   ],
   "source": [
    "sentence = 'Good evening, how are yo'\n",
    "print(sentence, '...', complete(sentence), sep='')"
   ]
  },
  {
   "cell_type": "code",
   "execution_count": 337,
   "metadata": {},
   "outputs": [
    {
     "name": "stdout",
     "output_type": "stream",
     "text": [
      "How I wish you wer...e \n"
     ]
    }
   ],
   "source": [
    "sentence = 'How I wish you wer'\n",
    "print(sentence, '...', complete(sentence), sep='')"
   ]
  },
  {
   "cell_type": "code",
   "execution_count": 338,
   "metadata": {},
   "outputs": [
    {
     "name": "stdout",
     "output_type": "stream",
     "text": [
      "Would you like some brea...d \n"
     ]
    }
   ],
   "source": [
    "sentence = 'Would you like some brea'\n",
    "print(sentence, '...', complete(sentence), sep='')"
   ]
  },
  {
   "cell_type": "code",
   "execution_count": 348,
   "metadata": {},
   "outputs": [
    {
     "name": "stdout",
     "output_type": "stream",
     "text": [
      "What a wonderful wo...rds \n"
     ]
    }
   ],
   "source": [
    "sentence = 'What a wonderful wo'\n",
    "print(sentence, '...', complete(sentence), sep='')"
   ]
  },
  {
   "cell_type": "markdown",
   "metadata": {},
   "source": [
    "# Colophon\n",
    "This notebook was written by [Yoav Ram](http://python.yoavram.com) and is part of the [_Data Science with Python_](https://github.com/yoavram/DataSciPy) workshop.\n",
    "\n",
    "This work is licensed under a [CC BY-SA 4.0](https://creativecommons.org/licenses/by-sa/4.0/) International License.\n",
    "\n",
    "![Python logo](https://www.python.org/static/community_logos/python-logo.png)"
   ]
  }
 ],
 "metadata": {
  "kernelspec": {
   "display_name": "Python [conda env:DataSciPy]",
   "language": "python",
   "name": "conda-env-DataSciPy-py"
  },
  "language_info": {
   "codemirror_mode": {
    "name": "ipython",
    "version": 3
   },
   "file_extension": ".py",
   "mimetype": "text/x-python",
   "name": "python",
   "nbconvert_exporter": "python",
   "pygments_lexer": "ipython3",
   "version": "3.11.5"
  }
 },
 "nbformat": 4,
 "nbformat_minor": 4
}
