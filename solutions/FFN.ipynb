{
 "cells": [
  {
   "cell_type": "code",
   "execution_count": null,
   "id": "ab8aac57-2acd-4d38-a3e2-725dace8191b",
   "metadata": {},
   "outputs": [],
   "source": [
    "import numpy as np\n",
    "import scipy.stats"
   ]
  },
  {
   "cell_type": "code",
   "execution_count": 1,
   "id": "1fd90e0a-c6a6-4d0d-a35d-d20178f77b43",
   "metadata": {},
   "outputs": [],
   "source": [
    "## ReLU\n",
    "\n",
    "def ReLU(X):\n",
    "    return np.maximum(X, 0.0)\n",
    "\n",
    "def dReLU(X):\n",
    "    return (X > 0).astype('float32')"
   ]
  },
  {
   "cell_type": "code",
   "execution_count": null,
   "id": "709c636a-9201-4f45-b9c1-7f54979ec5ca",
   "metadata": {},
   "outputs": [],
   "source": [
    "## Feed Forward with loop\n",
    "\n",
    "def feed_forward(Ws, X, key=None, keep_prob=1):\n",
    "    layers = [X] # input layer\n",
    "    for W in Ws[:-1]:\n",
    "        X = X @ W \n",
    "        layers.append(X)\n",
    "        X = dropout(X, key, keep_prob=keep_prob)\n",
    "        X = ReLU(X)\n",
    "        layers.append(X)\n",
    "    # readout layer\n",
    "    X = X @ Ws[-1]\n",
    "    layers.append(X)\n",
    "    X = softmax(X) \n",
    "    layers.append(X)\n",
    "    return layers"
   ]
  },
  {
   "cell_type": "code",
   "execution_count": null,
   "id": "75394fef-83e9-4833-a43e-26c8f16a306a",
   "metadata": {},
   "outputs": [],
   "source": [
    "## Back propagation with loop\n",
    "\n",
    "def back_prop(Ws, X, Y, keep_prob=1):\n",
    "    layers = feed_forward(Ws, X, keep_prob=keep_prob) # X1, Z1, X2, Z2, Yhat\n",
    "    dJdWs = []\n",
    "    \n",
    "    for i in range(len(Ws)):\n",
    "        Z = layers.pop() # remove last layer from list\n",
    "        if i == 0:\n",
    "            # readout layer, Z=Yhat\n",
    "            δ = Z - Y\n",
    "            layers.pop() # remove last layer from list\n",
    "        else:\n",
    "            # hidden layers, Z = X @ W\n",
    "            W = Ws[-i]\n",
    "            δ = (δ @ W.T) * dReLU(Z) # δ = δ * W * ReLU(Z)\n",
    "        X = layers.pop() # remove last layer from list\n",
    "        dJdW = X.T @ δ # dC/dW = δ * X\n",
    "        dJdWs.append(dJdW)\n",
    "    \n",
    "    # reverse list of gradients - it is currently from last to first\n",
    "    dJdWs.reverse() \n",
    "    # sanity checks\n",
    "    assert len(dJdWs) == len(Ws), (len(dJdWs), len(Ws))\n",
    "    for dJdW, W in zip(dJdWs, Ws):\n",
    "        assert dJdW.shape == W.shape, (dJdW.shape, W.shape)\n",
    "    return dJdWs"
   ]
  }
 ],
 "metadata": {
  "kernelspec": {
   "display_name": "Python 3 (ipykernel)",
   "language": "python",
   "name": "python3"
  },
  "language_info": {
   "codemirror_mode": {
    "name": "ipython",
    "version": 3
   },
   "file_extension": ".py",
   "mimetype": "text/x-python",
   "name": "python",
   "nbconvert_exporter": "python",
   "pygments_lexer": "ipython3",
   "version": "3.11.6"
  }
 },
 "nbformat": 4,
 "nbformat_minor": 5
}
