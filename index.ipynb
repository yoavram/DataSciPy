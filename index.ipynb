{
 "cells": [
  {
   "cell_type": "markdown",
   "metadata": {},
   "source": [
    "![Py4Eng](sessions/img/logo.png)\n",
    "\n",
    "# Data Science & Scientific Computing with Python\n",
    "## [Yoav Ram](http://python.yoavram.com)\n",
    "\n",
    "http://python.yoavram.com\n",
    "yoav@yoavram.com"
   ]
  },
  {
   "cell_type": "markdown",
   "metadata": {},
   "source": [
    "## Day 1: Advanced & Numerical Python\n",
    "- Iterators, generators & functional programming: [notebook](sessions/iteration.ipynb) | [solution](solutions/iteration.ipynb)\n",
    "- Numerical analysis with NumPy: [notebook](sessions/numpy.ipynb) | [solution](solutions/numpy.ipynb)\n",
    "- Plotting with Matplotlib: [notebook](sessions/matplotlib.ipynb) | [solution](solutions/matplotlib.ipynb)\n",
    "- Data analysis with Pandas and Plotly: [notebook](sessions/pandas-plotly.ipynb) | [solution](solutions/pandas-seaborn.ipynb)\n",
    "- Automation: [notebook](sessions/automation.ipynb)\n",
    "- Debugging: [notebook](sessions/debug.ipynb)\n",
    "- Profiling: [notebook](sessions/profiler.ipynb)\n",
    "\n",
    "### Exercises\n",
    "- NumPy: [assignment](exercises/numpy.ipynb) | [hints](exercises/numpy_hints.md) | [solution](solutions/numpy_solutions.ipynb)\n",
    "- Matplotlib: [assignment](exercises/matplotlib.ipynb) | [solution](solutions/matplotlib_ex.ipynb)\n",
    "- Pandas: [assignment](exercises/pandas.ipynb) | [solution](solutions/pandas.ipynb)"
   ]
  },
  {
   "cell_type": "markdown",
   "metadata": {},
   "source": [
    "## Day 2: Machine learning with Python\n",
    "- KNN: [notebook](sessions/KNN.ipynb) | [solution](solutions/KNN.ipynb) \n",
    "- Decision Trees & Random Forest: [notebook](sessions/trees.ipynb)\n",
    "- PCA, UMAP & Clustering: [PCA notebook](sessions/PCA.ipynb) | [solution](solutions/PCA.ipynb) | [Kmeans notebook](sessions/Kmeans.ipynb)\n",
    "- Density estimation: [notebook](sessions/density-estimation.ipynb)\n",
    "\n",
    "### Exercises\n",
    "- Regression on seeds dataset with KNN: [assignment](exercises/KNN_seeds.ipynb) | [solution](solutions/KNN_seeds.ipynb)\n",
    "- Classification on seeds dataset with decision trees: [assignment](exercises/trees.ipynb) | [solution](solutions/trees.ipynb)"
   ]
  },
  {
   "cell_type": "markdown",
   "metadata": {},
   "source": [
    "## Day 3: Statistics\n",
    "- Maximum likelihood estimation: [notebook](sessions/mle.ipynb) | [solution](solutions/mle.ipynb) \n",
    "- GLM - Linear Model: [notebook](sessions/linear-model.ipynb) | [solution](solutions/linear-model.ipynb) \n",
    "- GLM - Logistic Model: [notebook](sessions/logistic-model.ipynb) | [solution](solutions/logistic-model.ipynb)\n",
    "- GLM - Softmax model: [notebook](sessions/softmax-model.ipynb) \n",
    "\n",
    "### Additional material\n",
    "- Linear regression: [notebook](sessions/regression.ipynb) | [solution](solutions/regression.ipynb) \n",
    "- Logistic regression: [notebook](sessions/classification.ipynb) | [solution](solutions/regression.ipynb) \n",
    "\n",
    "### Exercises\n",
    "- Linear model: [assignment](exercises/linear-model.ipynb) | [solution](solutions/linear-anage.ipynb)\n",
    "- Logistic model: [assignment](exercises/logistic-tennis.ipynb) | [solution](solutions/logistic-tennis.ipynb)\n",
    "- Lasso regression: [assignment](exercises/lasso-linear.ipynb) | [solution](solutions/lasso-linear.ipynb)\n",
    "- Object detection and classification: [assignment](exercises/sign-lang.ipynb) | [solution](solutions/sign-lang.ipynb)"
   ]
  },
  {
   "cell_type": "markdown",
   "metadata": {},
   "source": [
    "## Day 4: Bayesian inference \n",
    "\n",
    "- Bayesian inference: [notebook](sessions/bayesian.ipynb) | [solution](solutions/bayesian.ipynb)\n",
    "- Robust regression: [notebook](sessions/robust-regression.ipynb)\n",
    "- Simulation-based inference: [notebook](sessions/sbi.ipynb)\n",
    "- Inference with ODE models: [notebook](sessions/bayesian_ode.ipynb)\n",
    "  \n",
    "### Exercises\n",
    "- COVID-19 hospital survival: [assignment](exercises/covid-survival.ipynb) | [solution](solutions/covid-survival.ipynb)\n",
    "- Warm vs cold blooded animals: [assignment](exercises/body-temp.ipynb) | [solution](solutions/body-temp.ipynb)\n",
    "- Simulaiton-based inference in the predator-prey model: [assignment](exercuses/gillespie-abc.ipynb) | [solution](solutions/gillespie-abc.ipynb)"
   ]
  },
  {
   "cell_type": "markdown",
   "metadata": {},
   "source": [
    "## Jupyter help\n",
    "\n",
    "- Use autocompletion by pressing `Tab`. \n",
    " - In the middle of a word it will try to finish the variable name.\n",
    " - Just after a dot (`.`) it will try to bring up a menu of methods and attributes; the variable before the dot must already be defined.\n",
    "- Use documentation by pressing `Shift+Tab`; this is especially useful inside a function parentheses as it will show the function arguments, but it can be used anywhere. Again, variables must already be defined."
   ]
  }
 ],
 "metadata": {
  "kernelspec": {
   "display_name": "Python [conda env:DataSciPy]",
   "language": "python",
   "name": "conda-env-DataSciPy-py"
  },
  "language_info": {
   "codemirror_mode": {
    "name": "ipython",
    "version": 3
   },
   "file_extension": ".py",
   "mimetype": "text/x-python",
   "name": "python",
   "nbconvert_exporter": "python",
   "pygments_lexer": "ipython3",
   "version": "3.12.7"
  },
  "toc-showtags": false
 },
 "nbformat": 4,
 "nbformat_minor": 4
}
