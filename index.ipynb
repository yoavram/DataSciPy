{
 "cells": [
  {
   "cell_type": "markdown",
   "metadata": {},
   "source": [
    "![Py4Eng](sessions/img/logo.png)\n",
    "\n",
    "# Introduction to Deep Learning\n",
    "\n",
    "## [Yoav Ram](http://python.yoavram.com)\n",
    "\n",
    "http://python.yoavram.com\n",
    "yoav@yoavram.com"
   ]
  },
  {
   "cell_type": "markdown",
   "metadata": {},
   "source": [
    "## Day 1\n",
    "\n",
    "- [Maximum likelihood estimation](sessions/mle.ipynb)\n",
    "- [Linear regression](sessions/linear_regression.ipynb)\n",
    "- [Gamma regression](sessions/gamma_regression.ipynb)\n",
    "- [Robust regression](sessions/robust-regression.ipynb)\n",
    "\n",
    "### Exercises\n",
    "- Linear regression: [assignment](exercises/linear-anage.ipynb) | [solution](solutions/linear-anage.ipynb)\n",
    "- Object detection: **Ex 1** in [assignment](exercises/sign-lang.ipynb) | [solution](solutions/sign-lang.ipynb)\n",
    "  "
   ]
  },
  {
   "cell_type": "markdown",
   "metadata": {},
   "source": [
    "## Day 2\n",
    "- [Logistic regression](sessions/logistic_regression.ipynb) \n",
    "- [Softmax model](sessions/softmax_regression.ipynb)\n",
    "- [Feed forward networks](sessions/FFN.ipynb) | [solution](solutions/FFN.ipynb)\n",
    "\n",
    "###  Exercises\n",
    "- Ridge regression: [assignment](exercises/ridge.ipynb) | [solution](solutions/ridge.ipynb)\n",
    "- Go back to the [FFN notebook](sessions/FFN.ipynb) and finish implementing the `feed_forward` and `back_propagation` functions to work on arbitrary number of layers | [solution](solutions/FFN.ipynb)"
   ]
  },
  {
   "cell_type": "markdown",
   "metadata": {},
   "source": [
    "## Day 3\n",
    "- [Feed forward networks with Keras](sessions/K_FFN.ipynb) | [solution](solutions/K_FFN.ipynb)\n",
    "- [Convolutional networks with Keras](sessions/K_CNN.ipynb)\n",
    "- [CNN with time series data](sessions/CNN_timeseries.ipynb)\n",
    "- [CNN with audio data](sessions/audio.ipynb)\n",
    "- [Pre-trained models](sessions/pretrained.ipynb)\n",
    "\n",
    "### Exercises\n",
    "- CNN on MNIST-Fashion: [assignment](exercises/CNN.ipynb) | [solution](solutions/CNN.ipynb)\n",
    "- Object classification: **Ex 2** in [assignment](exercises/sign-lang.ipynb) | [solution](solutions/sign-lang.ipynb)\n",
    "- [CNN regression with audio data](exercises/audio.ipynb) | [solution](solutions/audio.ipynb)  "
   ]
  },
  {
   "cell_type": "markdown",
   "metadata": {},
   "source": [
    "## Day 4\n",
    "- [Recurrent neural networks with JAX](sessions/RNN.ipynb)\n",
    "- [Gated recurrent networks with JAX](sessions/GRU.ipynb)\n",
    "- [Keras Functional API](sessions/functional_keras.ipynb) | [solution](solutions/functional_keras.ipynb)\n",
    "- [Autoencoders](sessions/autoencoders.ipynb)\n",
    "- [Generative adversarial networks](sessions/GAN.ipynb)\n",
    "- [Transformers: text](sessions/transformer_text.ipynb)\n",
    "- [Transformers: time series](sessions/transformer_ts.ipynb)\n",
    "\n",
    "### Exercises\n",
    "- [Long Short Term Memory](exercises/LSTM.ipynb) | [solution](solutions/LSTM.ipynb)\n",
    "- [Simple GAN](exercises/GAN.ipynb) | [solution](solutions/GAN.ipynb)\n",
    "- [Auxilary Classifier Generative adversarial networks](exercises/ACGAN.ipynb) | [solution](solutions/ACGAN.ipynb)"
   ]
  },
  {
   "cell_type": "markdown",
   "metadata": {},
   "source": [
    "## Jupyter help\n",
    "\n",
    "- Use autocompletion by pressing `Tab`. \n",
    " - In the middle of a word it will try to finish the variable name.\n",
    " - Just after a dot (`.`) it will try to bring up a menu of methods and attributes; the variable before the dot must already be defined.\n",
    "- Use documentation by pressing `Shift+Tab`; this is especially useful inside a function parentheses as it will show the function arguments, but it can be used anywhere. Again, variables must already be defined."
   ]
  },
  {
   "cell_type": "markdown",
   "metadata": {},
   "source": [
    "## Terminal\n",
    "\n",
    "To open a terminal inside Jupyter, choose `File->New...->Terminal` in the top menu."
   ]
  },
  {
   "cell_type": "markdown",
   "metadata": {},
   "source": [
    "## GPU\n",
    "\n",
    "- If you access a GPU from two notebooks, your kernel will get stuck. Quit all kernels before starting a new session. You can quit kernels by clicking the square-in-a-circle icon on the left (Jupyter Lab), or going to the dashboard and then the [_running_ tab](http://localhost:8888/tree#running) (Jupyter notebook).\n",
    "- To use Keras with JAX backend:\n",
    "```python\n",
    "import os\n",
    "os.environ['KERAS_BACKEND'] = 'jax'\n",
    "import keras\n",
    "```\n",
    "- `gpustat` is a utility that allows to monitor the GPU, including its work load, memory load, and temperature, \n",
    "so you can see that the GPU works when you train your networks.\n",
    "This is only useful on a machine with a GPU, for example, on AWS VMs.\n",
    "\n",
    "- Open a terminal inside Jupyter (see above).\n",
    "- Install the utility with `python -m pip install gpustat`\n",
    "- Run it with `gpustat -cp -i 0.1` (the 0.1 determines that update rate in seconds)."
   ]
  },
  {
   "cell_type": "markdown",
   "metadata": {},
   "source": [
    "## Monitoring CPU\n",
    "\n",
    "To monitor CPU of your programs:\n",
    "- Open a terminal window (see above).\n",
    "- Run `htop`.\n",
    "- If `htop` is not available, you can install another program: `python -m pip install glances` and then run `glances -1 -4`."
   ]
  }
 ],
 "metadata": {
  "kernelspec": {
   "display_name": "Python [conda env:DataSciPy]",
   "language": "python",
   "name": "conda-env-DataSciPy-py"
  },
  "language_info": {
   "codemirror_mode": {
    "name": "ipython",
    "version": 3
   },
   "file_extension": ".py",
   "mimetype": "text/x-python",
   "name": "python",
   "nbconvert_exporter": "python",
   "pygments_lexer": "ipython3",
   "version": "3.12.7"
  },
  "toc-showtags": false
 },
 "nbformat": 4,
 "nbformat_minor": 4
}
