{
 "cells": [
  {
   "cell_type": "markdown",
   "metadata": {},
   "source": [
    "![Py4Eng](sessions/img/logo.png)\n",
    "\n",
    "# Data Science & Scientific Computing with Python\n",
    "## [Yoav Ram](http://python.yoavram.com)\n",
    "\n",
    "http://python.yoavram.com\n",
    "yoav@yoavram.com"
   ]
  },
  {
   "cell_type": "markdown",
   "metadata": {},
   "source": [
    "## Introduction to Python \n",
    "- Introduction to Python: [notebook](sessions/python.ipynb)\n",
    "- Input & Output: [notebook](sessions/io.ipynb)\n",
    "- Automation: [notebook](sessions/automation.ipynb)\n",
    "- Debugging: [notebook](sessions/debug.ipynb)\n",
    "- Profiling: [notebook](sessions/profiler.ipynb)\n",
    "- Iterators, generators & functional programming: [notebook](sessions/iteration.ipynb) | [solution](solutions/iteration.ipynb)\n",
    "\n",
    "## Numerical Python\n",
    "- Numerical analysis with NumPy: [notebook](sessions/numpy.ipynb) | [solution](solutions/numpy.ipynb)\n",
    "- Plotting with Matplotlib: [notebook](sessions/matplotlib.ipynb) | [solution](solutions/matplotlib.ipynb)\n",
    "- Data analysis with Pandas and Seaborn: [notebook](sessions/pandas-seaborn.ipynb) | [solution](solutions/pandas-seaborn.ipynb)\n",
    "\n",
    "### Exercises\n",
    "- NumPy: [assignment](exercises/numpy.ipynb) | [hints](exercises/numpy_hints.md) | [solution](solutions/numpy_solutions.md)\n",
    "- Matplotlib: [assignment](exercises/matplotlib.ipynb) | [solution](solutions/matplotlib_ex.ipynb)\n",
    "- Pandas: [assignment](exercises/pandas.ipynb) | [solution](solutions/pandas.ipynb)"
   ]
  },
  {
   "cell_type": "markdown",
   "metadata": {
    "vscode": {
     "languageId": "plaintext"
    }
   },
   "source": [
    "## CLI\n",
    "- [zcat with `sysargv`](scripts/zcat.py)\n",
    "- [zcat with `click`](scripts/zcat2.py)\n",
    "\n",
    "## GUI\n",
    "- [Hello Tk](scripts/hello_tk.py)\n",
    "- [Hello PyGubu](scripts/hello_pygubu.py) | [UI](scripts/hello_pygubu.ui)\n",
    "- [Notepad](scripts/notepad.py) | [UI](scripts/notepad.ui)\n",
    "- [Matplotlib interactive: snap to line](scripts/mpl_snap.py)\n",
    "- [Matplotlib interactive: draw polygon](scripts/mpl_polygon.py)\n",
    "- [Matplotlib in Tk](scripts/tk_matplotlib.py)"
   ]
  },
  {
   "cell_type": "markdown",
   "metadata": {},
   "source": [
    "## Machine learning with Scikit-learn\n",
    "- KNN: [notebook](sessions/KNN.ipynb) | [solution](solutions/KNN.ipynb) \n",
    "- Decision Trees & Random Forest: [notebook](sessions/trees.ipynb)\n",
    "- Linear regression: [notebook](sessions/regression.ipynb) | [solution](solutions/regression.ipynb) \n",
    "- Logistic regression: [notebook](sessions/classification.ipynb) | [solution](solutions/regression.ipynb) \n",
    "- PCA, UMAP & Clustering: [PCA notebook](sessions/PCA.ipynb) | [solution](solutions/PCA.ipynb) | [Kmeans notebook](sessions/Kmeans.ipynb)\n",
    "- Density estimation: [notebook](sessions/density-estimation.ipynb)\n",
    "\n",
    "\n",
    "### Exercises\n",
    "- Regression on seeds dataset with KNN: [assignment](exercises/KNN_seeds.ipynb) | [solution](solutions/KNN_seeds.ipynb)\n",
    "- Classification on seeds dataset with decision trees: [assignment](exercises/trees.ipynb) | [solution](solutions/trees.ipynb)\n",
    "- Linear regression: [assignment](exercises/linear-model.ipynb) | [solution](solutions/linear-anage.ipynb)\n",
    "- Logistic regression: [assignment](exercises/logistic-tennis.ipynb) | [solution](solutions/logistic-tennis.ipynb)\n",
    "- Lasso regression: [assignment](exercises/lasso-linear.ipynb) | [solution](solutions/lasso-linear.ipynb)"
   ]
  },
  {
   "cell_type": "markdown",
   "metadata": {},
   "source": [
    "## Jupyter help\n",
    "\n",
    "- Use autocompletion by pressing `Tab`. \n",
    " - In the middle of a word it will try to finish the variable name.\n",
    " - Just after a dot (`.`) it will try to bring up a menu of methods and attributes; the variable before the dot must already be defined.\n",
    "- Use documentation by pressing `Shift+Tab`; this is especially useful inside a function parentheses as it will show the function arguments, but it can be used anywhere. Again, variables must already be defined."
   ]
  }
 ],
 "metadata": {
  "kernelspec": {
   "display_name": "Python [conda env:DataSciPy]",
   "language": "python",
   "name": "conda-env-DataSciPy-py"
  },
  "language_info": {
   "codemirror_mode": {
    "name": "ipython",
    "version": 3
   },
   "file_extension": ".py",
   "mimetype": "text/x-python",
   "name": "python",
   "nbconvert_exporter": "python",
   "pygments_lexer": "ipython3",
   "version": "3.13.3"
  },
  "toc-showtags": false
 },
 "nbformat": 4,
 "nbformat_minor": 4
}
