{
 "cells": [
  {
   "cell_type": "markdown",
   "metadata": {},
   "source": [
    "![Py4Eng](sessions/img/logo.png)\n",
    "\n",
    "# Introduction to Deep Learning with Python\n",
    "## [Yoav Ram](http://python.yoavram.com)\n",
    "\n",
    "http://python.yoavram.com\n",
    "yoav@yoavram.com"
   ]
  },
  {
   "cell_type": "markdown",
   "metadata": {},
   "source": [
    "## Day 1\n",
    "- Linear Model: [notebook](sessions/linear-model.ipynb) | [solution](solutions/linear-model.ipynb) \n",
    "- Logistic Model: [notebook](sessions/logistic-model.ipynb) | [solution](solutions/logistic-model.py)"
   ]
  },
  {
   "cell_type": "markdown",
   "metadata": {},
   "source": [
    "### Assignments\n",
    "\n",
    "- Linear model: [assignment](exercises/linear-model.ipynb) | [solution](solutions/linear-anage.ipynb)\n",
    "- Lasso: [assignment](exercises/lasso.ipynb) | [solution](solutions/lasso.ipynb)\n",
    "- Logistic model: [assignment](exercises/logistic-tennis.ipynb) | [solution](solutions/logistic-tennis.ipynb)\n",
    "- Object detection: only **Ex 1** in [assignment](exercises/sign-lang.ipynb) | [solution](solutions/sign-lang.ipynb)"
   ]
  },
  {
   "cell_type": "markdown",
   "metadata": {},
   "source": [
    "## Day 2\n",
    "\n",
    "- Softmax model: [notebook](sessions/softmax-model.ipynb) | [solution](solutions/softmax-model.py) \n",
    "- Feed forward networks: [notebook](sessions/FFN.ipynb) | [solution](solutions/FFN.py)"
   ]
  },
  {
   "cell_type": "markdown",
   "metadata": {},
   "source": [
    "### Assignments\n",
    "- Go back to the [FFN notebook](sessions/FFN.ipynb) and finish implementing the `feed_forward` and `back_propagation` functions to work on arbitrary number of layers | [solution](solutions/FFN.py)\n",
    "- FFN generative model: [assignment](exercises/FFN_GenModel.ipynb) | [solution](solutions/FFN_GenModel.ipynb)"
   ]
  },
  {
   "cell_type": "markdown",
   "metadata": {},
   "source": [
    "## Day 3\n",
    "- Feed forward networks with Keras: [notebook](sessions/K_FFN.ipynb) | [solution](solutions/K_FFN.ipynb)\n",
    "- Convolutional networks with Keras: [notebook](sessions/K_CNN.ipynb)\n",
    "\n",
    "**Note** If you access a GPU from two notebooks, your kernel will get stuck. Quit all kernels before starting a new session. You can quit kernels by clicking the square-in-a-circle icon on the left (Jupyter Lab), or going to the dashboard and then the [_running_ tab](http://localhost:8888/tree#running) (Jupyter notebook).\n",
    "\n",
    "### Assignments\n",
    "- [CNN assignment](exercises/CNN.ipynb) | [CNN solution](solutions/CNN.ipynb)\n",
    "- Object classification: [assignment](exercises/sign-lang-2.ipynb) | [solution](solutions/sign-lang.ipynb)"
   ]
  },
  {
   "cell_type": "markdown",
   "metadata": {},
   "source": [
    "## Day 4\n",
    "- Pre-trained models: [notebook](sessions/pretrained.ipynb)\n",
    "- Recurrent neural networks: [notebook](sessions/RNN.ipynb)\n",
    "\n",
    "### Assignments\n",
    "- [RNN assignment](exercises/RNN.ipynb) | [solution](solutions/RNN.ipynb)"
   ]
  },
  {
   "cell_type": "markdown",
   "metadata": {},
   "source": [
    "## Day 5\n",
    "- Functional API & Autoencoders: [notebook](sessions/autoencoders.ipynb) | [solution](solutions/functional_keras.ipynb)\n",
    "- Generative adversarial networks: [notebook](sessions/GAN.ipynb)\n",
    "- Convolutional networks with spectral data: [notebook](sessions/audio.ipynb)\n",
    "\n",
    "### Assignments\n",
    "- [GAN assignment 1](exercises/GAN.ipynb) | [solution 1](solutions/GAN.ipynb) \n",
    "- [GAN assignment 2](exercises/ACGAN.ipynb) | [solution 2](solutions/ACGAN.ipynb)\n",
    "- [Audio assignment](exercises/audio.ipynb) | [solution](solutions/audio.ipynb)"
   ]
  },
  {
   "cell_type": "markdown",
   "metadata": {},
   "source": [
    "## Jupyter help\n",
    "\n",
    "- Use autocompletion by pressing `Tab`. \n",
    " - In the middle of a word it will try to finish the variable name.\n",
    " - Just after a dot (`.`) it will try to bring up a menu of methods and attributes; the variable before the dot must already be defined.\n",
    "- Use documentation by pressing `Shift+Tab`; this is especially useful inside a function parentheses as it will show the function arguments, but it can be used anywhere. Again, variables must already be defined."
   ]
  },
  {
   "cell_type": "markdown",
   "metadata": {},
   "source": [
    "## Terminal\n",
    "\n",
    "To open a terminal inside Jupyter, choose `File->New...->Terminal` in the top menu."
   ]
  },
  {
   "cell_type": "markdown",
   "metadata": {},
   "source": [
    "## Monitoring CPU\n",
    "\n",
    "To monitor CPU of your programs:\n",
    "- Open a terminal window (see above).\n",
    "- Run `htop`.\n",
    "- If `htop` is not available, you can install another program: `python -m pip install glances` and then run `glances -1 -4`."
   ]
  },
  {
   "cell_type": "markdown",
   "metadata": {},
   "source": [
    "## Monitoring GPU\n",
    "\n",
    "`gpustat` is a utility that allows to monitor the GPU, including its work load, memory load, and temperature, \n",
    "so you can see that the GPU works when you train your networks.\n",
    "This is only useful on a machine with a GPU, for example, on AWS VMs.\n",
    "\n",
    "- Open a terminal inside Jupyter (see above).\n",
    "- Install the utility with `python -m pip install gpustat`\n",
    "- Run it with `gpustat -cp -i 0.1` (the 0.1 determines that update rate in seconds)."
   ]
  }
 ],
 "metadata": {
  "kernelspec": {
   "display_name": "Python 3 (ipykernel)",
   "language": "python",
   "name": "python3"
  },
  "language_info": {
   "codemirror_mode": {
    "name": "ipython",
    "version": 3
   },
   "file_extension": ".py",
   "mimetype": "text/x-python",
   "name": "python",
   "nbconvert_exporter": "python",
   "pygments_lexer": "ipython3",
   "version": "3.9.2"
  },
  "toc-showtags": false
 },
 "nbformat": 4,
 "nbformat_minor": 4
}
