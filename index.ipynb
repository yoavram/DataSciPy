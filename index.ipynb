{
 "cells": [
  {
   "cell_type": "markdown",
   "metadata": {},
   "source": [
    "[![Py4Eng](sessions/img/logo.png)](http://python.yoavram.com)\n",
    "\n",
    "# [Data Science with Python](http://landa.yoavram.com)"
   ]
  },
  {
   "cell_type": "markdown",
   "metadata": {},
   "source": [
    "## Day 1\n",
    "\n",
    "1. [Types and operators](sessions/types-operators.ipynb)\n",
    "1. [Flow control](sessions/if-while.ipynb)\n",
    "1. [Sequences](sessions/strings-lists-loops.ipynb)\n",
    "1. [Dictionaries](sessions/dictionaries.ipynb)\n",
    "1. [Functions](sessions/functions.ipynb)\n",
    "1. [Memory model](sessions/memory-model.ipynb)"
   ]
  },
  {
   "cell_type": "markdown",
   "metadata": {},
   "source": [
    "### Exercises\n",
    "\n",
    "1. [Largest product in a series](https://projecteuler.net/problem=8)\n",
    "1. [Largest product in a grid](https://projecteuler.net/problem=11)\n",
    "1. [Longest Collatz series](https://projecteuler.net/problem=14)\n",
    "1. [Lexicographic permutations](https://projecteuler.net/problem=24)\n",
    "1. [Goldbach's other conjecture](https://projecteuler.net/problem=46)"
   ]
  },
  {
   "cell_type": "markdown",
   "metadata": {},
   "source": [
    "## Day 2\n",
    "\n",
    "1. [Errors and exceptions](sessions/exceptions.ipynb)\n",
    "1. [I/O](sessions/io.ipynb)\n",
    "1. [Iteration](sessions/iteration.ipynb)\n",
    "1. [Object-oriented programming](sessions/oop.ipynb)\n",
    "1. [Modules](sessions/modules.ipynb)"
   ]
  },
  {
   "cell_type": "markdown",
   "metadata": {},
   "source": [
    "### Exercises \n",
    "1. [Max overlap concatenation](http://www.cs.tau.ac.il/courses/pyProg/1415a/hw/hw8/ex8.zip)\n",
    "1. [Shellsort (includes solution, scroll gently)](http://interactivepython.org/runestone/static/pythonds/SortSearch/TheShellSort.html)\n",
    "1. [The cipher challenge, stage 1: Simple Monoalphabetic Substitution Cipher](http://simonsingh.net/cryptography/cipher-challenge/the-ciphertexts/stage-1/)\n",
    "1. [Ray-casting algorithm](http://rosettacode.org/wiki/Ray-casting_algorithm)\n",
    "1. [Miller-Rabin primality test](http://rosettacode.org/wiki/Miller%E2%80%93Rabin_primality_test)"
   ]
  },
  {
   "cell_type": "markdown",
   "metadata": {},
   "source": [
    "## Day 3\n",
    "\n",
    "1. Numerical Python with NumPy: [notebook](sessions/numpy.ipynb) | [solution](solutions/numpy.ipynb)\n",
    "1. Plotting with Matplotlib: [notebook](sessions/matplotlib.ipynb) | [solution](solutions/matplotlib.ipynb)\n",
    "1. Data analysis with Pandas and Seaborn: [notebook](sessions/pandas-seaborn.ipynb) | [solution](solutions/pandas-seaborn.ipynb)"
   ]
  },
  {
   "cell_type": "markdown",
   "metadata": {},
   "source": [
    "### Exercises\n",
    "\n",
    "- [100 NumPy exercises](https://github.com/rougier/numpy-100/blob/master/100_Numpy_exercises_no_solution.ipynb): do at least 25.\n",
    "- Pandas and Seabon: [exercise](exercises/pandas.ipynb) | [solution](solutions/pandas.ipynb)"
   ]
  },
  {
   "cell_type": "markdown",
   "metadata": {},
   "source": [
    "## Day 4: \n",
    "\n",
    "1. Image processing: [notebook](sessions/image-processing.ipynb) | [solution](solutions/image-processing.py)\n",
    "1. Supervised learning - classification: [notebook](sessions/classification.ipynb) | [solution](solutions/scikit-learn.ipynb)\n",
    "1. Supervised learning - regression: [notebook](sessions/regression.ipynb) | [solution](solutions/scikit-learn.ipynb)\n",
    "1. Unsupervised learning - PCA & clustering: [notebook](sessions/PCA.ipynb) | [solution](solutions/PCA.ipynb)"
   ]
  },
  {
   "cell_type": "markdown",
   "metadata": {},
   "source": [
    "### Exercises \n",
    "\n",
    "- [Linear model](exercises/linear-model.ipynb) | [solution](solutions/linear-model.py) \n",
    "- [Logistic model](exercises/logistic-tennis.ipynb) | [solution](solutions/logistic-tennis.py)\n",
    "- [Object detection](exercises/sign-lang.pdf) | [solution](solutions/sign-lang.ipynb)"
   ]
  },
  {
   "cell_type": "markdown",
   "metadata": {},
   "source": [
    "## Jupyter help\n",
    "\n",
    "- Use autocompletion by pressing `Tab`. \n",
    " - In the middle of a word it will try to finish the variable name.\n",
    " - Just after a dot (`.`) it will try to bring up a menu of methods and attributes; the variable before the dot must already be defined.\n",
    "- Use documentation by pressing `Shift+Tab`; this is especially useful inside a function parentheses as it will show the function arguments, but it can be used anywhere. Again, variables must already be defined."
   ]
  },
  {
   "cell_type": "markdown",
   "metadata": {},
   "source": [
    "## Terminal\n",
    "\n",
    "To open a terminal inside Jupyter, choose `File->New...->Terminal` in the top menu."
   ]
  },
  {
   "cell_type": "markdown",
   "metadata": {},
   "source": [
    "## Monitoring CPU\n",
    "\n",
    "To monitor CPU of your programs:\n",
    "- Open a terminal window (see above).\n",
    "- Run `htop`.\n",
    "- If `htop` is not available, you can install another program: `python -m pip install glances` and then run `glances -1 -4`."
   ]
  }
 ],
 "metadata": {
  "kernelspec": {
   "display_name": "Python 3 (ipykernel)",
   "language": "python",
   "name": "python3"
  },
  "language_info": {
   "codemirror_mode": {
    "name": "ipython",
    "version": 3
   },
   "file_extension": ".py",
   "mimetype": "text/x-python",
   "name": "python",
   "nbconvert_exporter": "python",
   "pygments_lexer": "ipython3",
   "version": "3.9.2"
  }
 },
 "nbformat": 4,
 "nbformat_minor": 4
}
