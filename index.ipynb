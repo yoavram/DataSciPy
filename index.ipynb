{
 "cells": [
  {
   "cell_type": "markdown",
   "metadata": {},
   "source": [
    "![Py4Eng](sessions/img/logo.png)\n",
    "\n",
    "# Data Science with Python\n",
    "## [Yoav Ram](http://python.yoavram.com)"
   ]
  },
  {
   "cell_type": "markdown",
   "metadata": {},
   "source": [
    "# Day 1\n",
    "- KNN: [notebook](sessions/KNN.ipynb) | [solution](solutions/KNN.ipynb) \n",
    "- Movies recommendations with KNN: [notebook](sessions/movies.ipynb)\n",
    "- Decision Trees & Random Forest: [notebook](sessions/trees.ipynb)\n",
    "\n",
    "## Exercises\n",
    "- KNN regression with the seeds dataset: [assignment](exercises/KNN_reg.ipynb) | [solution](solutions/KNN_reg.ipynb)\n",
    "- Seeds dataset with decision trees: [assignment](exercises/trees.ipynb) | [solution](solutions/trees.ipynb)"
   ]
  },
  {
   "cell_type": "markdown",
   "metadata": {},
   "source": [
    "# Day 2\n",
    "\n",
    "- Statistical inference: [notebook](sessions/statistics.ipynb)\n",
    "- Linear Model: [notebook](sessions/linear-model.ipynb) | [solution](solutions/linear-model.ipynb) \n",
    "\n",
    "## Exercises\n",
    "- Linear model: [assignment](exercises/linear-anage.ipynb) | [solution](solutions/linear-anage.ipynb)\n",
    "- Lasso: [assignment](exercises/lasso.ipynb) | [solution](solutions/lasso.ipynb)\n",
    "- Object detection: only **Ex 1** in [assignment](exercises/sign-lang.ipynb) | [solution](solutions/sign-lang.ipynb)"
   ]
  },
  {
   "cell_type": "markdown",
   "metadata": {},
   "source": [
    "# Day 3\n",
    "- Logistic Model: [notebook](sessions/logistic-model.ipynb) | [solution](solutions/logistic-model.py)\n",
    "- Softmax model: [notebook](sessions/softmax-model.ipynb) | [solution](solutions/softmax-model.py) \n",
    "\n",
    "## Exercises\n",
    "- Logistic model: [assignment](exercises/logistic-tennis.ipynb) | [solution](solutions/logistic-tennis.ipynb)"
   ]
  },
  {
   "cell_type": "markdown",
   "metadata": {},
   "source": [
    "# Day 4\n",
    "\n",
    "- Feed forward networks: [notebook](sessions/FFN.ipynb) | [solution](solutions/FFN.py)\n",
    "- PCA: [notebook](sessions/PCA.ipynb) | [solution](solutions/PCA.ipynb)\n",
    "- Density estimation: [notebook](sessions/density-estimation.ipynb) \n",
    "\n",
    "## Exercises\n",
    "- Go back to the [FFN notebook](sessions/FFN.ipynb) and finish implementing the `feed_forward` and `back_propagation` functions to work on arbitrary number of layers | [solution](solutions/FFN.py)\n",
    "- FFN with Scikit-learn: [assignment](exercises/FFN.ipynb) | [solution](solutions/FFN.ipynb)\n",
    "- Kmeans: [assignment](exercises/Kmeans.ipynb) | [solution](solutions/Kmeans.ipynb)"
   ]
  },
  {
   "cell_type": "markdown",
   "metadata": {},
   "source": [
    "# Day 5\n",
    "- Bayesian inference: [notebook](sessions/bayesian.ipynb) | [solution](solutions/bayesian.ipynb)\n",
    "- Approximate Bayesian computation: [notebook](sessions/ABC.ipynb)\n",
    "\n",
    "## Exercises\n",
    "- Warm vs cold blooded animals: [assignment](exercises/body-temp.ipynb) | [solution](solutions/body-temp.ipynb)\n",
    "- COVID-19 hospital survial: [assignment](exercises/covid-survival.ipynb) | [solution](solutions/covid-survival.ipynb)\n",
    "- Robust regression: [assignment](exercises/robust-regression.ipynb) | [solution](solutions/robust-regression.ipynb)\n"
   ]
  },
  {
   "cell_type": "markdown",
   "metadata": {},
   "source": [
    "## Jupyter help\n",
    "\n",
    "- Use autocompletion by pressing `Tab`. \n",
    " - In the middle of a word it will try to finish the variable name.\n",
    " - Just after a dot (`.`) it will try to bring up a menu of methods and attributes; the variable before the dot must already be defined.\n",
    "- Use documentation by pressing `Shift+Tab`; this is especially useful inside a function parentheses as it will show the function arguments, but it can be used anywhere. Again, variables must already be defined."
   ]
  },
  {
   "cell_type": "markdown",
   "metadata": {},
   "source": [
    "## Terminal\n",
    "\n",
    "To open a terminal inside Jupyter, choose `File->New...->Terminal` in the top menu."
   ]
  }
 ],
 "metadata": {
  "kernelspec": {
   "display_name": "Python 3 (ipykernel)",
   "language": "python",
   "name": "python3"
  },
  "language_info": {
   "codemirror_mode": {
    "name": "ipython",
    "version": 3
   },
   "file_extension": ".py",
   "mimetype": "text/x-python",
   "name": "python",
   "nbconvert_exporter": "python",
   "pygments_lexer": "ipython3",
   "version": "3.9.2"
  },
  "toc-showtags": false
 },
 "nbformat": 4,
 "nbformat_minor": 4
}
