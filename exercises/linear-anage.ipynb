{
 "cells": [
  {
   "cell_type": "markdown",
   "metadata": {},
   "source": [
    "# Linear model: AnAge\n",
    "\n",
    "We will analyze animal life-history data from [AnAge](http://genomics.senescence.info/download.html#anage). \n",
    "Specifically, we will try to find to examine [Kleiber's law](https://en.wikipedia.org/wiki/Kleiber%27s_law) which suggests that the metabolic rate of animals is proportional to their body mass raised to power 3/4, that is:\n",
    "$$\n",
    "W \\sim m^{3/4}\n",
    "$$\n",
    "where $W$ is metabolic rate and $m$ is body mass.\n",
    "\n",
    "The data is in the file `../data/anage_data.txt`.\n",
    "\n",
    "First, remove rows in which the body mass is `NaN`.\n",
    "Second, plot the linear regression line for the entire dataset (you can use [`sns.lmplot`](http://seaborn.pydata.org/generated/seaborn.lmplot.html#seaborn.lmplot)).\n",
    "Third, calculate a separate linear regression for each value of the `Class` column. Try to use [`df.groupby`](http://pandas.pydata.org/pandas-docs/stable/groupby.html) and iterate over the resulting data grouped dataframe.\n",
    "Fourth, plot a separate scatterplot and linear regression plot for each classes (you can use [`sns.lmplot`](http://seaborn.pydata.org/generated/seaborn.lmplot.html#seaborn.lmplot))."
   ]
  }
 ],
 "metadata": {
  "kernelspec": {
   "display_name": "Python 3",
   "language": "python",
   "name": "python3"
  },
  "language_info": {
   "codemirror_mode": {
    "name": "ipython",
    "version": 3
   },
   "file_extension": ".py",
   "mimetype": "text/x-python",
   "name": "python",
   "nbconvert_exporter": "python",
   "pygments_lexer": "ipython3",
   "version": "3.9.2"
  }
 },
 "nbformat": 4,
 "nbformat_minor": 4
}
