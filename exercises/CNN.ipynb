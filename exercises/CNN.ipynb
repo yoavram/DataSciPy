{
 "cells": [
  {
   "cell_type": "markdown",
   "metadata": {},
   "source": [
    "# CNN: Fashion-MNIST \n",
    "\n",
    "This is a dataset of 60,000 28x28 grayscale images of 10 fashion categories, along with a test set of 10,000 images. This dataset can be used as a drop-in replacement for MNIST. The class labels are:\n",
    "\n",
    "\n",
    "| Label |\tDescription|\n",
    "|---|------------------|\n",
    "| 0 |\tT-shirt/top    |\n",
    "| 1 |\tTrouser        |\n",
    "| 2 |\tPullover       |\n",
    "| 3 |\tDress          |\n",
    "| 4 |\tCoat           |\n",
    "| 5 |\tSandal         |\n",
    "| 6 |\tShirt          |\n",
    "| 7 |\tSneaker        |\n",
    "| 8 |\tBag            |\n",
    "| 9 |\tAnkle boot     |\n",
    "\n",
    "See [keras docs](https://keras.io/datasets/).\n",
    "\n",
    "In this exercise we will train a CNN on the dataset.\n",
    "The [solution](../solutions/CNN.ipynb) is in the `solutions` folder.\n",
    "\n",
    "We'll get the data via [`keras.datasets`](https://keras.io/datasets/)."
   ]
  },
  {
   "cell_type": "code",
   "execution_count": 1,
   "metadata": {},
   "outputs": [
    {
     "name": "stdout",
     "output_type": "stream",
     "text": [
      "Keras: 3.6.0 backend: jax cpu\n"
     ]
    }
   ],
   "source": [
    "%matplotlib inline\n",
    "import matplotlib.pyplot as plt\n",
    "import pickle\n",
    "import jax\n",
    "import keras\n",
    "print('Keras:', keras.__version__, 'backend:', keras.backend.backend(), jax.default_backend())"
   ]
  },
  {
   "cell_type": "code",
   "execution_count": 2,
   "metadata": {},
   "outputs": [],
   "source": [
    "(x_train, y_train), (x_test, y_test) = keras.datasets.fashion_mnist.load_data()"
   ]
  },
  {
   "cell_type": "markdown",
   "metadata": {},
   "source": [
    "We need to convert the images to a float32 between 0 and 1 and reshape to 28x28x1 (only one channel for black and white) because 2D convolutions expect 3D images (3rd dimension is channel or image).\n",
    "\n",
    "We also need to one-hot encode the labels."
   ]
  },
  {
   "cell_type": "code",
   "execution_count": 4,
   "metadata": {},
   "outputs": [],
   "source": [
    "x_train = x_train.astype('float32')\n",
    "x_test = x_test.astype('float32')\n",
    "x_train /= 255\n",
    "x_test /= 255\n",
    "x_train = x_train.reshape((-1, 28, 28, 1))\n",
    "x_test = x_test.reshape((-1, 28, 28, 1))\n",
    "\n",
    "y_train = keras.utils.to_categorical(y_train, 10)\n",
    "y_test = keras.utils.to_categorical(y_test, 10)\n",
    "num_classes = y_test.shape[1]"
   ]
  },
  {
   "cell_type": "markdown",
   "metadata": {},
   "source": [
    "Let's see the images."
   ]
  },
  {
   "cell_type": "code",
   "execution_count": 5,
   "metadata": {},
   "outputs": [
    {
     "name": "stdout",
     "output_type": "stream",
     "text": [
      "[1. 0. 0. 0. 0. 0. 0. 0. 0. 0.]\n"
     ]
    },
    {
     "data": {
      "image/png": "[encoded data removed]",
      "image/svg+xml": [
       "<?xml version=\"1.0\" encoding=\"utf-8\" standalone=\"no\"?>\n",
       "<!DOCTYPE svg PUBLIC \"-//W3C//DTD SVG 1.1//EN\"\n",
       "  \"http://www.w3.org/Graphics/SVG/1.1/DTD/svg11.dtd\">\n",
       "<svg xmlns:xlink=\"http://www.w3.org/1999/xlink\" width=\"125.28pt\" height=\"125.28pt\" viewBox=\"0 0 125.28 125.28\" xmlns=\"http://www.w3.org/2000/svg\" version=\"1.1\">\n",
       " <metadata>\n",
       "  <rdf:RDF xmlns:dc=\"http://purl.org/dc/elements/1.1/\" xmlns:cc=\"http://creativecommons.org/ns#\" xmlns:rdf=\"http://www.w3.org/1999/02/22-rdf-syntax-ns#\">\n",
       "   <cc:Work>\n",
       "    <dc:type rdf:resource=\"http://purl.org/dc/dcmitype/StillImage\"/>\n",
       "    <dc:date>2024-12-11T12:27:30.228850</dc:date>\n",
       "    <dc:format>image/svg+xml</dc:format>\n",
       "    <dc:creator>\n",
       "     <cc:Agent>\n",
       "      <dc:title>Matplotlib v3.9.2, https://matplotlib.org/</dc:title>\n",
       "     </cc:Agent>\n",
       "    </dc:creator>\n",
       "   </cc:Work>\n",
       "  </rdf:RDF>\n",
       " </metadata>\n",
       " <defs>\n",
       "  <style type=\"text/css\">*{stroke-linejoin: round; stroke-linecap: butt}</style>\n",
       " </defs>\n",
       " <g id=\"figure_1\">\n",
       "  <g id=\"patch_1\">\n",
       "   <path d=\"M 0 125.28 \n",
       "L 125.28 125.28 \n",
       "L 125.28 0 \n",
       "L 0 0 \n",
       "z\n",
       "\" style=\"fill: #ffffff\"/>\n",
       "  </g>\n",
       "  <g id=\"axes_1\">\n",
       "   <g id=\"patch_2\">\n",
       "    <path d=\"M 7.2 118.08 \n",
       "L 118.08 118.08 \n",
       "L 118.08 7.2 \n",
       "L 7.2 7.2 \n",
       "z\n",
       "\" style=\"fill: #ffffff\"/>\n",
       "   </g>\n",
       "   <g clip-path=\"url(#p1e343a2e20)\">\n",
       "    <image xlink:href=\"data:image/png;base64,\n",
       "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\" id=\"imageb0a1f34db1\" transform=\"scale(1 -1) translate(0 -110.88)\" x=\"7.2\" y=\"-7.2\" width=\"110.88\" height=\"110.88\"/>\n",
       "   </g>\n",
       "   <g id=\"matplotlib.axis_1\"/>\n",
       "   <g id=\"matplotlib.axis_2\"/>\n",
       "   <g id=\"patch_3\">\n",
       "    <path d=\"M 7.2 118.08 \n",
       "L 7.2 7.2 \n",
       "\" style=\"fill: none; stroke: #000000; stroke-width: 0.8; stroke-linejoin: miter; stroke-linecap: square\"/>\n",
       "   </g>\n",
       "   <g id=\"patch_4\">\n",
       "    <path d=\"M 118.08 118.08 \n",
       "L 118.08 7.2 \n",
       "\" style=\"fill: none; stroke: #000000; stroke-width: 0.8; stroke-linejoin: miter; stroke-linecap: square\"/>\n",
       "   </g>\n",
       "   <g id=\"patch_5\">\n",
       "    <path d=\"M 7.2 118.08 \n",
       "L 118.08 118.08 \n",
       "\" style=\"fill: none; stroke: #000000; stroke-width: 0.8; stroke-linejoin: miter; stroke-linecap: square\"/>\n",
       "   </g>\n",
       "   <g id=\"patch_6\">\n",
       "    <path d=\"M 7.2 7.2 \n",
       "L 118.08 7.2 \n",
       "\" style=\"fill: none; stroke: #000000; stroke-width: 0.8; stroke-linejoin: miter; stroke-linecap: square\"/>\n",
       "   </g>\n",
       "  </g>\n",
       " </g>\n",
       " <defs>\n",
       "  <clipPath id=\"p1e343a2e20\">\n",
       "   <rect x=\"7.2\" y=\"7.2\" width=\"110.88\" height=\"110.88\"/>\n",
       "  </clipPath>\n",
       " </defs>\n",
       "</svg>\n"
      ],
      "text/plain": [
       "<Figure size 200x200 with 1 Axes>"
      ]
     },
     "metadata": {
      "image/png": {
       "height": 174,
       "width": 174
      }
     },
     "output_type": "display_data"
    }
   ],
   "source": [
    "i = 1\n",
    "plt.figure(figsize=(2,2))\n",
    "plt.imshow(x_train[i, :, :, 0], cmap='gray_r')\n",
    "plt.xticks([]); plt.yticks([])\n",
    "print(y_train[i])"
   ]
  },
  {
   "cell_type": "markdown",
   "metadata": {},
   "source": [
    "Now build and train the CNN.\n",
    "When I trained a CNN I got this accuracy of ~87% on the test set, see if you can top it."
   ]
  },
  {
   "cell_type": "markdown",
   "metadata": {},
   "source": []
  },
  {
   "cell_type": "code",
   "execution_count": null,
   "metadata": {},
   "outputs": [],
   "source": [
    "# Score trained model.\n",
    "scores = model.evaluate(x_test, y_test, verbose=1)\n",
    "print('Test loss:', scores[0])\n",
    "print('Test accuracy:', scores[1])"
   ]
  },
  {
   "cell_type": "code",
   "execution_count": null,
   "metadata": {},
   "outputs": [],
   "source": [
    "# Save model\n",
    "model.save('../data/keras_cnn_fashion_model.keras')"
   ]
  }
 ],
 "metadata": {
  "kernelspec": {
   "display_name": "Python [conda env:DataSciPy]",
   "language": "python",
   "name": "conda-env-DataSciPy-py"
  },
  "language_info": {
   "codemirror_mode": {
    "name": "ipython",
    "version": 3
   },
   "file_extension": ".py",
   "mimetype": "text/x-python",
   "name": "python",
   "nbconvert_exporter": "python",
   "pygments_lexer": "ipython3",
   "version": "3.12.7"
  }
 },
 "nbformat": 4,
 "nbformat_minor": 4
}
