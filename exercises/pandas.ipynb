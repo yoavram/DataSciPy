{
 "cells": [
  {
   "cell_type": "markdown",
   "metadata": {},
   "source": [
    "# Assignmet: Pandas\n",
    "## Data Science with Python\n",
    "## Yoav Ram"
   ]
  },
  {
   "cell_type": "code",
   "execution_count": null,
   "metadata": {},
   "outputs": [],
   "source": [
    "%matplotlib inline\n",
    "import matplotlib.pyplot as plt\n",
    "import numpy as np\n",
    "import pandas as pd\n",
    "import urllib.request\n",
    "import zipfile\n",
    "import os.path\n",
    "import plotly.express as px\n",
    "import plotly.io as pio\n",
    "pio.templates.default = \"simple_white\""
   ]
  },
  {
   "cell_type": "markdown",
   "metadata": {},
   "source": [
    "# Exercise 1\n",
    "\n",
    "In this question we will look for a relation between litter or clutch size (number of offspring per birth) and the birth weight (the weight of the offpring) in the animal kingdom.\n",
    "\n",
    "For this analysis we will load the [AnAge](http://genomics.senescence.info/download.html#anage) dataset that we used in the [Pandas](../sessions/pandas-seaborn.ipynb) session."
   ]
  },
  {
   "cell_type": "markdown",
   "metadata": {},
   "source": [
    "Open the data file and read the data to a `DataFrame`. We are interested in the `Litter/Clutch size` and `Birth weight (g)` columns."
   ]
  },
  {
   "cell_type": "code",
   "execution_count": 4,
   "metadata": {},
   "outputs": [],
   "source": [
    "data = pd.read_csv('../data/anage_data.txt', sep='\\t')"
   ]
  },
  {
   "cell_type": "markdown",
   "metadata": {},
   "source": [
    "If you examined the data you might have noticed that some rows have a `NaN` value in our columns of interest. \n",
    "We need to remove these rows from the data.\n",
    "You can use `np.isnan`, `np.isfinite` or any other method you'd like."
   ]
  },
  {
   "cell_type": "code",
   "execution_count": 5,
   "metadata": {
    "collapsed": true,
    "jupyter": {
     "outputs_hidden": true
    }
   },
   "outputs": [],
   "source": [
    "\n",
    "\n",
    "\n",
    "assert not np.isnan(data['Litter/Clutch size']).any() ###\n",
    "assert not np.isnan(data['Birth weight (g)']).any() ###"
   ]
  },
  {
   "cell_type": "markdown",
   "metadata": {},
   "source": [
    "We are looking for a possible linear relationship between the variables.\n",
    "\n",
    "Plot a scatter plot of the data, and consider if you should transform the data using a transformation such as log, square-root, reciprocal ($1/x$) or some other monotone transformation that makes sense to you. \n",
    "Both columns might require transformations.\n",
    "\n",
    "Plot a new scatter plot of the transformed data.\n",
    "\n",
    "Don't forget the axes labels should change to reflect the transformation! \n",
    "But in the plot I left below I didn't put the name of the transformation I chose so that it is a _secret_..."
   ]
  },
  {
   "cell_type": "code",
   "execution_count": null,
   "metadata": {},
   "outputs": [],
   "source": [
    "\n",
    "\n"
   ]
  },
  {
   "cell_type": "markdown",
   "metadata": {},
   "source": [
    "After applying a transformation for which there is a good correlation between the litter size and the birth weight, create a linear model plot."
   ]
  },
  {
   "cell_type": "code",
   "execution_count": null,
   "metadata": {},
   "outputs": [],
   "source": [
    "\n",
    "\n"
   ]
  },
  {
   "cell_type": "markdown",
   "metadata": {},
   "source": [
    "### Bonus questions\n",
    "\n",
    "Now we should be satisfied that there is a linear relationship between the variables.\n",
    "\n",
    "Please perform linear regression on the transformed data using `scipy.stats.linregress`.\n",
    "Print the intercept and slope of the regression.\n",
    "\n",
    "Note that if you used a different transformation you might get different values; that's OK as long as your results make sense."
   ]
  },
  {
   "cell_type": "code",
   "execution_count": 8,
   "metadata": {},
   "outputs": [
    {
     "name": "stdout",
     "output_type": "stream",
     "text": [
      "intercept: 5.693, slope: -2.410\n"
     ]
    }
   ],
   "source": [
    "\n",
    "\n",
    "print(\"intercept: {:.3f}, slope: {:.3f}\".format(intercept, slope)) ###"
   ]
  },
  {
   "cell_type": "markdown",
   "metadata": {},
   "source": [
    "Note that `linregress` provides a p-value for the null hypothesis that the slope is 0.\n",
    "\n",
    "Think: What does it mean if the null hypothesis is rejected? \n",
    "\n",
    "Decide if the null hypothesis can be rejected and print a statement that summarizes the result regarding litter size and birth weight.\n",
    "\n",
    "Don't forget to print the p-value to support your claim."
   ]
  },
  {
   "cell_type": "code",
   "execution_count": 9,
   "metadata": {},
   "outputs": [
    {
     "name": "stdout",
     "output_type": "stream",
     "text": [
      "p-value=9e-97\n",
      "Litter size has significant and negative effect on birth weight\n"
     ]
    }
   ],
   "source": [
    "\n",
    "\n",
    "\n"
   ]
  },
  {
   "cell_type": "markdown",
   "metadata": {},
   "source": [
    "Finally, use the slope and intercept to predict the birth weight of offspring in a litter with 10 offspring (don't forget the transformation!)."
   ]
  },
  {
   "cell_type": "code",
   "execution_count": 10,
   "metadata": {},
   "outputs": [
    {
     "name": "stdout",
     "output_type": "stream",
     "text": [
      "In a litter with 10 offspring, the birth weight will be 1.1552525754218654 grams\n"
     ]
    }
   ],
   "source": [
    "\n"
   ]
  },
  {
   "cell_type": "markdown",
   "metadata": {},
   "source": [
    "# Exercise 2\n",
    "\n",
    "In this analysis we will compare the body temperature of animals to check if indeed there is such a thing as [warm-blooded](http://en.wikipedia.org/wiki/Warm-blooded) and cold-blooded animals.\n",
    "\n",
    "You'll need to reload the data since in the previous exercise you removed some of the rows."
   ]
  },
  {
   "cell_type": "code",
   "execution_count": 5,
   "metadata": {},
   "outputs": [],
   "source": [
    "data = pd.read_csv('../data/anage_data.txt', sep='\\t')"
   ]
  },
  {
   "cell_type": "markdown",
   "metadata": {},
   "source": [
    "The temperatures are in Kelvin degrees in the `Temperature (K)` column, and we like Celsius degrees, so use transform the temperature to Celsius and save the result in a new column.\n",
    "\n",
    "Note: SciPy has a special function for Kelvin to Celsius conversion: `scipy.constants.convert_temperature`."
   ]
  },
  {
   "cell_type": "code",
   "execution_count": 12,
   "metadata": {},
   "outputs": [],
   "source": [
    "\n"
   ]
  },
  {
   "cell_type": "markdown",
   "metadata": {},
   "source": [
    "Plot a histogram of the temperatures (in Celsius). Don't forget to use meaningful `bins`."
   ]
  },
  {
   "cell_type": "code",
   "execution_count": null,
   "metadata": {},
   "outputs": [],
   "source": [
    "\n",
    "\n",
    "\n"
   ]
  },
  {
   "cell_type": "markdown",
   "metadata": {},
   "source": [
    "Count how many species we have in the data frame in each `Class`.\n",
    "Remove from the data classes with fewer than 10 species (you can do this manually by specifiyng the class names or automatically using the count you calculated).\n",
    "\n",
    "Don't forget to clean the data frame from rows with missing data in the temperature column."
   ]
  },
  {
   "cell_type": "code",
   "execution_count": 15,
   "metadata": {},
   "outputs": [],
   "source": []
  },
  {
   "cell_type": "markdown",
   "metadata": {},
   "source": [
    "Plot a separate histogram of the temperature for each animal Class."
   ]
  },
  {
   "cell_type": "code",
   "execution_count": null,
   "metadata": {},
   "outputs": [],
   "source": [
    "\n",
    "\n"
   ]
  },
  {
   "cell_type": "markdown",
   "metadata": {},
   "source": [
    "### Bonus questions\n",
    "\n",
    "Perform a [t-test](http://iaingallagher.tumblr.com/post/50980987285/t-tests-in-python) to verify that the temperature of mammals is, on average, larger then the temperature of amphibians.\n",
    "Print the result of the t-test."
   ]
  },
  {
   "cell_type": "code",
   "execution_count": 17,
   "metadata": {},
   "outputs": [
    {
     "name": "stdout",
     "output_type": "stream",
     "text": [
      "The temperatures of mammals and amphibians are different? True\n",
      "P-value: 1.9e-16\n"
     ]
    }
   ],
   "source": [
    "\n",
    "\n",
    "\n",
    "\n",
    "print(\"The temperatures of mammals and amphibians are different? {}\".format(H0_rejected)) ###\n",
    "print(\"P-value: {:.2g}\".format(p_value)) ###"
   ]
  },
  {
   "cell_type": "markdown",
   "metadata": {},
   "source": [
    "**End**"
   ]
  }
 ],
 "metadata": {
  "kernelspec": {
   "display_name": "Python 3 (ipykernel)",
   "language": "python",
   "name": "python3"
  },
  "language_info": {
   "codemirror_mode": {
    "name": "ipython",
    "version": 3
   },
   "file_extension": ".py",
   "mimetype": "text/x-python",
   "name": "python",
   "nbconvert_exporter": "python",
   "pygments_lexer": "ipython3",
   "version": "3.11.6"
  }
 },
 "nbformat": 4,
 "nbformat_minor": 4
}
