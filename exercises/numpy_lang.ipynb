{
 "cells": [
  {
   "cell_type": "markdown",
   "metadata": {},
   "source": [
    "# NumPy exercise\n",
    "## Yoav Ram\n",
    "\n",
    "[solution](../solutions/numpy_langs.ipynb)"
   ]
  },
  {
   "cell_type": "code",
   "execution_count": 2,
   "metadata": {},
   "outputs": [],
   "source": [
    "%matplotlib inline\n",
    "import matplotlib.pyplot as plt\n",
    "import numpy as np\n",
    "\n",
    "from datetime import date\n",
    "import string\n",
    "import pickle"
   ]
  },
  {
   "cell_type": "markdown",
   "metadata": {},
   "source": [
    "The following cell defines frequencies arrays for the characters of English, Deutch, and French texts.\n",
    "\n",
    "For example, `en[0]` gives the frequency of `a` in English texts, whereas `de[10]` gives the frequency of `k`. \n",
    "\n",
    "We only consider lowercase letters a-z."
   ]
  },
  {
   "cell_type": "code",
   "execution_count": 3,
   "metadata": {},
   "outputs": [],
   "source": [
    "en = np.array([0.08167, 0.01492, 0.02782, 0.04253, 0.12702, 0.02228, 0.02015,\n",
    "            0.06094, 0.06966, 0.00153, 0.00772, 0.04025, 0.02406, 0.06749,\n",
    "            0.07507, 0.01929, 0.00095, 0.05987, 0.06327, 0.09056, 0.02758,\n",
    "            0.00978, 0.0236 , 0.0015 , 0.01974, 0.00074])\n",
    "de = np.array([0.06516, 0.01886, 0.02732, 0.05076, 0.16396, 0.01656, 0.03009,\n",
    "            0.04577, 0.0655 , 0.00268, 0.01417, 0.03437, 0.02534, 0.09776,\n",
    "            0.02594, 0.0067 , 0.00018, 0.07003, 0.0727 , 0.06154, 0.04166,\n",
    "            0.00846, 0.01921, 0.00034, 0.00039, 0.01134])\n",
    "fr = np.array([0.07636, 0.00901, 0.0326 , 0.03669, 0.14715, 0.01066, 0.00866,\n",
    "            0.00737, 0.07529, 0.00613, 0.00074, 0.05456, 0.02968, 0.07095,\n",
    "            0.05796, 0.02521, 0.01362, 0.06693, 0.07948, 0.07244, 0.06311,\n",
    "            0.01838, 0.00049, 0.00427, 0.00128, 0.00326])"
   ]
  },
  {
   "cell_type": "markdown",
   "metadata": {},
   "source": [
    "We want to use these frequency arrays to determine the language of a text of our choice.\n",
    "\n",
    "First, **write a function called `frequencies(text)`** that takes a string and returns the frequency of each letter in the text in a NumPy array, similar to those above. Disregard casing (`A` is the same as `a`) and punctuation.\n",
    "\n",
    "Apply the function on `../data/Gulliver.txt`, an English book by Jonathan Swift.\n",
    "\n",
    "**Tip**: use the function `ord` to convert a single-character string to an integer."
   ]
  },
  {
   "cell_type": "code",
   "execution_count": 16,
   "metadata": {},
   "outputs": [],
   "source": [
    "# your code here #"
   ]
  },
  {
   "cell_type": "code",
   "execution_count": 4,
   "metadata": {},
   "outputs": [],
   "source": [
    "with open('../data/Gulliver.txt') as f:\n",
    "    gulliver = f.read()"
   ]
  },
  {
   "cell_type": "code",
   "execution_count": 27,
   "metadata": {},
   "outputs": [
    {
     "name": "stdout",
     "output_type": "stream",
     "text": [
      "[0.07731152 0.01604013 0.02737605 0.0436618  0.12616461 0.02458682\n",
      " 0.01957454 0.0590067  0.06972233 0.00178594 0.00638608 0.03789601\n",
      " 0.02903709 0.06680405 0.07671621 0.01952875 0.00111153 0.06147538\n",
      " 0.06039715 0.0929187  0.02851255 0.01014113 0.02228883 0.00185255\n",
      " 0.01932059 0.000383  ]\n"
     ]
    }
   ],
   "source": [
    "gulliver_freq = frequencies(gulliver)\n",
    "print(gulliver_freq)"
   ]
  },
  {
   "cell_type": "markdown",
   "metadata": {},
   "source": [
    "**Implement a function called `relative_entropy(p, q)`** to compute the relative entropy of a text frequencies array `q` and a language frequencies array `p` according to the following formula:\n",
    "$$\n",
    "re(p, q) = \\sum_{i=1}^{n}{p_i \\log{\\Big(\\frac{p_i}{q_i}\\Big)}}\n",
    "$$\n",
    "where $i=1$ for `a` and $i=n$ for `z`.\n",
    "\n",
    "Relative entropy is a measure of similarity between two distributions or frequencies: the lower the relative entropy of `p` and `q`, the more similar `p` and `q`.\n",
    "\n",
    "Reminder: frequency array values are between 0 and 1 and sum to 1.\n",
    "\n",
    "Tip: replace zero values in `q` with some very low number (1e-8?) to avoid `nan` or `inf` values."
   ]
  },
  {
   "cell_type": "code",
   "execution_count": 19,
   "metadata": {},
   "outputs": [],
   "source": [
    "# your code here #"
   ]
  },
  {
   "cell_type": "code",
   "execution_count": 18,
   "metadata": {},
   "outputs": [
    {
     "name": "stdout",
     "output_type": "stream",
     "text": [
      "en 0.0013824140607544368\n",
      "fr 0.12113178055931956\n",
      "de 0.08528949658982575\n"
     ]
    }
   ],
   "source": [
    "print('en', relative_entropy(en, gulliver_freq))\n",
    "print('fr', relative_entropy(fr, gulliver_freq))\n",
    "print('de', relative_entropy(de, gulliver_freq))"
   ]
  },
  {
   "cell_type": "markdown",
   "metadata": {},
   "source": [
    "Finally, **write a function called `detect_language(text)`** that takes a text and returns the name of the language most likely for that text, e.g. `en`, `fr`, or `de`."
   ]
  },
  {
   "cell_type": "code",
   "execution_count": 30,
   "metadata": {},
   "outputs": [],
   "source": [
    "# your code here #"
   ]
  },
  {
   "cell_type": "code",
   "execution_count": 33,
   "metadata": {},
   "outputs": [
    {
     "name": "stdout",
     "output_type": "stream",
     "text": [
      "en\n"
     ]
    }
   ],
   "source": [
    "print(detect_language(gulliver))"
   ]
  },
  {
   "cell_type": "code",
   "execution_count": 35,
   "metadata": {},
   "outputs": [
    {
     "name": "stdout",
     "output_type": "stream",
     "text": [
      "fr\n"
     ]
    }
   ],
   "source": [
    "###\n",
    "ne_me_quitte_pas = \"\"\"Ne me quitte pas\n",
    "Il faut oublier\n",
    "Tout peut s'oublier\n",
    "Qui s'enfuit déjà\n",
    "Oublier le temps\n",
    "Des malentendus\n",
    "Et le temps perdu\n",
    "A savoir comment\n",
    "Oublier ces heures\n",
    "Qui tuaient parfois\n",
    "A coups de pourquoi\n",
    "Le coeur du bonheurNe me quitte pas\n",
    "Ne me quitte pas\n",
    "Ne me quitte pas\n",
    "Ne me quitte pas\"\"\"\n",
    "\n",
    "print(detect_language(ne_me_quitte_pas))"
   ]
  }
 ],
 "metadata": {
  "kernelspec": {
   "display_name": "Python 3 (ipykernel)",
   "language": "python",
   "name": "python3"
  },
  "language_info": {
   "codemirror_mode": {
    "name": "ipython",
    "version": 3
   },
   "file_extension": ".py",
   "mimetype": "text/x-python",
   "name": "python",
   "nbconvert_exporter": "python",
   "pygments_lexer": "ipython3",
   "version": "3.9.2"
  }
 },
 "nbformat": 4,
 "nbformat_minor": 4
}
