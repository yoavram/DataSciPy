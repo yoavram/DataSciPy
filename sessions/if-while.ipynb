{
 "cells": [
  {
   "cell_type": "markdown",
   "metadata": {},
   "source": [
    "![Py4Eng](img/logo.png)\n",
    "\n",
    "# If and While"
   ]
  },
  {
   "cell_type": "markdown",
   "metadata": {},
   "source": [
    "# If statement\n",
    "\n",
    "The `if` statement allows us to condition the program flow on its data."
   ]
  },
  {
   "cell_type": "code",
   "execution_count": 3,
   "metadata": {},
   "outputs": [
    {
     "name": "stdout",
     "output_type": "stream",
     "text": [
      "Yes\n",
      "that's it\n"
     ]
    }
   ],
   "source": [
    "a = 10\n",
    "b = 2\n",
    "\n",
    "if a > b:\n",
    "    print('Yes')\n",
    "\n",
    "print(\"that's it\")"
   ]
  },
  {
   "cell_type": "code",
   "execution_count": 4,
   "metadata": {},
   "outputs": [
    {
     "name": "stdout",
     "output_type": "stream",
     "text": [
      "that's it\n"
     ]
    }
   ],
   "source": [
    "if a < b:\n",
    "    print('Yes')\n",
    "\n",
    "print(\"that's it\")"
   ]
  },
  {
   "cell_type": "markdown",
   "metadata": {},
   "source": [
    "Notice the colon and the indented block. The syntax is always:\n",
    "\n",
    "```py\n",
    "if condition:  \n",
    "    statement1\n",
    "    statement2\n",
    "    statement3\n",
    "    ...\n",
    "```\n",
    "\n",
    "**Whitespaces mark block code**: Only commands within the indented block are conditional. \n",
    "\n",
    "Other commands will be executed, no matter if the condition is met or not. \n",
    "\n",
    "There is no use of curly brackets or `end` command: unindenting will close the code block."
   ]
  },
  {
   "cell_type": "code",
   "execution_count": 5,
   "metadata": {},
   "outputs": [
    {
     "name": "stdout",
     "output_type": "stream",
     "text": [
      "Yes\n",
      "Another operation will follow\n",
      "0\n"
     ]
    }
   ],
   "source": [
    "a = 10\n",
    "b = 2\n",
    "if a > b:\n",
    "    print('Yes')\n",
    "    print('Another operation will follow')\n",
    "    a = 0\n",
    "print(a)"
   ]
  },
  {
   "cell_type": "markdown",
   "metadata": {},
   "source": [
    "__Note__: the condition expression always returns a boolean (if it's not already a boolean, it will be implicitly converted into one), and the indented commands only occur if the boolean has a `True` value. Therefore, we can use logical operators to create more complex conditions."
   ]
  },
  {
   "cell_type": "code",
   "execution_count": 6,
   "metadata": {},
   "outputs": [
    {
     "name": "stdout",
     "output_type": "stream",
     "text": [
      "Yes\n"
     ]
    }
   ],
   "source": [
    "x = 15\n",
    "y = 8\n",
    "if (x > 10 and y < 10) or x * y == 56:\n",
    "    print('Yes')"
   ]
  },
  {
   "cell_type": "code",
   "execution_count": 7,
   "metadata": {},
   "outputs": [],
   "source": [
    "x = 9\n",
    "if (x > 10 and y < 10) or x * y == 56:\n",
    "    print('Yes')"
   ]
  },
  {
   "cell_type": "code",
   "execution_count": 8,
   "metadata": {},
   "outputs": [
    {
     "name": "stdout",
     "output_type": "stream",
     "text": [
      "Yes\n"
     ]
    }
   ],
   "source": [
    "x = 7\n",
    "if (x > 10 and y < 10) or x * y == 56:\n",
    "    print('Yes')"
   ]
  },
  {
   "cell_type": "markdown",
   "metadata": {},
   "source": [
    "## Example: divisibility\n",
    "\n",
    "Let's write a program that checks if a number is devisible by 17. Remember the modulo operator."
   ]
  },
  {
   "cell_type": "code",
   "execution_count": 9,
   "metadata": {},
   "outputs": [
    {
     "name": "stdout",
     "output_type": "stream",
     "text": [
      "Number is devisible by 17!\n",
      "End of program.\n"
     ]
    }
   ],
   "source": [
    "x = 442\n",
    " ### edit code here ###\n",
    "\n",
    "print('Number is devisible by 17!')\n",
    "\n",
    "print('End of program.')"
   ]
  },
  {
   "cell_type": "markdown",
   "metadata": {},
   "source": [
    "### `else` \n",
    "\n",
    "We can add _else_ statements to perform commands in case the condition is __not__ met, or in other words, if the boolean is False.\n",
    "\n",
    "![if else flow](https://raw.githubusercontent.com/yoavram/Py4Life/master/lec1_images/if_else_flow.jpg)"
   ]
  },
  {
   "cell_type": "code",
   "execution_count": 10,
   "metadata": {},
   "outputs": [
    {
     "name": "stdout",
     "output_type": "stream",
     "text": [
      "Number is not devisible by 17!\n",
      "End of program.\n"
     ]
    }
   ],
   "source": [
    "x = 586\n",
    "if x % 17 == 0:\n",
    "    print('Number is devisible by 17!')\n",
    "else:\n",
    "    print('Number is not devisible by 17!')\n",
    "print('End of program.')"
   ]
  },
  {
   "cell_type": "markdown",
   "metadata": {},
   "source": [
    "### `elif`\n",
    "\n",
    "When using `elif` statements, multiple conditions are tested one by one. \n",
    "\n",
    "Once a condition is met, the corresponding indented commands are performed. \n",
    "\n",
    "If none of the conditions is `True`, the `else` block (if exists) is executed."
   ]
  },
  {
   "cell_type": "code",
   "execution_count": 11,
   "metadata": {},
   "outputs": [
    {
     "name": "stdout",
     "output_type": "stream",
     "text": [
      "Number is not devisible by 17, but is even!\n",
      "End of program.\n"
     ]
    }
   ],
   "source": [
    "x = 586\n",
    "if x % 17 == 0:\n",
    "    print('Number is devisible by 17!')\n",
    "elif x % 2 == 0:\n",
    "    print('Number is not devisible by 17, but is even!')\n",
    "else:\n",
    "    print('Number is not devisible by 17, and is odd!')\n",
    "print('End of program.')"
   ]
  },
  {
   "cell_type": "markdown",
   "metadata": {},
   "source": [
    "## Exercise: leap year"
   ]
  },
  {
   "cell_type": "markdown",
   "metadata": {},
   "source": [
    "A leap year is a year that has 366 days (adding February 29th). \n",
    "\n",
    "### A year is a leap year if it is divisible by 400, or divisible by 4 but not by 100. \n",
    "\n",
    "For example, 2012 and 2000 are leap years, but 1900 isn't. \n",
    "\n",
    "Test a year of your choice by  using an appropriate `if` statement and print the result."
   ]
  },
  {
   "cell_type": "code",
   "execution_count": 12,
   "metadata": {},
   "outputs": [],
   "source": [
    "# your code here\n"
   ]
  },
  {
   "cell_type": "markdown",
   "metadata": {},
   "source": [
    "# `while` loop"
   ]
  },
  {
   "cell_type": "markdown",
   "metadata": {},
   "source": [
    "#### We use `while` loops to do something again and again, as long as a condition is met.\n",
    "\n",
    "![while](http://www.tutorialspoint.com/images/python_while_loop.jpg)\n",
    "\n",
    "The syntax is very similar to that of `if` statement."
   ]
  },
  {
   "cell_type": "code",
   "execution_count": 13,
   "metadata": {},
   "outputs": [
    {
     "name": "stdout",
     "output_type": "stream",
     "text": [
      "n is now: 1\n",
      "n is now: 2\n",
      "n is now: 3\n",
      "n is now: 4\n",
      "n is now: 5\n",
      "n is now: 6\n",
      "n is now: 7\n",
      "n is now: 8\n",
      "n is now: 9\n",
      "n is now: 10\n",
      "Now n is: 11\n"
     ]
    }
   ],
   "source": [
    "### print the numbers 1-10 ###\n",
    "n = 1\n",
    "\n",
    "while n < 11:\n",
    "    print('n is now:', n)\n",
    "    n = n+1\n",
    "\n",
    "print('Now n is:', n)"
   ]
  },
  {
   "cell_type": "markdown",
   "metadata": {},
   "source": [
    "### Example: Dec2Bin\n",
    "\n",
    "The following code converts a decimal integer to a binary string."
   ]
  },
  {
   "cell_type": "code",
   "execution_count": 14,
   "metadata": {},
   "outputs": [
    {
     "name": "stdout",
     "output_type": "stream",
     "text": [
      "1000\n"
     ]
    }
   ],
   "source": [
    "n = 8\n",
    "b = ''\n",
    "\n",
    "while n > 0:              # condition\n",
    "    if n % 2 == 1:        # indented block\n",
    "        b = \"1\" + b\n",
    "    else:\n",
    "        b = \"0\" + b\n",
    "    n = n // 2\n",
    "                          # end of indented block\n",
    "print(b)"
   ]
  },
  {
   "cell_type": "markdown",
   "metadata": {},
   "source": [
    "When using conditions, Python implicitly converts everything to boolean.\n",
    "So we can write:"
   ]
  },
  {
   "cell_type": "code",
   "execution_count": 15,
   "metadata": {},
   "outputs": [
    {
     "name": "stdout",
     "output_type": "stream",
     "text": [
      "1111\n"
     ]
    }
   ],
   "source": [
    "n = 15\n",
    "b = ''\n",
    "\n",
    "while n:  # int to bool: 0->False, otherwise->True\n",
    "    if n % 2:   \n",
    "        b = \"1\" + b\n",
    "    else:\n",
    "        b = \"0\" + b\n",
    "    n = n // 2\n",
    "                      # end of indented block\n",
    "print(b)"
   ]
  },
  {
   "cell_type": "markdown",
   "metadata": {},
   "source": [
    "When updating numeric variable we can use the following syntax:\n",
    "\n",
    "a = a + 1     :   a += 1\n",
    "\n",
    "a = a / 2     :   a /= 2\n",
    "\n",
    "a = a \\* 4.5   :   a \\*= 4.5"
   ]
  },
  {
   "cell_type": "code",
   "execution_count": 16,
   "metadata": {},
   "outputs": [
    {
     "name": "stdout",
     "output_type": "stream",
     "text": [
      "n is now: 3\n",
      "n is now: 2\n",
      "n is now: 1\n",
      "Now n is: 0\n"
     ]
    }
   ],
   "source": [
    "n = 3\n",
    "\n",
    "while n > 0:\n",
    "    print('n is now:', n)\n",
    "    n -= 1   # instead of n = n-1\n",
    "\n",
    "print('Now n is:', 0)"
   ]
  },
  {
   "cell_type": "markdown",
   "metadata": {},
   "source": [
    "## Exercise: Collatz Conjecture"
   ]
  },
  {
   "cell_type": "markdown",
   "metadata": {},
   "source": [
    "The Collatz Conjecture (also known as the 3n+1 conjecture) is the conjecture that the following process is finite for every natural number:\n",
    "\n",
    "> If the number n is even divide it by two, if it is odd multiply it by 3 and add 1. Repeat this process until you get the number 1.\n",
    "\n",
    "Write a program to check if the Collatz conjecture is true for a number of your choice. Print every step of the process."
   ]
  },
  {
   "cell_type": "code",
   "execution_count": null,
   "metadata": {},
   "outputs": [],
   "source": [
    "n = 123873450306958476879483255698456698028476\n",
    "\n",
    "### write code here: ###"
   ]
  },
  {
   "cell_type": "markdown",
   "metadata": {},
   "source": [
    "![CollatzXKCD](http://imgs.xkcd.com/comics/collatz_conjecture.png)"
   ]
  },
  {
   "cell_type": "markdown",
   "metadata": {},
   "source": [
    "# Solutions"
   ]
  },
  {
   "cell_type": "markdown",
   "metadata": {},
   "source": [
    "## Solution: leap year"
   ]
  },
  {
   "cell_type": "code",
   "execution_count": null,
   "metadata": {},
   "outputs": [],
   "source": [
    "year = 2020\n",
    "\n",
    "if (year % 400 == 0) or (year % 4 == 0 and year % 100 != 0):\n",
    "    print(year, \"is a leap year\")\n",
    "else:\n",
    "    print(year, \"is NOT a leap year\")"
   ]
  },
  {
   "cell_type": "markdown",
   "metadata": {},
   "source": [
    "## Solution: Collatz conjecture"
   ]
  },
  {
   "cell_type": "code",
   "execution_count": null,
   "metadata": {},
   "outputs": [],
   "source": [
    "n = 1930189371\n",
    "\n",
    "while n > 1:\n",
    "    print(n, end=' -> ')\n",
    "    if n % 2 == 0:\n",
    "        n //= 2\n",
    "    else:\n",
    "        n = 3 * n + 1\n",
    "print(n)"
   ]
  },
  {
   "cell_type": "markdown",
   "metadata": {},
   "source": [
    "## Colophon\n",
    "This notebook was written by [Yoav Ram](http://python.yoavram.com) and is part of the [_Python for Engineers_](https://github.com/yoavram/Py4Eng) course.\n",
    "\n",
    "The notebook was written using [Python](http://python.org/) 3.7.\n",
    "Dependencies listed in [environment.yml](../environment.yml), full versions in [environment_full.yml](../environment_full.yml).\n",
    "\n",
    "This work is licensed under a CC BY-NC-SA 4.0 International License.\n",
    "\n",
    "![Python logo](https://www.python.org/static/community_logos/python-logo.png)"
   ]
  }
 ],
 "metadata": {
  "kernelspec": {
   "display_name": "Python 3 (ipykernel)",
   "language": "python",
   "name": "python3"
  },
  "language_info": {
   "codemirror_mode": {
    "name": "ipython",
    "version": 3
   },
   "file_extension": ".py",
   "mimetype": "text/x-python",
   "name": "python",
   "nbconvert_exporter": "python",
   "pygments_lexer": "ipython3",
   "version": "3.9.2"
  }
 },
 "nbformat": 4,
 "nbformat_minor": 4
}
