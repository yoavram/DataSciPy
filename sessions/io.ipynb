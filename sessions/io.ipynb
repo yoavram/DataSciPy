{
 "cells": [
  {
   "cell_type": "markdown",
   "metadata": {},
   "source": [
    "![Py4Eng](img/logo.png)\n",
    "\n",
    "# I/O: `input`, files, filesystem\n",
    "## Yoav Ram"
   ]
  },
  {
   "cell_type": "markdown",
   "metadata": {},
   "source": [
    "# User prompt\n",
    "\n",
    "The `input` function is useful to get string prompt from the user. It works in the notebook, as well as when running scripts in the console."
   ]
  },
  {
   "cell_type": "code",
   "execution_count": 1,
   "metadata": {},
   "outputs": [
    {
     "name": "stdin",
     "output_type": "stream",
     "text": [
      "What's your name?\n",
      " Yoav\n"
     ]
    },
    {
     "name": "stdout",
     "output_type": "stream",
     "text": [
      "Hi Yoav\n"
     ]
    }
   ],
   "source": [
    "name = input(\"What's your name?\\n\")\n",
    "\n",
    "print(\"Hi\", name)"
   ]
  },
  {
   "cell_type": "code",
   "execution_count": 2,
   "metadata": {},
   "outputs": [
    {
     "name": "stdin",
     "output_type": "stream",
     "text": [
      "How many icecreams would you like? 2\n",
      "How much does an icecream cost? 3.5\n"
     ]
    },
    {
     "ename": "TypeError",
     "evalue": "can't multiply sequence by non-int of type 'str'",
     "output_type": "error",
     "traceback": [
      "\u001b[0;31m---------------------------------------------------------------------------\u001b[0m",
      "\u001b[0;31mTypeError\u001b[0m                                 Traceback (most recent call last)",
      "\u001b[0;32m<ipython-input-2-6fdf5c934317>\u001b[0m in \u001b[0;36m<module>\u001b[0;34m()\u001b[0m\n\u001b[1;32m      1\u001b[0m \u001b[0mn_icecreams\u001b[0m \u001b[0;34m=\u001b[0m \u001b[0minput\u001b[0m\u001b[0;34m(\u001b[0m\u001b[0;34m\"How many icecreams would you like?\"\u001b[0m\u001b[0;34m)\u001b[0m\u001b[0;34m\u001b[0m\u001b[0;34m\u001b[0m\u001b[0m\n\u001b[1;32m      2\u001b[0m \u001b[0mprice\u001b[0m \u001b[0;34m=\u001b[0m \u001b[0minput\u001b[0m\u001b[0;34m(\u001b[0m\u001b[0;34m\"How much does an icecream cost?\"\u001b[0m\u001b[0;34m)\u001b[0m\u001b[0;34m\u001b[0m\u001b[0;34m\u001b[0m\u001b[0m\n\u001b[0;32m----> 3\u001b[0;31m \u001b[0mprint\u001b[0m\u001b[0;34m(\u001b[0m\u001b[0;34m\"That would be\"\u001b[0m\u001b[0;34m,\u001b[0m \u001b[0mprice\u001b[0m \u001b[0;34m*\u001b[0m \u001b[0mn_icecreams\u001b[0m\u001b[0;34m)\u001b[0m\u001b[0;34m\u001b[0m\u001b[0;34m\u001b[0m\u001b[0m\n\u001b[0m",
      "\u001b[0;31mTypeError\u001b[0m: can't multiply sequence by non-int of type 'str'"
     ]
    }
   ],
   "source": [
    "n_icecreams = input(\"How many icecreams would you like?\")\n",
    "price = input(\"How much does an icecream cost?\")\n",
    "print(\"That would be\", price * n_icecreams)"
   ]
  },
  {
   "cell_type": "markdown",
   "metadata": {},
   "source": [
    "For security reasons, `input` returns strings. It is the program's responsibility to convert the string to the desired type:"
   ]
  },
  {
   "cell_type": "code",
   "execution_count": 3,
   "metadata": {},
   "outputs": [
    {
     "name": "stdin",
     "output_type": "stream",
     "text": [
      "How many icecreams would you like? 2\n",
      "How much does an icecream cost? 3.5\n"
     ]
    },
    {
     "name": "stdout",
     "output_type": "stream",
     "text": [
      "That would be 7.0\n"
     ]
    }
   ],
   "source": [
    "n_icecreams = int(input(\"How many icecreams would you like?\"))\n",
    "price = float(input(\"How much does an icecream cost?\"))\n",
    "print(\"That would be\", price * n_icecreams)"
   ]
  },
  {
   "cell_type": "markdown",
   "metadata": {},
   "source": [
    "You can use `eval` to evaluate the input string into a Python expression, but **don't do it** if you don't trust the user because it can lead to strange behaviour and side effects.\n",
    "\n",
    "Let's see what happens when we give valud input (`2` and `1.5`) and when we give invalid input (`2` and `[1,2,3]`). Try it with `eval` and with the above code(`int` and `float`)."
   ]
  },
  {
   "cell_type": "code",
   "execution_count": 4,
   "metadata": {},
   "outputs": [
    {
     "name": "stdin",
     "output_type": "stream",
     "text": [
      "How many icecreams would you like? 2\n",
      "How much does an icecream cost? 3.5\n"
     ]
    },
    {
     "name": "stdout",
     "output_type": "stream",
     "text": [
      "That would be 7.0\n"
     ]
    }
   ],
   "source": [
    "n_icecreams = eval(input(\"How many icecreams would you like?\"))\n",
    "price = eval(input(\"How much does an icecream cost?\"))\n",
    "print(\"That would be\", price * n_icecreams)"
   ]
  },
  {
   "cell_type": "markdown",
   "metadata": {},
   "source": [
    "## Exercise\n",
    "\n",
    "Ask the user for a number between 1 and 10; if the number is not within that range, let him know and ask him again."
   ]
  },
  {
   "cell_type": "code",
   "execution_count": null,
   "metadata": {
    "collapsed": true,
    "jupyter": {
     "outputs_hidden": true
    }
   },
   "outputs": [],
   "source": []
  },
  {
   "cell_type": "markdown",
   "metadata": {},
   "source": [
    "# Files\n",
    "\n",
    "We'll start with simple text files and proceed to more complex formats.  \n",
    "Let's read the list of crop plants located in `data/crops.txt` or you can download it from [GitHub](https://github.com/yoavram/Py4Eng/blob/master/data/crops.txt).\n",
    "\n",
    "## Reading files\n",
    "\n",
    "Whenever we want to work with a file, we first need to _open_ it using the `open` function.  \n",
    "This function returns an IO object which we can then use for reading or writing."
   ]
  },
  {
   "cell_type": "code",
   "execution_count": 5,
   "metadata": {},
   "outputs": [
    {
     "name": "stdout",
     "output_type": "stream",
     "text": [
      "<class '_io.TextIOWrapper'>\n"
     ]
    }
   ],
   "source": [
    "f = open('../data/crops.txt', 'rt') # rt = read text\n",
    "print(type(f))"
   ]
  },
  {
   "cell_type": "code",
   "execution_count": 6,
   "metadata": {
    "scrolled": true
   },
   "outputs": [
    {
     "name": "stdout",
     "output_type": "stream",
     "text": [
      "Abelmoschus caillei\n",
      "Abelmoschus esculentus\n",
      "Acacia mearnsii\n",
      "Acacia senegal\n",
      "Acacia seyal\n",
      "Acca sellowia\n"
     ]
    }
   ],
   "source": [
    "crops = f.read()\n",
    "f.close()\n",
    "print(crops[:100])"
   ]
  },
  {
   "cell_type": "markdown",
   "metadata": {},
   "source": [
    "The `open` function receives two parameters: \n",
    "\n",
    "- the path to the file you want to open.\n",
    "- the mode of opening - `r` for reading, `w` for writing, `a` for appending, `t` for text, `b` for binary.\n",
    "\n",
    "`read` returns *all* the text from the file as a string. \n",
    "\n",
    "`close` then closes the file handle.\n",
    "\n",
    "A more idiomatic way to do this, in which Python takes care of closing the file, is using a [context manager](https://docs.python.org/3/reference/datamodel.html#with-statement-context-managers):"
   ]
  },
  {
   "cell_type": "code",
   "execution_count": 7,
   "metadata": {},
   "outputs": [
    {
     "name": "stdout",
     "output_type": "stream",
     "text": [
      "Abelmoschus caillei\n",
      "Abelmoschus esculentus\n",
      "Acacia mearnsii\n",
      "Acacia senegal\n",
      "Acacia seyal\n",
      "Acca sellowia\n"
     ]
    }
   ],
   "source": [
    "with open('../data/crops.txt','r') as f:\n",
    "    crops = f.read()\n",
    "print(crops[:100])"
   ]
  },
  {
   "cell_type": "markdown",
   "metadata": {},
   "source": [
    "This idiom uses a [context manager](https://docs.python.org/3.5/library/stdtypes.html?highlight=context%20manager), and the file handle `f` is closed when the context manager block ends, even if it ends due to an error."
   ]
  },
  {
   "cell_type": "markdown",
   "metadata": {},
   "source": [
    "## Iterating over files\n",
    "\n",
    "### Using a `for` loop\n",
    "\n",
    "We can simply use a _for_ loop to go over all lines in a text file. \n",
    "This is the _best practice_, and also very simple to use:"
   ]
  },
  {
   "cell_type": "code",
   "execution_count": 8,
   "metadata": {},
   "outputs": [
    {
     "name": "stdout",
     "output_type": "stream",
     "text": [
      "Musa balbisiana\n",
      "Musa spp.\n",
      "Musa textilis\n"
     ]
    }
   ],
   "source": [
    "with open('../data/crops.txt','r') as f:\n",
    "    for line in f:\n",
    "        if line.startswith('Musa'):   # check if line starts with a given string\n",
    "            print(line.strip())       # strip removes the newline character from the end of the line"
   ]
  },
  {
   "cell_type": "markdown",
   "metadata": {},
   "source": [
    "### Reading line by line with `readline`\n",
    "\n",
    "The `readline()` method allows us to read a single line each time. \n",
    "It works well when combined with a `while` loop, giving us control of the program flow."
   ]
  },
  {
   "cell_type": "code",
   "execution_count": 9,
   "metadata": {},
   "outputs": [
    {
     "name": "stdout",
     "output_type": "stream",
     "text": [
      "Abelmoschus caillei\n",
      "Triticum aestivum\n",
      "Triticum dicoccum\n",
      "Triticum durum\n",
      "Triticum monococcum\n",
      "Triticum spelta\n",
      "Triticum turanicum\n"
     ]
    }
   ],
   "source": [
    "with open('../data/crops.txt','r') as f:\n",
    "    line = f.readline().strip()    # read first line\n",
    "    print(line)\n",
    "    while line:\n",
    "        line = f.readline().strip()\n",
    "        if line.startswith('Triticum'):\n",
    "            print(line)        "
   ]
  },
  {
   "cell_type": "markdown",
   "metadata": {},
   "source": [
    "There are other methods you can use to read files. For example, the `readlines()` returns all the lines as a list of strings."
   ]
  },
  {
   "cell_type": "markdown",
   "metadata": {},
   "source": [
    "## Exercise"
   ]
  },
  {
   "cell_type": "markdown",
   "metadata": {},
   "source": [
    "1) Print the last line in the file.  \n",
    "2) Find out how many _Garcinia_ species are in the file (use the `startswith()` string method)."
   ]
  },
  {
   "cell_type": "code",
   "execution_count": null,
   "metadata": {},
   "outputs": [],
   "source": []
  },
  {
   "cell_type": "code",
   "execution_count": null,
   "metadata": {},
   "outputs": [],
   "source": []
  },
  {
   "cell_type": "markdown",
   "metadata": {},
   "source": [
    "## Writing to a file\n",
    "\n",
    "To write to a file, we first have to open it for writing. This is done using one of two modes: 'w' or 'a'.\n",
    "\n",
    "'w', for write, will let you write into the file. If it doesn't exist, it'll be automatically created. If it exists and already has some content, __the content will be overwritten__.\n",
    "\n",
    "'a', for append, is very similar, only it will not overwrite, but append your text to the end of an existing file. \n",
    "\n",
    "Writing is done using `print()` by adding the argument `file = <file object>`."
   ]
  },
  {
   "cell_type": "code",
   "execution_count": 10,
   "metadata": {},
   "outputs": [],
   "source": [
    "with open(r'tmp.txt','w') as f:\n",
    "    print('This is the first line', file=f)\n",
    "    line = 'Another line'\n",
    "    print(line, file=f)\n",
    "    msg1 = 'Hello '\n",
    "    msg2 = 'World!'\n",
    "    print(msg1 + msg2, file=f)"
   ]
  },
  {
   "cell_type": "code",
   "execution_count": 16,
   "metadata": {},
   "outputs": [
    {
     "data": {
      "text/plain": [
       "This is the first line\n",
       "Another line\n",
       "Hello World!\n"
      ]
     },
     "metadata": {},
     "output_type": "display_data"
    }
   ],
   "source": [
    "%less tmp.txt"
   ]
  },
  {
   "cell_type": "markdown",
   "metadata": {},
   "source": [
    "# Temporary files\n",
    "\n",
    "Temporary files can be created using the _tempfile_ module:"
   ]
  },
  {
   "cell_type": "code",
   "execution_count": 1,
   "metadata": {
    "collapsed": true,
    "jupyter": {
     "outputs_hidden": true
    }
   },
   "outputs": [],
   "source": [
    "import tempfile"
   ]
  },
  {
   "cell_type": "code",
   "execution_count": 2,
   "metadata": {},
   "outputs": [
    {
     "name": "stdout",
     "output_type": "stream",
     "text": [
      "Writing to temp file /var/folders/qn/3hj7mcx56k19b_09n6dymw8h0000gn/T/tmp5mvzb1dr\n"
     ]
    }
   ],
   "source": [
    "_, fname = tempfile.mkstemp()\n",
    "print(\"Writing to temp file\", fname)\n",
    "with open(fname, 'w') as f:\n",
    "     print(\"This is a temporary file\", file=f)"
   ]
  },
  {
   "cell_type": "code",
   "execution_count": 3,
   "metadata": {},
   "outputs": [],
   "source": [
    "%less $fname"
   ]
  },
  {
   "cell_type": "markdown",
   "metadata": {},
   "source": [
    "See other methods in *tempfile* on how to create temporary directories, named temporary files, etc."
   ]
  },
  {
   "cell_type": "markdown",
   "metadata": {},
   "source": [
    "## Exercise\n",
    "\n",
    "In the last example we wrote to a temporary file. In this exercise we will copy that file contents to a new temporary file that has an extension `.txt` (use the `suffix` keyword when creating the temporary file). Copy the contents by reading from the existing file and writing to a new file (this is not the efficient way to do it, but it's just an exercise!). Don't forget to close the files and print the new temporary filename so that you can check that the writing was successful."
   ]
  },
  {
   "cell_type": "code",
   "execution_count": 11,
   "metadata": {},
   "outputs": [
    {
     "name": "stdout",
     "output_type": "stream",
     "text": [
      "C:\\Users\\yoavram\\AppData\\Local\\Temp\\tmpk6qauup4.txt\n"
     ]
    }
   ],
   "source": []
  },
  {
   "cell_type": "markdown",
   "metadata": {},
   "source": [
    "# Filesystem\n",
    "\n",
    "Python offers plenty of ways to interact with the filesystem through the `os` and `os.path` modules.\n",
    "\n",
    "Let's import `os`:"
   ]
  },
  {
   "cell_type": "code",
   "execution_count": 17,
   "metadata": {
    "collapsed": true,
    "jupyter": {
     "outputs_hidden": true
    }
   },
   "outputs": [],
   "source": [
    "import os"
   ]
  },
  {
   "cell_type": "markdown",
   "metadata": {},
   "source": [
    "Showcase some of the capabilities of `os`:"
   ]
  },
  {
   "cell_type": "code",
   "execution_count": 18,
   "metadata": {},
   "outputs": [
    {
     "name": "stdout",
     "output_type": "stream",
     "text": [
      "tmp.txt is a file with size 49 bytes\n",
      "ctypes.ipynb is a file with size 15106 bytes\n",
      "update-colophon.ipynb is a file with size 3491 bytes\n",
      "strings-lists-loops.ipynb is a file with size 49935 bytes\n",
      "Untitled1.ipynb is a file with size 2611 bytes\n",
      ".DS_Store is a file with size 6148 bytes\n",
      "datetime.ipynb is a file with size 10617 bytes\n",
      "iteration.ipynb is a file with size 45313 bytes\n",
      "matlab.ipynb is a file with size 28650 bytes\n",
      "conda-env.ipynb is a file with size 41304 bytes\n",
      "image-processing.ipynb is a file with size 1178114 bytes\n",
      "Untitled.ipynb is a file with size 1027 bytes\n",
      "pid.py is a file with size 23 bytes\n",
      "DSP.ipynb is a file with size 1894769 bytes\n",
      "matplotlib.ipynb is a file with size 463205 bytes\n",
      "modules.ipynb is a file with size 25325 bytes\n",
      "exceptions.ipynb is a file with size 28720 bytes\n",
      "io.ipynb is a file with size 30258 bytes\n",
      "gui.ipynb is a file with size 37090 bytes\n",
      "idioms.ipynb is a file with size 44801 bytes\n",
      "oop.ipynb is a file with size 92288 bytes\n",
      "cython-numba.ipynb is a file with size 1236265 bytes\n",
      "primes.pyx is a file with size 599 bytes\n",
      "object-detection.ipynb is a file with size 709089 bytes\n",
      "matplotlib-aesthetics.ipynb is a file with size 573875 bytes\n",
      "problem_8.ipynb is a file with size 18172 bytes\n",
      "img is a folder\n",
      "__MACOSX is a folder\n",
      "curve-fitting.ipynb is a file with size 517569 bytes\n",
      "calculus.ipynb is a file with size 164475 bytes\n",
      "functions.ipynb is a file with size 17920 bytes\n",
      "web-server.ipynb is a file with size 584715 bytes\n",
      "requests.ipynb is a file with size 170919 bytes\n",
      "numpy.ipynb is a file with size 70696 bytes\n",
      "tensorflow.ipynb is a file with size 41310 bytes\n",
      "notebook-display.ipynb is a file with size 313483 bytes\n",
      "if-while.ipynb is a file with size 9653 bytes\n",
      "dictionaries.ipynb is a file with size 18958 bytes\n",
      "problem_14.ipynb is a file with size 7145 bytes\n",
      "inception.ipynb is a file with size 155837 bytes\n",
      "notebook-magic.ipynb is a file with size 24639 bytes\n",
      ".ipynb_checkpoints is a folder\n",
      "linear-algebra.ipynb is a file with size 96846 bytes\n",
      "probability.ipynb is a file with size 305155 bytes\n",
      "statistics.ipynb is a file with size 2383344 bytes\n",
      "pandas-seaborn.ipynb is a file with size 851239 bytes\n",
      "dotNET.ipynb is a file with size 17343 bytes\n",
      "types-operators.ipynb is a file with size 26215 bytes\n",
      "scikit-learn.ipynb is a file with size 5776888 bytes\n",
      "memory-model.ipynb is a file with size 13176 bytes\n",
      "optimization.ipynb is a file with size 376104 bytes\n",
      "differential-equations.ipynb is a file with size 349125 bytes\n",
      "untitled.py is a file with size 395 bytes\n",
      "monitoring-scheduling.ipynb is a file with size 4892 bytes\n",
      "csv.ipynb is a file with size 5608 bytes\n",
      "concurrency.ipynb is a file with size 34926 bytes\n"
     ]
    }
   ],
   "source": [
    "files = os.listdir()\n",
    "for fname in files:\n",
    "    if os.path.isdir(fname):\n",
    "        print(fname, \"is a folder\")\n",
    "    elif os.path.isfile(fname):\n",
    "        size = os.path.getsize(fname)\n",
    "        print(fname, \"is a file with size\", size, \"bytes\")"
   ]
  },
  {
   "cell_type": "markdown",
   "metadata": {},
   "source": [
    "Here's a combination of functions to get the current directory (`os.getcwd`), change the directory (`os.chdir`), check if a file exists (`os.path.exists`), and split a filename from its extension:"
   ]
  },
  {
   "cell_type": "code",
   "execution_count": 19,
   "metadata": {},
   "outputs": [
    {
     "name": "stdout",
     "output_type": "stream",
     "text": [
      "crops.txt exists? True\n",
      "crops.csv exists? False\n"
     ]
    }
   ],
   "source": [
    "curdir = os.getcwd()\n",
    "os.chdir('../data')\n",
    "fname = 'crops.txt'\n",
    "print(fname, 'exists?', os.path.exists(fname))\n",
    "fname = os.path.splitext('crops.txt')[0] + '.csv'\n",
    "print(fname, 'exists?', os.path.exists(fname))\n",
    "os.chdir(curdir)"
   ]
  },
  {
   "cell_type": "markdown",
   "metadata": {},
   "source": [
    "See the [os](https://docs.python.org/3.5/library/os.html) and [os.path](https://docs.python.org/3.5/library/os.path.html#module-os.path) modules for more functions."
   ]
  },
  {
   "cell_type": "markdown",
   "metadata": {},
   "source": [
    "# Serializing objects\n",
    "\n",
    "The `json` module allows to encode Python objects to text and decode them back again. It implements the [JSON](http://json.org/) (JavaScript Object Notation) format, a lightweight data interchange format inspired by JavaScript object literal syntax, and is therefore interoperable and widely used outside of the Python ecosystem. Also, the format is human-readable, which allows the developer to inspect the data from file without requiring him to deserialize the data.\n",
    "\n",
    "We start by importing the module and creating an example data dictionary:"
   ]
  },
  {
   "cell_type": "code",
   "execution_count": 1,
   "metadata": {},
   "outputs": [
    {
     "data": {
      "text/plain": [
       "{'a_string': 'Hello JSON',\n",
       " 'ints_in_a_tuple': (5, 6, 7, 2, 3, 5, 6),\n",
       " 'list_as_well': [True, False, 'This', 'That'],\n",
       " 'some_number': 5768.4454}"
      ]
     },
     "execution_count": 1,
     "metadata": {},
     "output_type": "execute_result"
    }
   ],
   "source": [
    "import json\n",
    "\n",
    "data = { \n",
    "    'a_string': 'Hello JSON', \n",
    "    'ints_in_a_tuple': (5, 6, 7, 2, 3, 5, 6), \n",
    "    'some_number': 5768.4454,\n",
    "    'list_as_well': [True, False, 'This', 'That']\n",
    "} \n",
    "data"
   ]
  },
  {
   "cell_type": "markdown",
   "metadata": {},
   "source": [
    "We **dump** the dictionary into a string:"
   ]
  },
  {
   "cell_type": "code",
   "execution_count": 2,
   "metadata": {},
   "outputs": [
    {
     "data": {
      "text/plain": [
       "'{\"a_string\": \"Hello JSON\", \"ints_in_a_tuple\": [5, 6, 7, 2, 3, 5, 6], \"some_number\": 5768.4454, \"list_as_well\": [true, false, \"This\", \"That\"]}'"
      ]
     },
     "execution_count": 2,
     "metadata": {},
     "output_type": "execute_result"
    }
   ],
   "source": [
    "data_string = json.dumps(data)\n",
    "data_string"
   ]
  },
  {
   "cell_type": "markdown",
   "metadata": {},
   "source": [
    "If we want to save this to a file, we can either write the string to a file or dump directly to a file:"
   ]
  },
  {
   "cell_type": "code",
   "execution_count": 3,
   "metadata": {},
   "outputs": [],
   "source": [
    "fname = tempfile.mktemp(suffix='.json')\n",
    "\n",
    "with open(fname, 'w') as f:\n",
    "     json.dump(data, f)"
   ]
  },
  {
   "cell_type": "code",
   "execution_count": 4,
   "metadata": {},
   "outputs": [],
   "source": [
    "%less $fname"
   ]
  },
  {
   "cell_type": "markdown",
   "metadata": {},
   "source": [
    "We can make the file more readable with some configuration:"
   ]
  },
  {
   "cell_type": "code",
   "execution_count": 5,
   "metadata": {
    "collapsed": true,
    "jupyter": {
     "outputs_hidden": true
    }
   },
   "outputs": [],
   "source": [
    "_, fname = tempfile.mkstemp(suffix='.json')\n",
    "\n",
    "with open(fname, 'w') as f:\n",
    "     json.dump(data, f, sort_keys=True, indent=4, separators=(',', ': '))"
   ]
  },
  {
   "cell_type": "code",
   "execution_count": 6,
   "metadata": {
    "collapsed": true,
    "jupyter": {
     "outputs_hidden": true
    }
   },
   "outputs": [],
   "source": [
    "%less $fname"
   ]
  },
  {
   "cell_type": "markdown",
   "metadata": {},
   "source": [
    "Not everything is supported by `json`, for example, `complex` numbers:"
   ]
  },
  {
   "cell_type": "code",
   "execution_count": 7,
   "metadata": {
    "scrolled": true
   },
   "outputs": [
    {
     "ename": "TypeError",
     "evalue": "Object of type 'complex' is not JSON serializable",
     "output_type": "error",
     "traceback": [
      "\u001b[0;31m---------------------------------------------------------------------------\u001b[0m",
      "\u001b[0;31mTypeError\u001b[0m                                 Traceback (most recent call last)",
      "\u001b[0;32m<ipython-input-7-e209f240b279>\u001b[0m in \u001b[0;36m<module>\u001b[0;34m()\u001b[0m\n\u001b[0;32m----> 1\u001b[0;31m \u001b[0mjson\u001b[0m\u001b[0;34m.\u001b[0m\u001b[0mdumps\u001b[0m\u001b[0;34m(\u001b[0m\u001b[0;34m[\u001b[0m\u001b[0;36m1\u001b[0m \u001b[0;34m+\u001b[0m \u001b[0;36m2j\u001b[0m\u001b[0;34m,\u001b[0m \u001b[0;36m4\u001b[0m \u001b[0;34m+\u001b[0m \u001b[0;36m5j\u001b[0m\u001b[0;34m]\u001b[0m\u001b[0;34m)\u001b[0m\u001b[0;34m\u001b[0m\u001b[0m\n\u001b[0m",
      "\u001b[0;32m/Users/yoavram/miniconda3/envs/Py4Eng/lib/python3.6/json/__init__.py\u001b[0m in \u001b[0;36mdumps\u001b[0;34m(obj, skipkeys, ensure_ascii, check_circular, allow_nan, cls, indent, separators, default, sort_keys, **kw)\u001b[0m\n\u001b[1;32m    229\u001b[0m         \u001b[0mcls\u001b[0m \u001b[0;32mis\u001b[0m \u001b[0;32mNone\u001b[0m \u001b[0;32mand\u001b[0m \u001b[0mindent\u001b[0m \u001b[0;32mis\u001b[0m \u001b[0;32mNone\u001b[0m \u001b[0;32mand\u001b[0m \u001b[0mseparators\u001b[0m \u001b[0;32mis\u001b[0m \u001b[0;32mNone\u001b[0m \u001b[0;32mand\u001b[0m\u001b[0;34m\u001b[0m\u001b[0m\n\u001b[1;32m    230\u001b[0m         default is None and not sort_keys and not kw):\n\u001b[0;32m--> 231\u001b[0;31m         \u001b[0;32mreturn\u001b[0m \u001b[0m_default_encoder\u001b[0m\u001b[0;34m.\u001b[0m\u001b[0mencode\u001b[0m\u001b[0;34m(\u001b[0m\u001b[0mobj\u001b[0m\u001b[0;34m)\u001b[0m\u001b[0;34m\u001b[0m\u001b[0m\n\u001b[0m\u001b[1;32m    232\u001b[0m     \u001b[0;32mif\u001b[0m \u001b[0mcls\u001b[0m \u001b[0;32mis\u001b[0m \u001b[0;32mNone\u001b[0m\u001b[0;34m:\u001b[0m\u001b[0;34m\u001b[0m\u001b[0m\n\u001b[1;32m    233\u001b[0m         \u001b[0mcls\u001b[0m \u001b[0;34m=\u001b[0m \u001b[0mJSONEncoder\u001b[0m\u001b[0;34m\u001b[0m\u001b[0m\n",
      "\u001b[0;32m/Users/yoavram/miniconda3/envs/Py4Eng/lib/python3.6/json/encoder.py\u001b[0m in \u001b[0;36mencode\u001b[0;34m(self, o)\u001b[0m\n\u001b[1;32m    197\u001b[0m         \u001b[0;31m# exceptions aren't as detailed.  The list call should be roughly\u001b[0m\u001b[0;34m\u001b[0m\u001b[0;34m\u001b[0m\u001b[0m\n\u001b[1;32m    198\u001b[0m         \u001b[0;31m# equivalent to the PySequence_Fast that ''.join() would do.\u001b[0m\u001b[0;34m\u001b[0m\u001b[0;34m\u001b[0m\u001b[0m\n\u001b[0;32m--> 199\u001b[0;31m         \u001b[0mchunks\u001b[0m \u001b[0;34m=\u001b[0m \u001b[0mself\u001b[0m\u001b[0;34m.\u001b[0m\u001b[0miterencode\u001b[0m\u001b[0;34m(\u001b[0m\u001b[0mo\u001b[0m\u001b[0;34m,\u001b[0m \u001b[0m_one_shot\u001b[0m\u001b[0;34m=\u001b[0m\u001b[0;32mTrue\u001b[0m\u001b[0;34m)\u001b[0m\u001b[0;34m\u001b[0m\u001b[0m\n\u001b[0m\u001b[1;32m    200\u001b[0m         \u001b[0;32mif\u001b[0m \u001b[0;32mnot\u001b[0m \u001b[0misinstance\u001b[0m\u001b[0;34m(\u001b[0m\u001b[0mchunks\u001b[0m\u001b[0;34m,\u001b[0m \u001b[0;34m(\u001b[0m\u001b[0mlist\u001b[0m\u001b[0;34m,\u001b[0m \u001b[0mtuple\u001b[0m\u001b[0;34m)\u001b[0m\u001b[0;34m)\u001b[0m\u001b[0;34m:\u001b[0m\u001b[0;34m\u001b[0m\u001b[0m\n\u001b[1;32m    201\u001b[0m             \u001b[0mchunks\u001b[0m \u001b[0;34m=\u001b[0m \u001b[0mlist\u001b[0m\u001b[0;34m(\u001b[0m\u001b[0mchunks\u001b[0m\u001b[0;34m)\u001b[0m\u001b[0;34m\u001b[0m\u001b[0m\n",
      "\u001b[0;32m/Users/yoavram/miniconda3/envs/Py4Eng/lib/python3.6/json/encoder.py\u001b[0m in \u001b[0;36miterencode\u001b[0;34m(self, o, _one_shot)\u001b[0m\n\u001b[1;32m    255\u001b[0m                 \u001b[0mself\u001b[0m\u001b[0;34m.\u001b[0m\u001b[0mkey_separator\u001b[0m\u001b[0;34m,\u001b[0m \u001b[0mself\u001b[0m\u001b[0;34m.\u001b[0m\u001b[0mitem_separator\u001b[0m\u001b[0;34m,\u001b[0m \u001b[0mself\u001b[0m\u001b[0;34m.\u001b[0m\u001b[0msort_keys\u001b[0m\u001b[0;34m,\u001b[0m\u001b[0;34m\u001b[0m\u001b[0m\n\u001b[1;32m    256\u001b[0m                 self.skipkeys, _one_shot)\n\u001b[0;32m--> 257\u001b[0;31m         \u001b[0;32mreturn\u001b[0m \u001b[0m_iterencode\u001b[0m\u001b[0;34m(\u001b[0m\u001b[0mo\u001b[0m\u001b[0;34m,\u001b[0m \u001b[0;36m0\u001b[0m\u001b[0;34m)\u001b[0m\u001b[0;34m\u001b[0m\u001b[0m\n\u001b[0m\u001b[1;32m    258\u001b[0m \u001b[0;34m\u001b[0m\u001b[0m\n\u001b[1;32m    259\u001b[0m def _make_iterencode(markers, _default, _encoder, _indent, _floatstr,\n",
      "\u001b[0;32m/Users/yoavram/miniconda3/envs/Py4Eng/lib/python3.6/json/encoder.py\u001b[0m in \u001b[0;36mdefault\u001b[0;34m(self, o)\u001b[0m\n\u001b[1;32m    178\u001b[0m         \"\"\"\n\u001b[1;32m    179\u001b[0m         raise TypeError(\"Object of type '%s' is not JSON serializable\" %\n\u001b[0;32m--> 180\u001b[0;31m                         o.__class__.__name__)\n\u001b[0m\u001b[1;32m    181\u001b[0m \u001b[0;34m\u001b[0m\u001b[0m\n\u001b[1;32m    182\u001b[0m     \u001b[0;32mdef\u001b[0m \u001b[0mencode\u001b[0m\u001b[0;34m(\u001b[0m\u001b[0mself\u001b[0m\u001b[0;34m,\u001b[0m \u001b[0mo\u001b[0m\u001b[0;34m)\u001b[0m\u001b[0;34m:\u001b[0m\u001b[0;34m\u001b[0m\u001b[0m\n",
      "\u001b[0;31mTypeError\u001b[0m: Object of type 'complex' is not JSON serializable"
     ]
    }
   ],
   "source": [
    "json.dumps([1 + 2j, 4 + 5j])"
   ]
  },
  {
   "cell_type": "code",
   "execution_count": 8,
   "metadata": {},
   "outputs": [],
   "source": [
    "def encode_complex(obj):\n",
    "    if isinstance(obj, complex):\n",
    "        return {'real': obj.real, 'imag': obj.imag}"
   ]
  },
  {
   "cell_type": "code",
   "execution_count": 17,
   "metadata": {},
   "outputs": [
    {
     "data": {
      "text/plain": [
       "'[{\"real\": 1.0, \"imag\": 2.0}, {\"real\": 4.0, \"imag\": 5.0}, 5]'"
      ]
     },
     "execution_count": 17,
     "metadata": {},
     "output_type": "execute_result"
    }
   ],
   "source": [
    "data = [1 + 2j, 4 + 5j, 5]\n",
    "dump = json.dumps(data, default=encode_complex)\n",
    "dump"
   ]
  },
  {
   "cell_type": "markdown",
   "metadata": {},
   "source": [
    "And to decode:"
   ]
  },
  {
   "cell_type": "code",
   "execution_count": 18,
   "metadata": {},
   "outputs": [
    {
     "name": "stdout",
     "output_type": "stream",
     "text": [
      "[(1+2j), (4+5j), 5] True\n"
     ]
    }
   ],
   "source": [
    "def decode_complex(o):\n",
    "    if 'real' in o and 'imag' in o: # no need for isinstance(o, dict) as o is always dict, see docstring\n",
    "        return complex(o['real'], o['imag'])\n",
    "    return o\n",
    "\n",
    "data2 = json.loads(dump, object_hook=decode_complex)\n",
    "print(data2, data2 == data)"
   ]
  },
  {
   "cell_type": "markdown",
   "metadata": {},
   "source": [
    "# References\n",
    "\n",
    "- The [pickle](https://docs.python.org/3.5/library/pickle.html?highlight=pickle#module-pickle) module implements binary protocols for serializing and de-serializing a Python object structure. It can deal with (almost) any Python object, but produces binary rather than text files, and is Python specific. The `pickle` API is similar to that of `json`.\n",
    "- The [io](https://docs.python.org/3.5/library/io.html) module provides facilities for dealing with various types of I/O."
   ]
  },
  {
   "cell_type": "markdown",
   "metadata": {},
   "source": [
    "## Colophon\n",
    "This notebook was written by [Yoav Ram](http://python.yoavram.com) and is part of the [_Python for Engineers_](https://github.com/yoavram/Py4Eng) course.\n",
    "\n",
    "The notebook was written using [Python](http://python.org/) 3.7.\n",
    "Dependencies listed in [environment.yml](../environment.yml), full versions in [environment_full.yml](../environment_full.yml).\n",
    "\n",
    "This work is licensed under a CC BY-NC-SA 4.0 International License.\n",
    "\n",
    "![Python logo](https://www.python.org/static/community_logos/python-logo.png)"
   ]
  }
 ],
 "metadata": {
  "kernelspec": {
   "display_name": "Python [conda env:DataSciPy]",
   "language": "python",
   "name": "conda-env-DataSciPy-py"
  },
  "language_info": {
   "codemirror_mode": {
    "name": "ipython",
    "version": 3
   },
   "file_extension": ".py",
   "mimetype": "text/x-python",
   "name": "python",
   "nbconvert_exporter": "python",
   "pygments_lexer": "ipython3",
   "version": "3.13.3"
  }
 },
 "nbformat": 4,
 "nbformat_minor": 4
}
