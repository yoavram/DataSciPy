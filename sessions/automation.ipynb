{
 "cells": [
  {
   "cell_type": "markdown",
   "metadata": {},
   "source": [
    "# Task scheduling, monitoring and basic applications with Python"
   ]
  },
  {
   "cell_type": "markdown",
   "metadata": {},
   "source": [
    "## What is task automation Using Python"
   ]
  },
  {
   "cell_type": "markdown",
   "metadata": {},
   "source": [
    "From the book [Automate the Boring Stuff with Python](https://automatetheboringstuff.com/) By Al Sweigart:\n",
    "\n",
    "\"If you've ever spent hours renaming files or updating hundreds of spreadsheet cells, you know how tedious tasks like these can be. But what if you could have your computer do them for you?\""
   ]
  },
  {
   "cell_type": "markdown",
   "metadata": {},
   "source": [
    "## Monitoring file system events"
   ]
  },
  {
   "cell_type": "markdown",
   "metadata": {},
   "source": [
    "Monitoring file system events can be valuable for various reasons, particularly in scenarios where you need to track changes, updates, or activities within the file system"
   ]
  },
  {
   "cell_type": "markdown",
   "metadata": {},
   "source": [
    "We will use the [Watchdog](https://pythonhosted.org/watchdog) package.\n",
    "```\n",
    "conda install watchdog\n",
    "```\n",
    "We will write an event handler for filesystem events, and give it to an observer that will use the event handler to handle events on a specific path, the `img` folder.\n",
    "\n",
    "Our event handler will be very simple, it will just print the filename related to each event."
   ]
  },
  {
   "cell_type": "code",
   "execution_count": 1,
   "metadata": {},
   "outputs": [],
   "source": [
    "from watchdog.observers import Observer\n",
    "import watchdog.events"
   ]
  },
  {
   "cell_type": "code",
   "execution_count": 3,
   "metadata": {},
   "outputs": [],
   "source": [
    "class MyEventHandler(watchdog.events.FileSystemEventHandler):\n",
    "    def on_any_event(self, event):\n",
    "        fname = event.src_path\n",
    "        print(\"Something happened to\", fname, event.event_type)\n",
    "        "
   ]
  },
  {
   "cell_type": "code",
   "execution_count": 5,
   "metadata": {},
   "outputs": [],
   "source": [
    "path = '../data/files'\n",
    "event_handler = MyEventHandler()\n",
    "observer = Observer()\n",
    "observer.schedule(event_handler, path, recursive=False)\n",
    "observer.start()"
   ]
  },
  {
   "cell_type": "markdown",
   "metadata": {},
   "source": [
    "When we started the observer, it created a new thread for it to run in.\n",
    "\n",
    "Here we use Jupyter magic to write to a file in that observed path."
   ]
  },
  {
   "cell_type": "code",
   "execution_count": null,
   "metadata": {},
   "outputs": [],
   "source": [
    "%%file ../data/files/tmp.txt\n",
    "this is a tmp file"
   ]
  },
  {
   "cell_type": "code",
   "execution_count": 7,
   "metadata": {},
   "outputs": [],
   "source": [
    "# We will explain why we need these lines in the 'concurrency' session\n",
    "observer.stop()\n",
    "observer.join()"
   ]
  },
  {
   "cell_type": "markdown",
   "metadata": {},
   "source": [
    "Let's create an observer that converts an image file into a compressed image file when added to a certain directory."
   ]
  },
  {
   "cell_type": "code",
   "execution_count": 11,
   "metadata": {},
   "outputs": [],
   "source": [
    "from pathlib import Path\n",
    "from PIL import Image # imported for image conversion\n",
    "\n",
    "class ImageFileHandler(watchdog.events.FileSystemEventHandler):\n",
    "    def convert_images_to_png(self, file_path: Path):\n",
    "        try:\n",
    "            (file_path.parent / \"compressed\").mkdir(exist_ok=True)\n",
    "            with Image.open(file_path) as img:\n",
    "                new_file_path = file_path.parent / \"compressed\" / (file_path.stem + \".png\")\n",
    "                img.save(new_file_path, 'PNG')\n",
    "                print(f\"Converted '{file_path.name}' to '{new_file_path.name}'\")\n",
    "            # file_path.unlink() uncommment if you want to original file to be deleted.\n",
    "        except Exception as e:\n",
    "            print(f\"Could not convert '{file_path.name}': {e}\")\n",
    "\n",
    "    def on_created(self, event):\n",
    "            fname = Path(event.src_path).resolve()\n",
    "            if fname.is_dir():\n",
    "                return\n",
    "\n",
    "            print(fname.name, event.event_type,\"in\", fname.parent)\n",
    "            self.convert_images_to_png(fname)"
   ]
  },
  {
   "cell_type": "code",
   "execution_count": null,
   "metadata": {},
   "outputs": [],
   "source": [
    "event_handler = ImageFileHandler()\n",
    "image_observer = Observer()\n",
    "\n",
    "image_directory_path = Path(\"../data/drop_here_to_compress\").resolve()\n",
    "image_observer.schedule(event_handler, image_directory_path, recursive=False)\n",
    "image_observer.start()"
   ]
  },
  {
   "cell_type": "code",
   "execution_count": 16,
   "metadata": {},
   "outputs": [],
   "source": [
    "image_observer.stop()\n",
    "image_observer.join()"
   ]
  },
  {
   "cell_type": "markdown",
   "metadata": {},
   "source": [
    "## Scheduling jobs"
   ]
  },
  {
   "cell_type": "markdown",
   "metadata": {},
   "source": [
    "In Python, you can schedule jobs using various libraries and modules.\n",
    "One commonly used module for scheduling tasks in Python is ```apscheduler```. \n",
    "It provides a simple interface for scheduling jobs to run at specific intervals. "
   ]
  },
  {
   "cell_type": "markdown",
   "metadata": {},
   "source": [
    "\n",
    "We will use the [Advanced Python Scheduler](https://apscheduler.readthedocs.org/).\n",
    "```\n",
    "conda install apscheduler\n",
    "```\n",
    "We create a background scheduler (which runs in the background) and start it (in its own thread).\n",
    "We will discuss threads more extensivley in the coming lectures.\n",
    "\n",
    "Here's a basic example using the schedule module to schedule a job to print a message every minute:"
   ]
  },
  {
   "cell_type": "code",
   "execution_count": 17,
   "metadata": {},
   "outputs": [],
   "source": [
    "from apscheduler.schedulers.background import BackgroundScheduler\n",
    "from datetime import datetime"
   ]
  },
  {
   "cell_type": "code",
   "execution_count": 18,
   "metadata": {},
   "outputs": [],
   "source": [
    "scheduler = BackgroundScheduler()\n",
    "scheduler.start()"
   ]
  },
  {
   "cell_type": "markdown",
   "metadata": {},
   "source": [
    "Now we write a function that performs some specific job, and add it to the scheduler."
   ]
  },
  {
   "cell_type": "code",
   "execution_count": null,
   "metadata": {},
   "outputs": [],
   "source": [
    "def job():\n",
    "    print('{time}: Hello scheduler!'.format(time=datetime.now().ctime()))\n",
    "scheduler.add_job(job) # this will run the job now (immediately)."
   ]
  },
  {
   "cell_type": "markdown",
   "metadata": {},
   "source": [
    "Now we add another job, but this time we ask that it will run every 15 seconds that pass, rather then now."
   ]
  },
  {
   "cell_type": "code",
   "execution_count": 20,
   "metadata": {},
   "outputs": [
    {
     "name": "stdout",
     "output_type": "stream",
     "text": [
      "Mon Jun 17 09:56:54 2024\n"
     ]
    }
   ],
   "source": [
    "scheduler.add_job(job, trigger='interval', minutes=0.25) # 15sec = 0.25*1minute\n",
    "print(datetime.now().ctime())"
   ]
  },
  {
   "cell_type": "code",
   "execution_count": 21,
   "metadata": {},
   "outputs": [],
   "source": [
    "scheduler.shutdown()"
   ]
  },
  {
   "cell_type": "markdown",
   "metadata": {},
   "source": [
    "Example - gzip every night at 00:00 compress all images that were converted by watchdog during the day."
   ]
  },
  {
   "cell_type": "code",
   "execution_count": null,
   "metadata": {},
   "outputs": [],
   "source": [
    "import shutil # import this to create compressed archives.\n",
    "\n",
    "def compress_directory(directory):\n",
    "    dir_path = Path(directory).resolve()\n",
    "    zip_filename = dir_path.parent.parent / f\"{datetime.now().strftime('%Y-%m-%d')}\"\n",
    "    shutil.make_archive(zip_filename, 'zip', dir_path)\n",
    "\n",
    "    print(\"Directory compressed to\", zip_filename)\n",
    "\n",
    "directory_to_compress = Path(\"../data/drop_here_to_compress/compressed\").resolve()\n",
    "\n",
    "scheduler = BackgroundScheduler()\n",
    "scheduler.add_job(compress_directory, 'cron', args=[directory_to_compress], hour=0, minute=0)\n",
    "scheduler.start()\n",
    "\n",
    "print(\"Scheduled to compress directory\", directory_to_compress, \"every night at midnight.\")\n"
   ]
  },
  {
   "cell_type": "markdown",
   "metadata": {},
   "source": [
    "Finally we can shutdown the scheduler."
   ]
  },
  {
   "cell_type": "code",
   "execution_count": null,
   "metadata": {},
   "outputs": [],
   "source": [
    "scheduler.shutdown()"
   ]
  },
  {
   "cell_type": "markdown",
   "metadata": {},
   "source": [
    "## Command line interfaces"
   ]
  },
  {
   "cell_type": "markdown",
   "metadata": {},
   "source": [
    "`argparse` is a Python module that simplifies the process of parsing command-line arguments. It allows you to define the arguments your script expects and automatically generates help messages and usage instructions based on that definition.\n",
    "\n",
    "Here's a brief explanation of key concepts in `argparse`:\n",
    "\n",
    "1. **ArgumentParser**: The central object in the `argparse` module. You create an instance of `ArgumentParser` to define the command-line arguments your program can accept.\n",
    "\n",
    "2. **Arguments**: These are the options and values provided to your script when it's run from the command line. Arguments typically consist of flags (like `--verbose`) and their associated values.\n",
    "\n",
    "3. **Positional Arguments**: These are arguments that are required and must be provided in a specific order. For example, a filename might be a positional argument.\n",
    "\n",
    "4. **Optional Arguments**: These are arguments that are not required and can be provided in any order. They usually start with a dash (`-`) or a double dash (`--`).\n",
    "\n",
    "5. **Parsing**: Once you've defined your expected arguments with `ArgumentParser`, you call the `parse_args()` method to parse the command-line arguments provided when the script is run. `parse_args()` returns an object containing the values of the parsed arguments.\n",
    "\n",
    "6. **Help Text**: `argparse` automatically generates help text based on the argument definitions you provide. This help text is displayed when the user runs your script with the `-h` or `--help` flag.\n",
    "\n",
    "Overall, `argparse` simplifies the process of creating Python scripts that can be run from the command line by handling the parsing of command-line arguments and providing a user-friendly interface for usage and help information."
   ]
  },
  {
   "cell_type": "markdown",
   "metadata": {},
   "source": [
    "We will now move to the python script located [here](../scripts/cli_example.py)."
   ]
  },
  {
   "cell_type": "markdown",
   "metadata": {},
   "source": [
    "The second part of the first assignment is [here](../HW/HW1_automation.md)"
   ]
  }
 ],
 "metadata": {
  "kernelspec": {
   "display_name": "Python 3 (ipykernel)",
   "language": "python",
   "name": "python3"
  },
  "language_info": {
   "codemirror_mode": {
    "name": "ipython",
    "version": 3
   },
   "file_extension": ".py",
   "mimetype": "text/x-python",
   "name": "python",
   "nbconvert_exporter": "python",
   "pygments_lexer": "ipython3",
   "version": "3.10.12"
  }
 },
 "nbformat": 4,
 "nbformat_minor": 4
}
