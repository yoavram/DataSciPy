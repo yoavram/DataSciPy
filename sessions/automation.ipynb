{
 "cells": [
  {
   "cell_type": "markdown",
   "metadata": {},
   "source": [
    "![Py4Eng](img/logo.png)\n",
    "\n",
    "# Automation\n",
    "## Yoav Ram"
   ]
  },
  {
   "cell_type": "markdown",
   "metadata": {},
   "source": [
    "From the book [Automate the Boring Stuff with Python](https://automatetheboringstuff.com/) by Al Sweigart:\n",
    "\n",
    "> If you've ever spent hours renaming files or updating hundreds of spreadsheet cells, you know how tedious tasks like these can be. But what if you could have your computer do them for you?"
   ]
  },
  {
   "cell_type": "markdown",
   "metadata": {},
   "source": [
    "## Monitoring file system events"
   ]
  },
  {
   "cell_type": "markdown",
   "metadata": {},
   "source": [
    "Monitoring file system events can be valuable for various reasons, particularly in scenarios where you need to track changes, updates, or activities within the file system"
   ]
  },
  {
   "cell_type": "markdown",
   "metadata": {},
   "source": [
    "We will use the [Watchdog](https://pythonhosted.org/watchdog) package (`pip install watchdog`).\n",
    "\n",
    "We will write an event handler for filesystem events, and give it to an observer that will use the event handler to handle events on a specific path, the `img` folder.\n",
    "\n",
    "Our event handler will be very simple, it will just print the filename related to each event."
   ]
  },
  {
   "cell_type": "code",
   "execution_count": 1,
   "metadata": {},
   "outputs": [],
   "source": [
    "from watchdog.observers import Observer\n",
    "import watchdog.events"
   ]
  },
  {
   "cell_type": "code",
   "execution_count": 3,
   "metadata": {},
   "outputs": [],
   "source": [
    "class MyEventHandler(watchdog.events.FileSystemEventHandler):\n",
    "    def on_any_event(self, event):\n",
    "        fname = event.src_path\n",
    "        print(\"Something happened to\", fname, event.event_type)"
   ]
  },
  {
   "cell_type": "code",
   "execution_count": 6,
   "metadata": {},
   "outputs": [],
   "source": [
    "path = '../data'\n",
    "event_handler = MyEventHandler()\n",
    "observer = Observer()\n",
    "observer.schedule(event_handler, path, recursive=False)\n",
    "observer.start()"
   ]
  },
  {
   "cell_type": "markdown",
   "metadata": {},
   "source": [
    "When we started the observer, it created a new thread for it to run in.\n",
    "\n",
    "Here we use Jupyter magic to write to a file in that observed path."
   ]
  },
  {
   "cell_type": "code",
   "execution_count": 7,
   "metadata": {},
   "outputs": [
    {
     "name": "stdout",
     "output_type": "stream",
     "text": [
      "Writing ../data/tmp.txt\n",
      "Something happened to /Users/yoavram/Work/Teaching/DataSciPy/data/tmp.txt created\n",
      "Something happened to /Users/yoavram/Work/Teaching/DataSciPy/data modified\n",
      "Something happened to /Users/yoavram/Work/Teaching/DataSciPy/data/tmp.txt modified\n"
     ]
    }
   ],
   "source": [
    "%%file ../data/tmp.txt\n",
    "this is a tmp file"
   ]
  },
  {
   "cell_type": "markdown",
   "metadata": {},
   "source": [
    "Now we can stop our observer and wait for it to finish whatever it's doing."
   ]
  },
  {
   "cell_type": "code",
   "execution_count": 8,
   "metadata": {},
   "outputs": [],
   "source": [
    "observer.stop()\n",
    "observer.join()"
   ]
  },
  {
   "cell_type": "markdown",
   "metadata": {},
   "source": [
    "Let's create an observer that converts an image file to PNG format when added to a certain directory."
   ]
  },
  {
   "cell_type": "code",
   "execution_count": 24,
   "metadata": {},
   "outputs": [],
   "source": [
    "from pathlib import Path\n",
    "from PIL import Image # imported for image conversion\n",
    "\n",
    "class ImageFileHandler(watchdog.events.FileSystemEventHandler):\n",
    "    def on_created(self, event):\n",
    "        fname = event.src_path\n",
    "        print(fname, event.event_type)\n",
    "        try:            \n",
    "            with Image.open(fname) as img:\n",
    "                output_fname = fname[:-4] + \".png\"\n",
    "                img.save(output_fname)\n",
    "                print(f\"Converted '{fname}' to '{output_fname}'\")            \n",
    "        except Exception as e:\n",
    "            print(f\"Could not convert '{fname}': {e}\")\n",
    "        "
   ]
  },
  {
   "cell_type": "code",
   "execution_count": 25,
   "metadata": {},
   "outputs": [
    {
     "name": "stdout",
     "output_type": "stream",
     "text": [
      "/Users/yoavram/Work/Teaching/DataSciPy/data/to_png/Kobe_Bryant_2014.jpg created\n",
      "Converted '/Users/yoavram/Work/Teaching/DataSciPy/data/to_png/Kobe_Bryant_2014.jpg' to '/Users/yoavram/Work/Teaching/DataSciPy/data/to_png/Kobe_Bryant_2014.png'\n"
     ]
    }
   ],
   "source": [
    "event_handler = ImageFileHandler()\n",
    "image_observer = Observer()\n",
    "\n",
    "image_directory_path = \"../data/to_png\"\n",
    "image_observer.schedule(event_handler, image_directory_path, recursive=False)\n",
    "image_observer.start()"
   ]
  },
  {
   "cell_type": "code",
   "execution_count": 26,
   "metadata": {},
   "outputs": [],
   "source": [
    "image_observer.stop()\n",
    "image_observer.join()"
   ]
  },
  {
   "cell_type": "markdown",
   "metadata": {},
   "source": [
    "## Scheduling jobs"
   ]
  },
  {
   "cell_type": "markdown",
   "metadata": {},
   "source": [
    "In Python, you can schedule jobs using various libraries and modules.\n",
    "\n",
    "We will use the [Advanced Python Scheduler](https://apscheduler.readthedocs.org/) (`pip install apscheduler`).\n",
    "It provides a simple interface for scheduling jobs to run at specific intervals. \n",
    "\n",
    "We create a background scheduler (which runs in the background) and start it (in its own thread).\n",
    "We will discuss threads more extensivley in the coming lectures.\n",
    "\n",
    "Here's a basic example: we schedule a job to print a message every minute."
   ]
  },
  {
   "cell_type": "code",
   "execution_count": 1,
   "metadata": {},
   "outputs": [],
   "source": [
    "from apscheduler.schedulers.background import BackgroundScheduler\n",
    "from datetime import datetime"
   ]
  },
  {
   "cell_type": "code",
   "execution_count": 2,
   "metadata": {},
   "outputs": [
    {
     "name": "stdout",
     "output_type": "stream",
     "text": [
      "Mon Jun 24 16:04:43 2024: Hello!\n",
      "Mon Jun 24 16:05:11 2024: Hello!\n",
      "Mon Jun 24 16:05:26 2024: Hello!\n"
     ]
    }
   ],
   "source": [
    "scheduler = BackgroundScheduler()\n",
    "scheduler.start()"
   ]
  },
  {
   "cell_type": "markdown",
   "metadata": {},
   "source": [
    "Now we write a function that performs some specific job, and add it to the scheduler."
   ]
  },
  {
   "cell_type": "code",
   "execution_count": 3,
   "metadata": {},
   "outputs": [
    {
     "data": {
      "text/plain": [
       "<Job (id=c60a462f13d54f1587cb081291e3019a name=job)>"
      ]
     },
     "execution_count": 3,
     "metadata": {},
     "output_type": "execute_result"
    }
   ],
   "source": [
    "def job():\n",
    "    print('{time}: Hello!'.format(time=datetime.now().ctime()))\n",
    "scheduler.add_job(job) # this will run the job now (immediately)."
   ]
  },
  {
   "cell_type": "markdown",
   "metadata": {},
   "source": [
    "Now we add another job, but this time we ask that it will run every 15 seconds rather then now."
   ]
  },
  {
   "cell_type": "code",
   "execution_count": 4,
   "metadata": {},
   "outputs": [
    {
     "name": "stdout",
     "output_type": "stream",
     "text": [
      "Mon Jun 24 16:04:56 2024\n"
     ]
    }
   ],
   "source": [
    "scheduler.add_job(job, trigger='interval', minutes=0.25) # 15sec = 0.25*1minute\n",
    "print(datetime.now().ctime())"
   ]
  },
  {
   "cell_type": "code",
   "execution_count": 5,
   "metadata": {},
   "outputs": [],
   "source": [
    "scheduler.shutdown()"
   ]
  },
  {
   "cell_type": "markdown",
   "metadata": {},
   "source": [
    "Example - gzip every night at 00:00 compress all images that were converted by watchdog during the day."
   ]
  },
  {
   "cell_type": "code",
   "execution_count": 7,
   "metadata": {},
   "outputs": [
    {
     "name": "stdout",
     "output_type": "stream",
     "text": [
      "Scheduled to compress directory ../data/to_png every night at midnight.\n"
     ]
    }
   ],
   "source": [
    "import shutil # import this to create compressed archives.\n",
    "\n",
    "def compress_directory(directory):\n",
    "    dir_path = directory\n",
    "    zip_filename = f\"images_{datetime.now().strftime('%Y-%m-%d')}\"\n",
    "    shutil.make_archive(zip_filename, 'zip', dir_path)\n",
    "    print(\"Directory compressed to\", zip_filename)\n",
    "\n",
    "directory_to_compress = \"../data/to_png\"\n",
    "\n",
    "scheduler = BackgroundScheduler()\n",
    "scheduler.add_job(compress_directory, 'cron', args=[directory_to_compress], hour=0, minute=0)\n",
    "scheduler.start()\n",
    "\n",
    "print(\"Scheduled to compress directory\", directory_to_compress, \"every night at midnight.\")"
   ]
  },
  {
   "cell_type": "markdown",
   "metadata": {},
   "source": [
    "Finally we can shutdown the scheduler."
   ]
  },
  {
   "cell_type": "code",
   "execution_count": 8,
   "metadata": {},
   "outputs": [],
   "source": [
    "scheduler.shutdown()"
   ]
  },
  {
   "cell_type": "markdown",
   "metadata": {},
   "source": [
    "# Colophon\n",
    "This notebook was written by [Yoav Ram](http://python.yoavram.com).\n",
    "\n",
    "This work is licensed under a CC BY-NC-SA 4.0 International License.\n",
    "\n",
    "![Python logo](https://www.python.org/static/community_logos/python-logo.png)"
   ]
  }
 ],
 "metadata": {
  "kernelspec": {
   "display_name": "Python [conda env:Mobileye]",
   "language": "python",
   "name": "conda-env-Mobileye-py"
  },
  "language_info": {
   "codemirror_mode": {
    "name": "ipython",
    "version": 3
   },
   "file_extension": ".py",
   "mimetype": "text/x-python",
   "name": "python",
   "nbconvert_exporter": "python",
   "pygments_lexer": "ipython3",
   "version": "3.12.4"
  }
 },
 "nbformat": 4,
 "nbformat_minor": 4
}
