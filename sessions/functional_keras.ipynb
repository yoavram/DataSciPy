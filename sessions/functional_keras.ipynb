{
 "cells": [
  {
   "cell_type": "markdown",
   "metadata": {},
   "source": [
    "![Py4Eng](img/logo.png)\n",
    "\n",
    "# Keras Functional API\n",
    "## Yoav Ram\n",
    "\n",
    "The [functional API](https://keras.io/guides/functional_api/) is an advanced Keras feature that is used for building non-sequential networks, such as ResNet, or networks made from mutiple nested models, such as GAN and autoencoders.\n",
    "\n",
    "In the functional API, each layer is a function that operates on an input to produce an output. These inputs and outputs are *symbolic* and do not contain any data when we set the network up. They will only contain data during training or predicting."
   ]
  },
  {
   "cell_type": "code",
   "execution_count": 2,
   "metadata": {},
   "outputs": [
    {
     "name": "stdout",
     "output_type": "stream",
     "text": [
      "Tensorflow: 2.13.1\n",
      "Keras: 2.13.1\n",
      "GPU: []\n",
      "\n"
     ]
    }
   ],
   "source": [
    "%matplotlib inline\n",
    "import matplotlib.pyplot as plt\n",
    "import pickle\n",
    "\n",
    "import tensorflow as tf\n",
    "import keras\n",
    "\n",
    "print('Tensorflow:', tf.__version__)    \n",
    "print('Keras:', keras.__version__)\n",
    "print('GPU:', tf.config.list_physical_devices('GPU'))\n",
    "print(tf.test.gpu_device_name())"
   ]
  },
  {
   "cell_type": "code",
   "execution_count": 3,
   "metadata": {},
   "outputs": [],
   "source": [
    "def display_image(im):\n",
    "    fig, ax = plt.subplots()\n",
    "    ax.imshow(im, cmap='gray_r')\n",
    "    ax.set_xticks([])\n",
    "    ax.set_yticks([])    "
   ]
  },
  {
   "cell_type": "code",
   "execution_count": 4,
   "metadata": {},
   "outputs": [],
   "source": [
    "(X_train, Y_train), (X_test, Y_test) = keras.datasets.mnist.load_data()\n",
    "nsamples, width, height = X_train.shape\n",
    "X_train = (X_train/255).astype('float32')\n",
    "X_test = (X_test/255).astype('float32')"
   ]
  },
  {
   "cell_type": "code",
   "execution_count": 5,
   "metadata": {},
   "outputs": [],
   "source": [
    "Y_train = keras.utils.to_categorical(Y_train)\n",
    "Y_test = keras.utils.to_categorical(Y_test)\n",
    "ncats = Y_test.shape[1]"
   ]
  },
  {
   "cell_type": "markdown",
   "metadata": {},
   "source": [
    "# FFN with `Sequential`\n",
    "\n",
    "This is the two-layers simple feed forward network we implemented already."
   ]
  },
  {
   "cell_type": "code",
   "execution_count": 6,
   "metadata": {},
   "outputs": [
    {
     "name": "stdout",
     "output_type": "stream",
     "text": [
      "Model: \"sequential\"\n",
      "_________________________________________________________________\n",
      " Layer (type)                Output Shape              Param #   \n",
      "=================================================================\n",
      " flatten (Flatten)           (None, 784)               0         \n",
      "                                                                 \n",
      " dense (Dense)               (None, 100)               78500     \n",
      "                                                                 \n",
      " dropout (Dropout)           (None, 100)               0         \n",
      "                                                                 \n",
      " dense_1 (Dense)             (None, 10)                1010      \n",
      "                                                                 \n",
      "=================================================================\n",
      "Total params: 79510 (310.59 KB)\n",
      "Trainable params: 79510 (310.59 KB)\n",
      "Non-trainable params: 0 (0.00 Byte)\n",
      "_________________________________________________________________\n"
     ]
    }
   ],
   "source": [
    "model = keras.models.Sequential()\n",
    "\n",
    "model.add(\n",
    "    keras.layers.Flatten(input_shape=(width, height)))\n",
    "model.add(\n",
    "    keras.layers.Dense(100, activation='relu'))\n",
    "model.add(\n",
    "    keras.layers.Dropout(rate=0.5))\n",
    "model.add(\n",
    "    keras.layers.Dense(ncats, activation='softmax'))\n",
    "model.summary()"
   ]
  },
  {
   "cell_type": "code",
   "execution_count": 7,
   "metadata": {},
   "outputs": [],
   "source": [
    "model.compile(\n",
    "    loss='categorical_crossentropy', \n",
    "    optimizer='adam', \n",
    "    metrics=['accuracy']\n",
    ")"
   ]
  },
  {
   "cell_type": "code",
   "execution_count": 6,
   "metadata": {},
   "outputs": [
    {
     "name": "stdout",
     "output_type": "stream",
     "text": [
      "Epoch 1/5\n",
      "1200/1200 [==============================] - 4s 3ms/step - loss: 0.4593 - accuracy: 0.8638 - val_loss: 0.1912 - val_accuracy: 0.9442\n",
      "Epoch 2/5\n",
      "1200/1200 [==============================] - 3s 3ms/step - loss: 0.2606 - accuracy: 0.9225 - val_loss: 0.1460 - val_accuracy: 0.9562\n",
      "Epoch 3/5\n",
      "1200/1200 [==============================] - 2s 2ms/step - loss: 0.2193 - accuracy: 0.9359 - val_loss: 0.1240 - val_accuracy: 0.9627\n",
      "Epoch 4/5\n",
      "1200/1200 [==============================] - 2s 1ms/step - loss: 0.1959 - accuracy: 0.9415 - val_loss: 0.1084 - val_accuracy: 0.9691\n",
      "Epoch 5/5\n",
      "1200/1200 [==============================] - 2s 1ms/step - loss: 0.1775 - accuracy: 0.9465 - val_loss: 0.1062 - val_accuracy: 0.9687\n"
     ]
    }
   ],
   "source": [
    "history = model.fit(x=X_train, y=Y_train, batch_size=50, epochs=5, \n",
    "    validation_data=(X_test, Y_test),\n",
    ").history"
   ]
  },
  {
   "cell_type": "markdown",
   "metadata": {},
   "source": [
    "# FFN with functional API \n",
    "\n",
    "We now implement it with the functional API.\n",
    "\n",
    "In this API, each layer is a function that works on some input tensor. A tensor is basically a placeholder for future data (array).\n",
    "\n",
    "We first create the layers, then apply them to the tensors. The first tensor is a special `Input` tensor. The model is then created using the input and the output tensors."
   ]
  },
  {
   "cell_type": "code",
   "execution_count": 9,
   "metadata": {},
   "outputs": [
    {
     "name": "stdout",
     "output_type": "stream",
     "text": [
      "Model: \"model\"\n",
      "_________________________________________________________________\n",
      " Layer (type)                Output Shape              Param #   \n",
      "=================================================================\n",
      " input_1 (InputLayer)        [(None, 28, 28)]          0         \n",
      "                                                                 \n",
      " flatten_1 (Flatten)         (None, 784)               0         \n",
      "                                                                 \n",
      " dense_2 (Dense)             (None, 100)               78500     \n",
      "                                                                 \n",
      " dropout_1 (Dropout)         (None, 100)               0         \n",
      "                                                                 \n",
      " dense_3 (Dense)             (None, 10)                1010      \n",
      "                                                                 \n",
      "=================================================================\n",
      "Total params: 79510 (310.59 KB)\n",
      "Trainable params: 79510 (310.59 KB)\n",
      "Non-trainable params: 0 (0.00 Byte)\n",
      "_________________________________________________________________\n"
     ]
    }
   ],
   "source": [
    "flatten_layer = keras.layers.Flatten()\n",
    "hidden_layer = keras.layers.Dense(100, activation=\"relu\")\n",
    "dropout_layer = keras.layers.Dropout(rate=0.5)\n",
    "softmax_layer = keras.layers.Dense(ncats, activation=\"softmax\")\n",
    "\n",
    "x = keras.Input(shape=(width, height))\n",
    "x_flat = flatten_layer(x)\n",
    "h = hidden_layer(x_flat)\n",
    "h_drop = dropout_layer(h)\n",
    "yhat = softmax_layer(h_drop)\n",
    "\n",
    "model = keras.Model(inputs=x, outputs=yhat)\n",
    "model.summary()"
   ]
  },
  {
   "cell_type": "markdown",
   "metadata": {},
   "source": [
    "The rest is per usual - compile and fit."
   ]
  },
  {
   "cell_type": "code",
   "execution_count": 37,
   "metadata": {},
   "outputs": [],
   "source": [
    "model.compile(\n",
    "    loss='categorical_crossentropy', \n",
    "    optimizer='adam', \n",
    "    metrics=['accuracy']\n",
    ")"
   ]
  },
  {
   "cell_type": "code",
   "execution_count": 38,
   "metadata": {},
   "outputs": [
    {
     "name": "stdout",
     "output_type": "stream",
     "text": [
      "Train on 60000 samples, validate on 10000 samples\n",
      "Epoch 1/5\n",
      "60000/60000 [==============================] - 3s 48us/step - loss: 0.4601 - accuracy: 0.8637 - val_loss: 0.1944 - val_accuracy: 0.9420\n",
      "Epoch 2/5\n",
      "60000/60000 [==============================] - 3s 44us/step - loss: 0.2600 - accuracy: 0.9232 - val_loss: 0.1461 - val_accuracy: 0.9555\n",
      "Epoch 3/5\n",
      "60000/60000 [==============================] - 3s 44us/step - loss: 0.2188 - accuracy: 0.9356 - val_loss: 0.1242 - val_accuracy: 0.9625\n",
      "Epoch 4/5\n",
      "60000/60000 [==============================] - 3s 44us/step - loss: 0.1957 - accuracy: 0.9407 - val_loss: 0.1152 - val_accuracy: 0.9642\n",
      "Epoch 5/5\n",
      "60000/60000 [==============================] - 3s 51us/step - loss: 0.1782 - accuracy: 0.9467 - val_loss: 0.1063 - val_accuracy: 0.9696\n"
     ]
    }
   ],
   "source": [
    "history = model.fit(x=X_train, y=Y_train, batch_size=50, epochs=5, \n",
    "    validation_data=(X_test, Y_test),\n",
    ").history"
   ]
  },
  {
   "cell_type": "markdown",
   "metadata": {},
   "source": [
    "# Exercise\n",
    "\n",
    "Implement a CNN using the functional API. See the sequenctial example below (copied from [the CNN session](K_CNN.ipynb)).\n",
    "\n",
    "[solution](../solutions/functional_keras.py)"
   ]
  },
  {
   "cell_type": "code",
   "execution_count": 26,
   "metadata": {},
   "outputs": [],
   "source": [
    "# Sequential example\n",
    "model = keras.models.Sequential()\n",
    "\n",
    "model.add(\n",
    "    keras.layers.Reshape(target_shape=(width, height, 1), \n",
    "                         input_shape=(width, height)))\n",
    "model.add(\n",
    "    keras.layers.Conv2D(32, (5, 5), activation='relu'))\n",
    "model.add(\n",
    "    keras.layers.MaxPool2D())\n",
    "model.add(\n",
    "    keras.layers.Conv2D(64, (5, 5), activation='relu'))\n",
    "model.add(\n",
    "    keras.layers.MaxPool2D())\n",
    "model.add(\n",
    "    keras.layers.Flatten())\n",
    "model.add(\n",
    "    keras.layers.Dense(1024, activation='relu'))\n",
    "model.add(\n",
    "    keras.layers.Dropout(rate=0.5))\n",
    "model.add(\n",
    "    keras.layers.Dense(ncats, activation='softmax'))"
   ]
  },
  {
   "cell_type": "code",
   "execution_count": 28,
   "metadata": {},
   "outputs": [],
   "source": [
    "# Functional \n",
    "# your code here\n",
    "\n",
    "################"
   ]
  },
  {
   "cell_type": "code",
   "execution_count": 44,
   "metadata": {},
   "outputs": [],
   "source": [
    "model.compile(\n",
    "    loss='categorical_crossentropy', \n",
    "    optimizer='adam', \n",
    "    metrics=['accuracy']\n",
    ")"
   ]
  },
  {
   "cell_type": "code",
   "execution_count": 45,
   "metadata": {},
   "outputs": [
    {
     "name": "stdout",
     "output_type": "stream",
     "text": [
      "Train on 60000 samples, validate on 10000 samples\n",
      "Epoch 1/5\n",
      "60000/60000 [==============================] - 2013s 34ms/step - loss: 0.1307 - accuracy: 0.9591 - val_loss: 0.0342 - val_accuracy: 0.9890\n",
      "Epoch 2/5\n",
      "60000/60000 [==============================] - 65s 1ms/step - loss: 0.0441 - accuracy: 0.9862 - val_loss: 0.0298 - val_accuracy: 0.9903\n",
      "Epoch 3/5\n",
      "60000/60000 [==============================] - 65s 1ms/step - loss: 0.0312 - accuracy: 0.9908 - val_loss: 0.0247 - val_accuracy: 0.9917\n",
      "Epoch 4/5\n",
      "60000/60000 [==============================] - 61s 1ms/step - loss: 0.0251 - accuracy: 0.9920 - val_loss: 0.0210 - val_accuracy: 0.9942\n",
      "Epoch 5/5\n",
      "60000/60000 [==============================] - 59s 979us/step - loss: 0.0212 - accuracy: 0.9935 - val_loss: 0.0301 - val_accuracy: 0.9906\n"
     ]
    }
   ],
   "source": [
    "history = model.fit(x=X_train, y=Y_train, batch_size=50, epochs=5, \n",
    "    validation_data=(X_test, Y_test),\n",
    ").history"
   ]
  },
  {
   "cell_type": "markdown",
   "metadata": {},
   "source": [
    "# References\n",
    "\n",
    "- [Keras functional API](https://keras.io/guides/functional_api/)"
   ]
  },
  {
   "cell_type": "markdown",
   "metadata": {},
   "source": [
    "# Colophon\n",
    "This notebook was written by [Yoav Ram](http://python.yoavram.com).\n",
    "\n",
    "This work is licensed under a CC BY-NC-SA 4.0 International License.\n",
    "\n",
    "![Python logo](https://www.python.org/static/community_logos/python-logo.png)"
   ]
  }
 ],
 "metadata": {
  "kernelspec": {
   "display_name": "Python [conda env:DataSciPy]",
   "language": "python",
   "name": "conda-env-DataSciPy-py"
  },
  "language_info": {
   "codemirror_mode": {
    "name": "ipython",
    "version": 3
   },
   "file_extension": ".py",
   "mimetype": "text/x-python",
   "name": "python",
   "nbconvert_exporter": "python",
   "pygments_lexer": "ipython3",
   "version": "3.11.5"
  }
 },
 "nbformat": 4,
 "nbformat_minor": 4
}
