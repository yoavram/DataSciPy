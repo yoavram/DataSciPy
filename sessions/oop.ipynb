{
 "cells": [
  {
   "cell_type": "markdown",
   "metadata": {},
   "source": [
    "\n",
    "![Py4Eng](img/logo.png)\n",
    "\n",
    "# Object Oriented Programming"
   ]
  },
  {
   "cell_type": "markdown",
   "metadata": {},
   "source": [
    "# Introduction to OOP\n",
    "\n",
    "\n",
    "*Everything in Python is an object* so everything in Python has a class. \n",
    "\n",
    "You can find out the type of an object by calling the function `type`.\n",
    "\n",
    "Even the return of the `type` function has a type: it's `type`!"
   ]
  },
  {
   "cell_type": "code",
   "execution_count": 1,
   "metadata": {},
   "outputs": [
    {
     "data": {
      "text/plain": [
       "int"
      ]
     },
     "execution_count": 1,
     "metadata": {},
     "output_type": "execute_result"
    }
   ],
   "source": [
    "type(5)"
   ]
  },
  {
   "cell_type": "code",
   "execution_count": 2,
   "metadata": {},
   "outputs": [
    {
     "name": "stdout",
     "output_type": "stream",
     "text": [
      "<class 'str'>\n",
      "<class 'type'>\n"
     ]
    }
   ],
   "source": [
    "a = 'Hi'\n",
    "type_a = type(a)\n",
    "print(type_a)\n",
    "type_type_a = type(type(a))\n",
    "print(type_type_a)"
   ]
  },
  {
   "cell_type": "markdown",
   "metadata": {},
   "source": [
    "The basic object type is `object`:"
   ]
  },
  {
   "cell_type": "code",
   "execution_count": 3,
   "metadata": {},
   "outputs": [
    {
     "name": "stdout",
     "output_type": "stream",
     "text": [
      "<class 'object'>\n",
      "<class 'type'>\n"
     ]
    }
   ],
   "source": [
    "print(object)\n",
    "print(type(object))"
   ]
  },
  {
   "cell_type": "markdown",
   "metadata": {},
   "source": [
    "Every class implicitly inherits from `object`, so all classes have some default attributes:"
   ]
  },
  {
   "cell_type": "code",
   "execution_count": 4,
   "metadata": {},
   "outputs": [
    {
     "name": "stdout",
     "output_type": "stream",
     "text": [
      "__class__\n",
      "__delattr__\n",
      "__dir__\n",
      "__doc__\n",
      "__eq__\n",
      "__format__\n",
      "__ge__\n",
      "__getattribute__\n",
      "__gt__\n",
      "__hash__\n",
      "__init__\n",
      "__init_subclass__\n",
      "__le__\n",
      "__lt__\n",
      "__ne__\n",
      "__new__\n",
      "__reduce__\n",
      "__reduce_ex__\n",
      "__repr__\n",
      "__setattr__\n",
      "__sizeof__\n",
      "__str__\n",
      "__subclasshook__\n"
     ]
    }
   ],
   "source": [
    "object_dir = dir(object)\n",
    "for att in object_dir:\n",
    "    print(att)"
   ]
  },
  {
   "cell_type": "markdown",
   "metadata": {},
   "source": [
    "Other types introduce new attributes:"
   ]
  },
  {
   "cell_type": "code",
   "execution_count": 5,
   "metadata": {},
   "outputs": [
    {
     "name": "stdout",
     "output_type": "stream",
     "text": [
      "__abs__\n",
      "__add__\n",
      "__and__\n",
      "__bool__\n",
      "__ceil__\n",
      "__divmod__\n",
      "__float__\n",
      "__floor__\n",
      "__floordiv__\n",
      "__getnewargs__\n",
      "__index__\n",
      "__int__\n",
      "__invert__\n",
      "__lshift__\n",
      "__mod__\n",
      "__mul__\n",
      "__neg__\n",
      "__or__\n",
      "__pos__\n",
      "__pow__\n",
      "__radd__\n",
      "__rand__\n",
      "__rdivmod__\n",
      "__rfloordiv__\n",
      "__rlshift__\n",
      "__rmod__\n",
      "__rmul__\n",
      "__ror__\n",
      "__round__\n",
      "__rpow__\n",
      "__rrshift__\n",
      "__rshift__\n",
      "__rsub__\n",
      "__rtruediv__\n",
      "__rxor__\n",
      "__sub__\n",
      "__truediv__\n",
      "__trunc__\n",
      "__xor__\n",
      "as_integer_ratio\n",
      "bit_length\n",
      "conjugate\n",
      "denominator\n",
      "from_bytes\n",
      "imag\n",
      "numerator\n",
      "real\n",
      "to_bytes\n"
     ]
    }
   ],
   "source": [
    "int_dir = dir(int)\n",
    "\n",
    "for att in int_dir:\n",
    "    if att not in object_dir:\n",
    "        print(att)"
   ]
  },
  {
   "cell_type": "markdown",
   "metadata": {},
   "source": [
    "Those methods that `int` has but `object` doesn't have define the behaviour of `int`.\n",
    "Specificially, all the `__xxx__` methods are special methods that interact with Python in specific ways, defining operators etc."
   ]
  },
  {
   "cell_type": "markdown",
   "metadata": {},
   "source": [
    "# _Point_ type\n",
    "\n",
    "Let's learn more by writing a new type -- a class -- for a point in a 2-dimensional Euclidian space ($\\mathbb{R}^2$).\n",
    "\n",
    "We start with the class definition (`class`) and the constructor (`__init__`) which initialized the attributes of the class instance. \n",
    "\n",
    "We'll start with a 2D point, but we'll change it later to nD point.\n",
    "\n",
    "Note that the first argument to methods (member functions) is always `self`, a reference to the instance.\n",
    "\n",
    "We don't need to check the types of the `__init__` arguments; rather, we try to convert them to `float`, and let the conversion fail if the types are wrong."
   ]
  },
  {
   "cell_type": "code",
   "execution_count": 7,
   "metadata": {},
   "outputs": [],
   "source": [
    "class Point:\n",
    "    \"\"\"A point in 2D Euclidian plane.\n",
    "    \"\"\"\n",
    "    \n",
    "    def __init__(self, x, y):        \n",
    "        # assert isinstance(x, (int, float)) and isinstance(y, (int, float))\n",
    "        self.x = float(x)\n",
    "        self.y = float(y)"
   ]
  },
  {
   "cell_type": "code",
   "execution_count": 8,
   "metadata": {},
   "outputs": [
    {
     "name": "stdout",
     "output_type": "stream",
     "text": [
      "origin 0.0 0.0\n",
      "point 1.0 2.0\n"
     ]
    }
   ],
   "source": [
    "origin = Point(0, 0)\n",
    "print(\"origin\", origin.x, origin.y)\n",
    "\n",
    "p = Point(1, 2)\n",
    "print(\"point\", p.x, p.y)"
   ]
  },
  {
   "cell_type": "markdown",
   "metadata": {},
   "source": [
    "Notice that when we send a `Point` to the console we get:"
   ]
  },
  {
   "cell_type": "code",
   "execution_count": 9,
   "metadata": {},
   "outputs": [
    {
     "data": {
      "text/plain": [
       "<__main__.Point at 0x10d3cfac0>"
      ]
     },
     "execution_count": 9,
     "metadata": {},
     "output_type": "execute_result"
    }
   ],
   "source": [
    "p"
   ]
  },
  {
   "cell_type": "markdown",
   "metadata": {},
   "source": [
    "Which is not useful, so we will define how `Point` is represented in the console by implementing `__repr__`  and `__str__`."
   ]
  },
  {
   "cell_type": "code",
   "execution_count": 10,
   "metadata": {},
   "outputs": [],
   "source": [
    "class Point:\n",
    "    \"\"\"A point (x,y) in the Euclidian plane.\n",
    "    \"\"\"\n",
    "    \n",
    "    def __init__(self, x, y):        \n",
    "        self.x = float(x)\n",
    "        self.y = float(y)\n",
    "        \n",
    "    def __repr__(self):\n",
    "        # what a programmer wants to see\n",
    "        return \"{}({}, {})\".format(type(self).__name__, self.x, self.y)\n",
    "        \n",
    "    def __str__(self):\n",
    "        # what a user wants to see\n",
    "        return \"({}, {})\".format(self.x, self.y)"
   ]
  },
  {
   "cell_type": "code",
   "execution_count": 11,
   "metadata": {},
   "outputs": [
    {
     "data": {
      "text/plain": [
       "Point(1.0, 2.0)"
      ]
     },
     "execution_count": 11,
     "metadata": {},
     "output_type": "execute_result"
    }
   ],
   "source": [
    "p = Point(1,2)\n",
    "p"
   ]
  },
  {
   "cell_type": "code",
   "execution_count": 12,
   "metadata": {},
   "outputs": [
    {
     "name": "stdout",
     "output_type": "stream",
     "text": [
      "(1.0, 2.0)\n"
     ]
    }
   ],
   "source": [
    "print(p)"
   ]
  },
  {
   "cell_type": "markdown",
   "metadata": {},
   "source": [
    "It is also very useful to be able to iterate over the coordinates. \n",
    "We implement this by returning the iterator of a tuple."
   ]
  },
  {
   "cell_type": "code",
   "execution_count": 13,
   "metadata": {},
   "outputs": [],
   "source": [
    "class Point:\n",
    "    \"\"\"A point (x,y) in the Euclidian plane.\n",
    "    \"\"\"\n",
    "    \n",
    "    def __init__(self, x, y):        \n",
    "        self.x = float(x)\n",
    "        self.y = float(y)\n",
    "        \n",
    "    def __repr__(self):\n",
    "        # what a programmer wants to see, should work with eval\n",
    "        return \"{}({}, {})\".format(type(self).__name__, self.x, self.y)\n",
    "        \n",
    "    def __str__(self):\n",
    "        # what a user wants to see\n",
    "        return \"({}, {})\".format(self.x, self.y)\n",
    "    \n",
    "    def __iter__(self):\n",
    "        tup = (self.x, self.y)\n",
    "        return iter(tup)"
   ]
  },
  {
   "cell_type": "code",
   "execution_count": 14,
   "metadata": {},
   "outputs": [
    {
     "name": "stdout",
     "output_type": "stream",
     "text": [
      "1.0\n",
      "2.0\n"
     ]
    }
   ],
   "source": [
    "p = Point(1,2)\n",
    "for coor in p:\n",
    "    print(coor)"
   ]
  },
  {
   "cell_type": "markdown",
   "metadata": {},
   "source": [
    "Next we define a method to add two points. Addition is by elements, for a 2D point: $(x_1, y_1) + (x_2, y_2) = (x_1+x_2, y_1+y_2)$.\n",
    "\n",
    "We also allow to add an `int` or `float`, in which case we add the point to a another point with both coordinates equal to the argument value."
   ]
  },
  {
   "cell_type": "code",
   "execution_count": 15,
   "metadata": {},
   "outputs": [],
   "source": [
    "class Point:\n",
    "    \"\"\"A point (x,y) in the Euclidian plane.\n",
    "    \"\"\"\n",
    "    \n",
    "    def __init__(self, x, y):        \n",
    "        self.x = float(x)\n",
    "        self.y = float(y)\n",
    "        \n",
    "    def __repr__(self):\n",
    "        # what a programmer wants to see, should work with eval\n",
    "        return \"{}({}, {})\".format(type(self).__name__, self.x, self.y)\n",
    "        \n",
    "    def __str__(self):\n",
    "        # what a user wants to see\n",
    "        return \"({}, {})\".format(self.x, self.y)\n",
    "    \n",
    "    def __iter__(self):\n",
    "        tup = (self.x, self.y)\n",
    "        return iter(tup)\n",
    "        \n",
    "    def add(self, other):\n",
    "        self_type = type(self) # self_type is Point\n",
    "        \n",
    "        if isinstance(other, (int, float)):\n",
    "            return self_type(self.x + other, self.y + other)\n",
    "        \n",
    "        elif isinstance(other, self_type):\n",
    "            return self_type(self.x + other.x, self.y + other.y)\n",
    "        \n",
    "        else:\n",
    "            raise TypeError(\n",
    "            \"unsupported operand type(s) for +: '{}' and '{}'\".format(\n",
    "                self_type.__name__, type(other).__name__))"
   ]
  },
  {
   "cell_type": "code",
   "execution_count": 16,
   "metadata": {},
   "outputs": [
    {
     "data": {
      "text/plain": [
       "Point(3.0, 3.0)"
      ]
     },
     "execution_count": 16,
     "metadata": {},
     "output_type": "execute_result"
    }
   ],
   "source": [
    "Point(1,1).add(Point(2,2))"
   ]
  },
  {
   "cell_type": "code",
   "execution_count": 17,
   "metadata": {},
   "outputs": [
    {
     "data": {
      "text/plain": [
       "Point(3.0, 3.0)"
      ]
     },
     "execution_count": 17,
     "metadata": {},
     "output_type": "execute_result"
    }
   ],
   "source": [
    "Point(1, 1).add(2)"
   ]
  },
  {
   "cell_type": "code",
   "execution_count": 18,
   "metadata": {},
   "outputs": [
    {
     "ename": "TypeError",
     "evalue": "unsupported operand type(s) for +: 'Point' and 'str'",
     "output_type": "error",
     "traceback": [
      "\u001b[0;31m---------------------------------------------------------------------------\u001b[0m",
      "\u001b[0;31mTypeError\u001b[0m                                 Traceback (most recent call last)",
      "\u001b[0;32m/var/folders/qn/3hj7mcx56k19b_09n6dymw8h0000gn/T/ipykernel_8018/2772171090.py\u001b[0m in \u001b[0;36m<module>\u001b[0;34m\u001b[0m\n\u001b[0;32m----> 1\u001b[0;31m \u001b[0mPoint\u001b[0m\u001b[0;34m(\u001b[0m\u001b[0;36m1\u001b[0m\u001b[0;34m,\u001b[0m\u001b[0;36m1\u001b[0m\u001b[0;34m)\u001b[0m\u001b[0;34m.\u001b[0m\u001b[0madd\u001b[0m\u001b[0;34m(\u001b[0m\u001b[0;34m'2'\u001b[0m\u001b[0;34m)\u001b[0m\u001b[0;34m\u001b[0m\u001b[0;34m\u001b[0m\u001b[0m\n\u001b[0m",
      "\u001b[0;32m/var/folders/qn/3hj7mcx56k19b_09n6dymw8h0000gn/T/ipykernel_8018/4056286821.py\u001b[0m in \u001b[0;36madd\u001b[0;34m(self, other)\u001b[0m\n\u001b[1;32m     29\u001b[0m \u001b[0;34m\u001b[0m\u001b[0m\n\u001b[1;32m     30\u001b[0m         \u001b[0;32melse\u001b[0m\u001b[0;34m:\u001b[0m\u001b[0;34m\u001b[0m\u001b[0;34m\u001b[0m\u001b[0m\n\u001b[0;32m---> 31\u001b[0;31m             raise TypeError(\n\u001b[0m\u001b[1;32m     32\u001b[0m             \"unsupported operand type(s) for +: '{}' and '{}'\".format(\n\u001b[1;32m     33\u001b[0m                 self_type.__name__, type(other).__name__))\n",
      "\u001b[0;31mTypeError\u001b[0m: unsupported operand type(s) for +: 'Point' and 'str'"
     ]
    }
   ],
   "source": [
    "Point(1,1).add('2')"
   ]
  },
  {
   "cell_type": "markdown",
   "metadata": {},
   "source": [
    "A nicer way to implement addition is to **overload** the addition operator `+` by implementing `__add__`, which is a name Python reserves for addition operations (those are double underscores). In that case, we don't need to raise the `TypeError` exception but rather just return the `NotImplemented` constant and Python will take care of the error (after checking if the right hand object knows how to do right-add using `__radd__`):"
   ]
  },
  {
   "cell_type": "code",
   "execution_count": 19,
   "metadata": {},
   "outputs": [],
   "source": [
    "class Point:\n",
    "    \"\"\"A point (x,y) in the Euclidian plane.\n",
    "    \"\"\"\n",
    "    \n",
    "    def __init__(self, x, y):        \n",
    "        self.x = float(x)\n",
    "        self.y = float(y)\n",
    "        \n",
    "    def __repr__(self):\n",
    "        # what a programmer wants to see, should work with eval\n",
    "        return \"{}({}, {})\".format(type(self).__name__, self.x, self.y)\n",
    "        \n",
    "    def __str__(self):\n",
    "        # what a user wants to see\n",
    "        return \"({}, {})\".format(self.x, self.y)\n",
    "    \n",
    "    def __iter__(self):\n",
    "        tup = (self.x, self.y)\n",
    "        return iter(tup)\n",
    "            \n",
    "    def __add__(self, other):\n",
    "        self_type = type(self)\n",
    "        if isinstance(other, (int, float)):\n",
    "            return self_type(self.x + other, self.y + other)\n",
    "        elif isinstance(other, self_type):\n",
    "            return self_type(self.x + other.x, self.y + other.y)\n",
    "        else:\n",
    "            return NotImplemented"
   ]
  },
  {
   "cell_type": "code",
   "execution_count": 20,
   "metadata": {},
   "outputs": [
    {
     "data": {
      "text/plain": [
       "Point(3.0, 3.0)"
      ]
     },
     "execution_count": 20,
     "metadata": {},
     "output_type": "execute_result"
    }
   ],
   "source": [
    "Point(1,1) + Point(2,2)"
   ]
  },
  {
   "cell_type": "code",
   "execution_count": 21,
   "metadata": {},
   "outputs": [
    {
     "data": {
      "text/plain": [
       "Point(3.0, 3.0)"
      ]
     },
     "execution_count": 21,
     "metadata": {},
     "output_type": "execute_result"
    }
   ],
   "source": [
    "Point(1, 1) + 2"
   ]
  },
  {
   "cell_type": "code",
   "execution_count": 22,
   "metadata": {},
   "outputs": [
    {
     "ename": "TypeError",
     "evalue": "unsupported operand type(s) for +: 'Point' and 'str'",
     "output_type": "error",
     "traceback": [
      "\u001b[0;31m---------------------------------------------------------------------------\u001b[0m",
      "\u001b[0;31mTypeError\u001b[0m                                 Traceback (most recent call last)",
      "\u001b[0;32m/var/folders/qn/3hj7mcx56k19b_09n6dymw8h0000gn/T/ipykernel_8018/2129195975.py\u001b[0m in \u001b[0;36m<module>\u001b[0;34m\u001b[0m\n\u001b[0;32m----> 1\u001b[0;31m \u001b[0mPoint\u001b[0m\u001b[0;34m(\u001b[0m\u001b[0;36m1\u001b[0m\u001b[0;34m,\u001b[0m \u001b[0;36m1\u001b[0m\u001b[0;34m)\u001b[0m \u001b[0;34m+\u001b[0m \u001b[0;34m'2'\u001b[0m\u001b[0;34m\u001b[0m\u001b[0;34m\u001b[0m\u001b[0m\n\u001b[0m",
      "\u001b[0;31mTypeError\u001b[0m: unsupported operand type(s) for +: 'Point' and 'str'"
     ]
    }
   ],
   "source": [
    "Point(1, 1) + '2'"
   ]
  },
  {
   "cell_type": "markdown",
   "metadata": {},
   "source": [
    "We want to be a able to compare `Point`s:"
   ]
  },
  {
   "cell_type": "code",
   "execution_count": 23,
   "metadata": {},
   "outputs": [
    {
     "data": {
      "text/plain": [
       "False"
      ]
     },
     "execution_count": 23,
     "metadata": {},
     "output_type": "execute_result"
    }
   ],
   "source": [
    "Point(1,2) == Point(2,1)"
   ]
  },
  {
   "cell_type": "code",
   "execution_count": 24,
   "metadata": {},
   "outputs": [
    {
     "data": {
      "text/plain": [
       "False"
      ]
     },
     "execution_count": 24,
     "metadata": {},
     "output_type": "execute_result"
    }
   ],
   "source": [
    "Point(1,2) == Point(1,2)"
   ]
  },
  {
   "cell_type": "code",
   "execution_count": 25,
   "metadata": {},
   "outputs": [
    {
     "data": {
      "text/plain": [
       "True"
      ]
     },
     "execution_count": 25,
     "metadata": {},
     "output_type": "execute_result"
    }
   ],
   "source": [
    "p = Point(0, 0)\n",
    "p == p"
   ]
  },
  {
   "cell_type": "code",
   "execution_count": 26,
   "metadata": {},
   "outputs": [
    {
     "ename": "TypeError",
     "evalue": "'>' not supported between instances of 'Point' and 'Point'",
     "output_type": "error",
     "traceback": [
      "\u001b[0;31m---------------------------------------------------------------------------\u001b[0m",
      "\u001b[0;31mTypeError\u001b[0m                                 Traceback (most recent call last)",
      "\u001b[0;32m/var/folders/qn/3hj7mcx56k19b_09n6dymw8h0000gn/T/ipykernel_8018/1554687484.py\u001b[0m in \u001b[0;36m<module>\u001b[0;34m\u001b[0m\n\u001b[0;32m----> 1\u001b[0;31m \u001b[0mPoint\u001b[0m\u001b[0;34m(\u001b[0m\u001b[0;36m1\u001b[0m\u001b[0;34m,\u001b[0m\u001b[0;36m2\u001b[0m\u001b[0;34m)\u001b[0m \u001b[0;34m>\u001b[0m \u001b[0mPoint\u001b[0m\u001b[0;34m(\u001b[0m\u001b[0;36m2\u001b[0m\u001b[0;34m,\u001b[0m\u001b[0;36m1\u001b[0m\u001b[0;34m)\u001b[0m\u001b[0;34m\u001b[0m\u001b[0;34m\u001b[0m\u001b[0m\n\u001b[0m",
      "\u001b[0;31mTypeError\u001b[0m: '>' not supported between instances of 'Point' and 'Point'"
     ]
    }
   ],
   "source": [
    "Point(1,2) > Point(2,1)"
   ]
  },
  {
   "cell_type": "markdown",
   "metadata": {},
   "source": [
    "So the default `==` checks by identity and `>` is not defined. \n",
    "\n",
    "We should overload both these operators by implementing `__eq__` and `__gt__`.\n",
    "\n",
    "We do this by converting the point to a tuple and __delegating__ `__eq__` to tuple.\n",
    "The conversion is handled by `__iter__`.\n",
    "\n",
    "We can't delegate `__gt__` so we must implement it."
   ]
  },
  {
   "cell_type": "code",
   "execution_count": 27,
   "metadata": {},
   "outputs": [],
   "source": [
    "class Point:\n",
    "    \"\"\"A point (x,y) in the Euclidian plane.\n",
    "    \"\"\"\n",
    "    \n",
    "    def __init__(self, x, y):        \n",
    "        self.x = float(x)\n",
    "        self.y = float(y)\n",
    "        \n",
    "    def __repr__(self):\n",
    "        # what a programmer wants to see, should work with eval\n",
    "        return \"{}({}, {})\".format(type(self).__name__, self.x, self.y)\n",
    "        \n",
    "    def __str__(self):\n",
    "        # what a user wants to see\n",
    "        return \"({}, {})\".format(self.x, self.y)\n",
    "    \n",
    "    def __iter__(self):\n",
    "        tup = (self.x, self.y)\n",
    "        return iter(tup)\n",
    "            \n",
    "    def __add__(self, other):\n",
    "        self_type = type(self)\n",
    "        if isinstance(other, (int, float)):\n",
    "            return self_type(self.x + other, self.y + other)\n",
    "        elif isinstance(other, self_type):\n",
    "            return self_type(self.x + other.x, self.y + other.y)\n",
    "        else:\n",
    "            return NotImplemented\n",
    "    \n",
    "    def __eq__(self, other):\n",
    "        return tuple(self) == tuple(other)\n",
    "    \n",
    "    def __gt__(self, other):\n",
    "        return self.x > other.x and self.y > other.y"
   ]
  },
  {
   "cell_type": "markdown",
   "metadata": {},
   "source": [
    "First we check if two points are equal:"
   ]
  },
  {
   "cell_type": "code",
   "execution_count": 28,
   "metadata": {},
   "outputs": [
    {
     "data": {
      "text/plain": [
       "False"
      ]
     },
     "execution_count": 28,
     "metadata": {},
     "output_type": "execute_result"
    }
   ],
   "source": [
    "Point(1,0) == Point(1,2)"
   ]
  },
  {
   "cell_type": "code",
   "execution_count": 29,
   "metadata": {},
   "outputs": [
    {
     "data": {
      "text/plain": [
       "True"
      ]
     },
     "execution_count": 29,
     "metadata": {},
     "output_type": "execute_result"
    }
   ],
   "source": [
    "Point(0,1) == (0,1)"
   ]
  },
  {
   "cell_type": "markdown",
   "metadata": {},
   "source": [
    "Then if one is *strictly* smaller than the other:"
   ]
  },
  {
   "cell_type": "code",
   "execution_count": 30,
   "metadata": {},
   "outputs": [
    {
     "data": {
      "text/plain": [
       "False"
      ]
     },
     "execution_count": 30,
     "metadata": {},
     "output_type": "execute_result"
    }
   ],
   "source": [
    "Point(1,0) > Point(1,2)"
   ]
  },
  {
   "cell_type": "code",
   "execution_count": 31,
   "metadata": {},
   "outputs": [
    {
     "data": {
      "text/plain": [
       "True"
      ]
     },
     "execution_count": 31,
     "metadata": {},
     "output_type": "execute_result"
    }
   ],
   "source": [
    "Point(5,6) > Point(1,2)"
   ]
  },
  {
   "cell_type": "markdown",
   "metadata": {},
   "source": [
    "Note that by implementing `==` and `>` we have logically defined all other comparison operators. \n",
    "Indeed, Python fills in the other comparison operators:"
   ]
  },
  {
   "cell_type": "code",
   "execution_count": 32,
   "metadata": {},
   "outputs": [
    {
     "data": {
      "text/plain": [
       "False"
      ]
     },
     "execution_count": 32,
     "metadata": {},
     "output_type": "execute_result"
    }
   ],
   "source": [
    "Point(5,6) < Point(1,4)"
   ]
  },
  {
   "cell_type": "markdown",
   "metadata": {},
   "source": [
    "The addition operator `+` returns a **new instance**."
   ]
  },
  {
   "cell_type": "code",
   "execution_count": 33,
   "metadata": {},
   "outputs": [
    {
     "name": "stdout",
     "output_type": "stream",
     "text": [
      "(3.0, 1.0)\n",
      "(1.0, 1.0)\n"
     ]
    }
   ],
   "source": [
    "p = Point(1, 1)\n",
    "pp = p\n",
    "p += Point(2, 0)\n",
    "print(p)\n",
    "print(pp)"
   ]
  },
  {
   "cell_type": "markdown",
   "metadata": {},
   "source": [
    "Next we will write a method that implements `+=` efficiently, so that instead of returning a new instance, it changes the current instance **in-place**. \n",
    "\n",
    "This is called an [augmented arithmetic assignments](https://docs.python.org/3.5/reference/datamodel.html?highlight=__iadd__#object.__iadd__). These methods should return their result."
   ]
  },
  {
   "cell_type": "code",
   "execution_count": 34,
   "metadata": {},
   "outputs": [],
   "source": [
    "class Point:\n",
    "    \"\"\"A point (x,y) in the Euclidian plane.\n",
    "    \"\"\"\n",
    "    \n",
    "    def __init__(self, x, y):        \n",
    "        self.x = float(x)\n",
    "        self.y = float(y)\n",
    "        \n",
    "    def __repr__(self):\n",
    "        # what a programmer wants to see, should work with eval\n",
    "        return \"{}({}, {})\".format(type(self).__name__, self.x, self.y)\n",
    "        \n",
    "    def __str__(self):\n",
    "        # what a user wants to see\n",
    "        return \"({}, {})\".format(self.x, self.y)\n",
    "    \n",
    "    def __iter__(self):\n",
    "        tup = (self.x, self.y)\n",
    "        return iter(tup)\n",
    "        \n",
    "    def __eq__(self, other):\n",
    "        return tuple(self) == tuple(other)\n",
    "    \n",
    "    def __gt__(self, other):\n",
    "        return self.x > other.x and self.y > other.y\n",
    "    \n",
    "    def __add__(self, other):\n",
    "        self_type = type(self)\n",
    "        if isinstance(other, (int, float)):\n",
    "            return self_type(self.x + other, self.y + other)\n",
    "        elif isinstance(other, self_type):\n",
    "            return self_type(self.x + other.x, self.y + other.y)\n",
    "        else:\n",
    "            return NotImplemented\n",
    "    \n",
    "    def __iadd__(self, other):\n",
    "        if isinstance(other, (int, float)):\n",
    "            self.x += other\n",
    "            self.y += other\n",
    "            return self # always return self from __i???__\n",
    "        elif isinstance(other, type(self)):\n",
    "            self.x += other.x\n",
    "            self.y += other.y\n",
    "            return self\n",
    "        else:\n",
    "            return NotImplemented"
   ]
  },
  {
   "cell_type": "code",
   "execution_count": 35,
   "metadata": {},
   "outputs": [
    {
     "name": "stdout",
     "output_type": "stream",
     "text": [
      "(1.0, 1.0)\n",
      "(2.0, 3.0)\n",
      "(2.0, 3.0)\n"
     ]
    }
   ],
   "source": [
    "p = Point(1, 1)\n",
    "pp = p\n",
    "p + Point(1,2)\n",
    "print(p)\n",
    "p += Point(1,2)\n",
    "print(p)\n",
    "print(pp)"
   ]
  },
  {
   "cell_type": "markdown",
   "metadata": {},
   "source": [
    "We now write a method that given many points, checks if the current point is more extreme than the other points.\n",
    "\n",
    "**Note:** specifying a function argument with a `*` before its name says that we can give zero or more values and they will be packed in a `tuple`."
   ]
  },
  {
   "cell_type": "code",
   "execution_count": 36,
   "metadata": {},
   "outputs": [],
   "source": [
    "class Point:\n",
    "    \"\"\"A point (x,y) in the Euclidian plane.\n",
    "    \"\"\"\n",
    "    \n",
    "    def __init__(self, x, y):        \n",
    "        self.x = float(x)\n",
    "        self.y = float(y)\n",
    "        \n",
    "    def __repr__(self):\n",
    "        # what a programmer wants to see, should work with eval\n",
    "        return \"{}({}, {})\".format(type(self).__name__, self.x, self.y)\n",
    "        \n",
    "    def __str__(self):\n",
    "        # what a user wants to see\n",
    "        return \"({}, {})\".format(self.x, self.y)\n",
    "    \n",
    "    def __iter__(self):\n",
    "        tup = (self.x, self.y)\n",
    "        return iter(tup)\n",
    "        \n",
    "    def __eq__(self, other):\n",
    "        return tuple(self) == tuple(other)\n",
    "    \n",
    "    def __gt__(self, other):\n",
    "        return self.x > other.x and self.y > other.y\n",
    "    \n",
    "    def __add__(self, other):\n",
    "        self_type = type(self)\n",
    "        if isinstance(other, (int, float)):\n",
    "            return self_type(self.x + other, self.y + other)\n",
    "        elif isinstance(other, self_type):\n",
    "            return self_type(self.x + other.x, self.y + other.y)\n",
    "        else:\n",
    "            return NotImplemented\n",
    "    \n",
    "    def __iadd__(self, other):\n",
    "        if isinstance(other, (int, float)):\n",
    "            self.x += other\n",
    "            self.y += other\n",
    "            return self # always return self from __i???__\n",
    "        elif isinstance(other, type(self)):\n",
    "            self.x += other.x\n",
    "            self.y += other.y\n",
    "            return self\n",
    "        else:\n",
    "            return NotImplemented\n",
    "    \n",
    "    def is_extreme(self, *points):\n",
    "        return all(self > point for point in points)"
   ]
  },
  {
   "cell_type": "code",
   "execution_count": 37,
   "metadata": {},
   "outputs": [
    {
     "data": {
      "text/plain": [
       "True"
      ]
     },
     "execution_count": 37,
     "metadata": {},
     "output_type": "execute_result"
    }
   ],
   "source": [
    "p = Point(5, 6)\n",
    "p.is_extreme(Point(1,1))"
   ]
  },
  {
   "cell_type": "code",
   "execution_count": 38,
   "metadata": {},
   "outputs": [
    {
     "data": {
      "text/plain": [
       "False"
      ]
     },
     "execution_count": 38,
     "metadata": {},
     "output_type": "execute_result"
    }
   ],
   "source": [
    "p.is_extreme(Point(1,1), Point(2,5), Point(6,2))"
   ]
  },
  {
   "cell_type": "markdown",
   "metadata": {},
   "source": [
    "We can also use the method via the class instead of the instance, and give the instance of interest (the one that we want to know if it is the extreme) as the first argument `self`. Similarly, we can either do `'hi'.upper()` or `str.upper('hi')`."
   ]
  },
  {
   "cell_type": "code",
   "execution_count": 39,
   "metadata": {},
   "outputs": [
    {
     "data": {
      "text/plain": [
       "True"
      ]
     },
     "execution_count": 39,
     "metadata": {},
     "output_type": "execute_result"
    }
   ],
   "source": [
    "Point.is_extreme(Point(7,8), Point(1,1), Point(4,5), Point(2,3))"
   ]
  },
  {
   "cell_type": "markdown",
   "metadata": {},
   "source": [
    "Let's add a method to return a polar representation of `Point`. We'll need to calculate the magnitude, which we might as well do with the `__abs__` method (corresponding to `abs`) and an `angle` method:"
   ]
  },
  {
   "cell_type": "code",
   "execution_count": 41,
   "metadata": {},
   "outputs": [],
   "source": [
    "import math\n",
    "\n",
    "class Point:\n",
    "    \"\"\"A point (x,y) in the Euclidian plane.\n",
    "    \"\"\"\n",
    "    \n",
    "    def __init__(self, x, y):        \n",
    "        self.x = float(x)\n",
    "        self.y = float(y)\n",
    "        \n",
    "    def __repr__(self):\n",
    "        # what a programmer wants to see, should work with eval\n",
    "        return \"{}({}, {})\".format(type(self).__name__, self.x, self.y)\n",
    "        \n",
    "    def __str__(self):\n",
    "        # what a user wants to see\n",
    "        return \"({}, {})\".format(self.x, self.y)\n",
    "    \n",
    "    def __iter__(self):\n",
    "        tup = (self.x, self.y)\n",
    "        return iter(tup)\n",
    "        \n",
    "    def __eq__(self, other):\n",
    "        return tuple(self) == tuple(other)\n",
    "    \n",
    "    def __gt__(self, other):\n",
    "        return self.x > other.x and self.y > other.y\n",
    "    \n",
    "    def __add__(self, other):\n",
    "        self_type = type(self)\n",
    "        if isinstance(other, (int, float)):\n",
    "            return self_type(self.x + other, self.y + other)\n",
    "        elif isinstance(other, self_type):\n",
    "            return self_type(self.x + other.x, self.y + other.y)\n",
    "        else:\n",
    "            return NotImplemented\n",
    "    \n",
    "    def __iadd__(self, other):\n",
    "        if isinstance(other, (int, float)):\n",
    "            self.x += other\n",
    "            self.y += other\n",
    "            return self # always return self from __i???__\n",
    "        elif isinstance(other, type(self)):\n",
    "            self.x += other.x\n",
    "            self.y += other.y\n",
    "            return self\n",
    "        else:\n",
    "            return NotImplemented\n",
    "    \n",
    "    def is_extreme(self, *points):\n",
    "        return all(self > point for point in points)\n",
    "    \n",
    "    def __abs__(self):\n",
    "        # optimized for 2D\n",
    "        return math.hypot(self.x, self.y)\n",
    "    \n",
    "    def angle(self):\n",
    "        return math.atan2(self.y, self.x)\n",
    "\n",
    "    def to_polar(self):\n",
    "        return abs(self), self.angle()        "
   ]
  },
  {
   "cell_type": "code",
   "execution_count": 42,
   "metadata": {},
   "outputs": [
    {
     "name": "stdout",
     "output_type": "stream",
     "text": [
      "(1.0, 0.0)\n",
      "(1.0, 3.141592653589793)\n",
      "(1.4142135623730951, 0.7853981633974483)\n",
      "(2.8284271247461903, 0.7853981633974483)\n"
     ]
    }
   ],
   "source": [
    "print(Point(1, 0).to_polar())\n",
    "print(Point(-1, 0).to_polar())\n",
    "print(Point(1, 1).to_polar())\n",
    "print(Point(2, 2).to_polar())"
   ]
  },
  {
   "cell_type": "markdown",
   "metadata": {},
   "source": [
    "If we have `to_polar` that returns a tuple of polar coordinates, we might want to have `frompolar` that creates a new instance from a tuple of polar coordinates. \n",
    "\n",
    "This is called an **alternative constructor** and must be implemented as a **class method** as we don't have an instance at the time we call the method:"
   ]
  },
  {
   "cell_type": "code",
   "execution_count": 43,
   "metadata": {},
   "outputs": [],
   "source": [
    "class Point:\n",
    "    \"\"\"A point (x,y) in the Euclidian plane.\n",
    "    \"\"\"\n",
    "    \n",
    "    def __init__(self, x, y):        \n",
    "        self.x = float(x)\n",
    "        self.y = float(y)\n",
    "        \n",
    "    def __repr__(self):\n",
    "        # what a programmer wants to see, should work with eval\n",
    "        return \"{}({}, {})\".format(type(self).__name__, self.x, self.y)\n",
    "        \n",
    "    def __str__(self):\n",
    "        # what a user wants to see\n",
    "        return \"({}, {})\".format(self.x, self.y)\n",
    "    \n",
    "    def __iter__(self):\n",
    "        tup = (self.x, self.y)\n",
    "        return iter(tup)\n",
    "        \n",
    "    def __eq__(self, other):\n",
    "        return tuple(self) == tuple(other)\n",
    "    \n",
    "    def __gt__(self, other):\n",
    "        return self.x > other.x and self.y > other.y\n",
    "    \n",
    "    def __add__(self, other):\n",
    "        self_type = type(self)\n",
    "        if isinstance(other, (int, float)):\n",
    "            return self_type(self.x + other, self.y + other)\n",
    "        elif isinstance(other, self_type):\n",
    "            return self_type(self.x + other.x, self.y + other.y)\n",
    "        else:\n",
    "            return NotImplemented\n",
    "    \n",
    "    def __iadd__(self, other):\n",
    "        if isinstance(other, (int, float)):\n",
    "            self.x += other\n",
    "            self.y += other\n",
    "            return self # always return self from __i???__\n",
    "        elif isinstance(other, type(self)):\n",
    "            self.x += other.x\n",
    "            self.y += other.y\n",
    "            return self\n",
    "        else:\n",
    "            return NotImplemented\n",
    "    \n",
    "    def is_extreme(self, *points):\n",
    "        return all(self > point for point in points)\n",
    "    \n",
    "    def __abs__(self):\n",
    "        # optimized for 2D\n",
    "        return math.hypot(*self) # \"*self\" is tuple unpacking\n",
    "    \n",
    "    def angle(self):\n",
    "        return math.atan2(self.y, self.x)\n",
    "\n",
    "    def to_polar(self):\n",
    "        return abs(self), self.angle()    \n",
    "    \n",
    "    @classmethod\n",
    "    def from_polar(cls, radius, angle): # note that the first argument is a class rather than instance\n",
    "        x = radius * math.cos(angle)\n",
    "        y = radius * math.sin(angle)\n",
    "        return cls(x, y)"
   ]
  },
  {
   "cell_type": "code",
   "execution_count": 44,
   "metadata": {},
   "outputs": [
    {
     "data": {
      "text/plain": [
       "(Point(3.0, 4.5), Point(3.0000000000000004, 4.5), False)"
      ]
     },
     "execution_count": 44,
     "metadata": {},
     "output_type": "execute_result"
    }
   ],
   "source": [
    "p1 = Point(3, 4.5)\n",
    "r, a = p1.to_polar()\n",
    "p2 = Point.from_polar(r, a)\n",
    "p1, p2, p1 == p2"
   ]
  },
  {
   "cell_type": "markdown",
   "metadata": {},
   "source": [
    "We got a `False` because there is some numerical error."
   ]
  },
  {
   "cell_type": "code",
   "execution_count": 45,
   "metadata": {},
   "outputs": [
    {
     "data": {
      "text/plain": [
       "(Point(1.0, 1.0), Point(2.0000000000000004, 2.0))"
      ]
     },
     "execution_count": 45,
     "metadata": {},
     "output_type": "execute_result"
    }
   ],
   "source": [
    "p1 = Point(1, 1)\n",
    "r, a = p1.to_polar()\n",
    "p2 = Point.from_polar(r * 2, a)\n",
    "p1, p2"
   ]
  },
  {
   "cell_type": "markdown",
   "metadata": {},
   "source": [
    "We can also implement `__complex__` to allow to convert our `Point` to a complex number:"
   ]
  },
  {
   "cell_type": "code",
   "execution_count": 46,
   "metadata": {},
   "outputs": [],
   "source": [
    "class Point:\n",
    "    \"\"\"A point (x,y) in the Euclidian plane.\n",
    "    \"\"\"\n",
    "    \n",
    "    def __init__(self, x, y):        \n",
    "        self.x = float(x)\n",
    "        self.y = float(y)\n",
    "        \n",
    "    def __repr__(self):\n",
    "        # what a programmer wants to see, should work with eval\n",
    "        return \"{}({}, {})\".format(type(self).__name__, self.x, self.y)\n",
    "        \n",
    "    def __str__(self):\n",
    "        # what a user wants to see\n",
    "        return \"({}, {})\".format(self.x, self.y)\n",
    "    \n",
    "    def __iter__(self):\n",
    "        tup = (self.x, self.y)\n",
    "        return iter(tup)\n",
    "        \n",
    "    def __eq__(self, other):\n",
    "        return tuple(self) == tuple(other)\n",
    "    \n",
    "    def __gt__(self, other):\n",
    "        return self.x > other.x and self.y > other.y\n",
    "    \n",
    "    def __add__(self, other):\n",
    "        self_type = type(self)\n",
    "        if isinstance(other, (int, float)):\n",
    "            return self_type(self.x + other, self.y + other)\n",
    "        elif isinstance(other, self_type):\n",
    "            return self_type(self.x + other.x, self.y + other.y)\n",
    "        else:\n",
    "            return NotImplemented\n",
    "    \n",
    "    def __iadd__(self, other):\n",
    "        if isinstance(other, (int, float)):\n",
    "            self.x += other\n",
    "            self.y += other\n",
    "            return self # always return self from __i???__\n",
    "        elif isinstance(other, type(self)):\n",
    "            self.x += other.x\n",
    "            self.y += other.y\n",
    "            return self\n",
    "        else:\n",
    "            return NotImplemented\n",
    "    \n",
    "    def is_extreme(self, *points):\n",
    "        return all(self > point for point in points)\n",
    "    \n",
    "    def __abs__(self):\n",
    "        # optimized for 2D\n",
    "        return math.hypot(*self) # \"*self\" is tuple unpacking\n",
    "    \n",
    "    def angle(self):\n",
    "        return math.atan2(self.y, self.x)\n",
    "\n",
    "    def to_polar(self):\n",
    "        return abs(self), self.angle()               \n",
    "    \n",
    "    @classmethod\n",
    "    def from_polar(cls, radius, angle): # note that the first argument is a class rather than an instance\n",
    "        x = radius * math.cos(angle)\n",
    "        y = radius * math.sin(angle)\n",
    "        return cls(x, y)\n",
    "    \n",
    "    def __complex__(self):\n",
    "        return complex(*self)"
   ]
  },
  {
   "cell_type": "code",
   "execution_count": 47,
   "metadata": {},
   "outputs": [
    {
     "data": {
      "text/plain": [
       "(1+1j)"
      ]
     },
     "execution_count": 47,
     "metadata": {},
     "output_type": "execute_result"
    }
   ],
   "source": [
    "complex(Point(1,1))"
   ]
  },
  {
   "cell_type": "markdown",
   "metadata": {},
   "source": [
    "## Immutable\n",
    "\n",
    "We might want to make our `Point` immutable.\n",
    "This is easy enough, we just need to change our coordinates `x` and `y` to `_x` and `_y` to signal (by convention) that it should not be used directly, and add `x` and `y` properties.\n",
    "\n",
    "Note: We shouldn't implement `__iadd__`, though, in this case."
   ]
  },
  {
   "cell_type": "code",
   "execution_count": 48,
   "metadata": {},
   "outputs": [],
   "source": [
    "class Point:\n",
    "    \"\"\"A point (x,y) in the Euclidian plane.\n",
    "    \"\"\"\n",
    "    \n",
    "    def __init__(self, x, y):        \n",
    "        self._x = float(x)\n",
    "        self._y = float(y)\n",
    "        \n",
    "    @property\n",
    "    def x(self):\n",
    "        return self._x\n",
    "    \n",
    "    @property\n",
    "    def y(self): \n",
    "        return self._y\n",
    "        \n",
    "    def __repr__(self):\n",
    "        # what a programmer wants to see, should work with eval\n",
    "        return \"{}({}, {})\".format(type(self).__name__, self.x, self.y)\n",
    "        \n",
    "    def __str__(self):\n",
    "        # what a user wants to see\n",
    "        return \"({}, {})\".format(self.x, self.y)\n",
    "    \n",
    "    def __iter__(self):\n",
    "        tup = (self.x, self.y)\n",
    "        return iter(tup)\n",
    "\n",
    "    def __eq__(self, other):\n",
    "        return tuple(self) == tuple(other)\n",
    "    \n",
    "    def __gt__(self, other):\n",
    "        return self.x > other.x and self.y > other.y\n",
    "        \n",
    "    def __add__(self, other):\n",
    "        self_type = type(self)\n",
    "        if isinstance(other, (int, float)):\n",
    "            return self_type(self.x + other, self.y + other)\n",
    "        elif isinstance(other, self_type):\n",
    "            return self_type(self.x + other.x, self.y + other.y)\n",
    "        else:\n",
    "            return NotImplemented\n",
    "    \n",
    "    def is_extreme(self, *points):\n",
    "        return all(self > point for point in points)\n",
    "    \n",
    "    def __abs__(self):\n",
    "        # optimized for 2D\n",
    "        return math.hypot(*self) \n",
    "    \n",
    "    def angle(self):\n",
    "        return math.atan2(self.y, self.x)\n",
    "\n",
    "    def to_polar(self):\n",
    "        return abs(self), self.angle()        \n",
    "    \n",
    "    @classmethod\n",
    "    def from_polar(cls, radius, angle): # note that the first argument is a class rather than an instance\n",
    "        x = radius * math.cos(angle)\n",
    "        y = radius * math.sin(angle)\n",
    "        return cls(x, y)\n",
    "    \n",
    "    def __complex__(self):\n",
    "        return complex(*self)"
   ]
  },
  {
   "cell_type": "code",
   "execution_count": 49,
   "metadata": {},
   "outputs": [
    {
     "name": "stdout",
     "output_type": "stream",
     "text": [
      "(10.0, 100.0)\n"
     ]
    },
    {
     "data": {
      "text/plain": [
       "10.0"
      ]
     },
     "execution_count": 49,
     "metadata": {},
     "output_type": "execute_result"
    }
   ],
   "source": [
    "p = Point(10, 100)\n",
    "print(p)\n",
    "p.x"
   ]
  },
  {
   "cell_type": "markdown",
   "metadata": {},
   "source": [
    "Note that we didn't have to change any other method (except remove `__iadd__`) because the `@property` decorator turns the `x` and `y` methods to instance members.\n",
    "\n",
    "However, they cannot be directly changed now, making our class immutable, at least by convention:"
   ]
  },
  {
   "cell_type": "code",
   "execution_count": 50,
   "metadata": {},
   "outputs": [
    {
     "ename": "AttributeError",
     "evalue": "can't set attribute",
     "output_type": "error",
     "traceback": [
      "\u001b[0;31m---------------------------------------------------------------------------\u001b[0m",
      "\u001b[0;31mAttributeError\u001b[0m                            Traceback (most recent call last)",
      "\u001b[0;32m/var/folders/qn/3hj7mcx56k19b_09n6dymw8h0000gn/T/ipykernel_8018/1896484733.py\u001b[0m in \u001b[0;36m<module>\u001b[0;34m\u001b[0m\n\u001b[0;32m----> 1\u001b[0;31m \u001b[0mp\u001b[0m\u001b[0;34m.\u001b[0m\u001b[0mx\u001b[0m \u001b[0;34m=\u001b[0m \u001b[0;36m2\u001b[0m\u001b[0;34m\u001b[0m\u001b[0;34m\u001b[0m\u001b[0m\n\u001b[0m",
      "\u001b[0;31mAttributeError\u001b[0m: can't set attribute"
     ]
    }
   ],
   "source": [
    "p.x = 2"
   ]
  },
  {
   "cell_type": "markdown",
   "metadata": {},
   "source": [
    "## Bonus: N-Dimensional point\n",
    "\n",
    "At this point, we can generalize our class to a point in n-dimensional space.\n",
    "\n",
    "This requires only minor changes (except for some functions that don't work for more than two dimensions, like `__complex__`)."
   ]
  },
  {
   "cell_type": "code",
   "execution_count": 51,
   "metadata": {},
   "outputs": [],
   "source": [
    "class Point:\n",
    "    \"\"\"A point (x,y) in the Euclidian plane.\n",
    "    \"\"\"\n",
    "    \n",
    "    def __init__(self, *coords): # instead of saving two floats for the coordinates, we save a tuple of floats\n",
    "        self._coords = tuple(float(x) for x in coords)\n",
    "    \n",
    "    @property\n",
    "    def coords(self):\n",
    "        return self._coords\n",
    "    \n",
    "    @property\n",
    "    def x(self): # access coords\n",
    "        return self.coords[0]\n",
    "    \n",
    "    @property\n",
    "    def y(self): # access coords\n",
    "        return self.coords[1]\n",
    "    \n",
    "    def __len__(self): # delegate to tuple\n",
    "        return len(self.coords)\n",
    "    \n",
    "    def __repr__(self): # delegate to str\n",
    "        # what a programmer wants to see, should work with eval\n",
    "        return \"{}{}\".format(type(self).__name__, str(self))\n",
    "        \n",
    "    def __str__(self): # implement with str.join\n",
    "        # what a user wants to see\n",
    "        coord_str = (str(x) for x in self)\n",
    "        coord_str = str.join(', ', coord_str)\n",
    "        return \"({})\".format(coord_str)\n",
    "    \n",
    "    def __iter__(self): # delegate to tuple\n",
    "        return iter(self.coords) \n",
    "\n",
    "    def __eq__(self, other):\n",
    "        return tuple(self) == tuple(other)\n",
    "    \n",
    "    def __gt__(self, other):\n",
    "        return all(x1 > x2 for x1, x2 in zip(self, other)) # zip over coords\n",
    "    \n",
    "    def __add__(self, other):\n",
    "        cls = type(self)\n",
    "        if isinstance(other, (int, float)):\n",
    "            coords = (x + other for x in self) # iterate over coords\n",
    "            return cls(*coords) # *coords unpacks coords\n",
    "        elif isinstance(other, cls):\n",
    "            if len(self) != len(other): \n",
    "                raise NotImplementedError(\"Wrong number of dimensions: {} and {}\".format(len(self), len(other)))\n",
    "            coords = (x1 + x2 for x1, x2 in zip(self, other)) # zip over coords\n",
    "            return cls(*coords) # *coords unpacks coords\n",
    "        else:\n",
    "            return NotImplemented\n",
    "    \n",
    "    def __iadd__(self, other):\n",
    "        if isinstance(other, numbers.Real):\n",
    "            self.coords = (x + other for x in self)\n",
    "            return self \n",
    "        elif isinstance(other, type(self)):\n",
    "            if len(self) != len(other): raise NotImplementedError(\"Wrong number of dimensions: {} and {}\".format(len(self), len(other)))\n",
    "            self.coords = (x1 + x2 for x1, x2 in zip(self, other))\n",
    "            return self\n",
    "        else:\n",
    "            return NotImplemented\n",
    "    \n",
    "    def is_extreme(self, *points):\n",
    "        return all(self > point for point in points)\n",
    "    \n",
    "    def __abs__(self):\n",
    "        if len(self) == 2:\n",
    "            return math.hypot(*self) # optimized for 2D\n",
    "        else:\n",
    "            return math.sqrt(sum(x*x for x in self)) # general purpose\n",
    "    \n",
    "    def angle(self):\n",
    "        if len(self) == 2:\n",
    "            return math.atan2(self.y, self.x)\n",
    "        else:\n",
    "            raise NotImplementedError(\"Not implemented for {} dimensions\".format(len(self)))\n",
    "\n",
    "    def to_polar(self):\n",
    "        if len(self) == 2:\n",
    "            return abs(self), self.angle()  \n",
    "        else:\n",
    "            raise NotImplementedError(\"Not implemented for {} dimensions\".format(len(self)))\n",
    "    \n",
    "    @classmethod\n",
    "    def from_polar(cls, radius, angle): # note that the first argument is a class rather than an instance\n",
    "        x = radius * math.cos(angle)\n",
    "        y = radius * math.sin(angle)\n",
    "        return cls(x, y)\n",
    "    \n",
    "    def __complex__(self):\n",
    "        if len(self) == 2:\n",
    "            return complex(*self)\n",
    "        else:\n",
    "            raise NotImplementedError(\"Not implemented for {} dimensions\".format(len(self)))"
   ]
  },
  {
   "cell_type": "code",
   "execution_count": 52,
   "metadata": {},
   "outputs": [
    {
     "name": "stdout",
     "output_type": "stream",
     "text": [
      "(1.0, 2.0, 3.0, 4.0)\n"
     ]
    }
   ],
   "source": [
    "p = Point(1, 2, 3, 4)\n",
    "print(p)"
   ]
  },
  {
   "cell_type": "code",
   "execution_count": 53,
   "metadata": {},
   "outputs": [
    {
     "data": {
      "text/plain": [
       "Point(6.0, 7.0, 3.0, 4.0)"
      ]
     },
     "execution_count": 53,
     "metadata": {},
     "output_type": "execute_result"
    }
   ],
   "source": [
    "p + Point(5, 5, 0, 0)"
   ]
  },
  {
   "cell_type": "code",
   "execution_count": 54,
   "metadata": {},
   "outputs": [
    {
     "data": {
      "text/plain": [
       "5.477225575051661"
      ]
     },
     "execution_count": 54,
     "metadata": {},
     "output_type": "execute_result"
    }
   ],
   "source": [
    "abs(p)"
   ]
  },
  {
   "cell_type": "markdown",
   "metadata": {},
   "source": [
    "We can also define the `__getitem__` method so that we can get specific coordinates (we'll not define the `__setitem__` to keep the class \"imutable\", but of course this can be done).\n",
    "\n",
    "By having `__len__` and `__getitem__` we are implementing the *sequence protocol*, and therefore we get `__iter__` and `__reversed__` for free, so we can throw `__iter__` away (although we might want to keep it if we think our implementation is better)."
   ]
  },
  {
   "cell_type": "code",
   "execution_count": 55,
   "metadata": {},
   "outputs": [],
   "source": [
    "class Point:\n",
    "    \"\"\"A point in a Euclidian space.\n",
    "    \"\"\"\n",
    "    \n",
    "    def __init__(self, *coords):        \n",
    "        self._coords = tuple(float(x) for x in coords)\n",
    "    \n",
    "    @property\n",
    "    def coords(self):\n",
    "        return self._coords\n",
    "\n",
    "    def __getitem__(self, key):\n",
    "        return self.coords[key]\n",
    "        \n",
    "    def __len__(self): # delegate to tuple\n",
    "        return len(self.coords)\n",
    "    \n",
    "    ## __iter__ not needed\n",
    "\n",
    "    @property\n",
    "    def x(self): # access coords\n",
    "        return self[0]\n",
    "    \n",
    "    @property\n",
    "    def y(self): # access coords\n",
    "        return self[1]\n",
    "        \n",
    "    def __repr__(self): \n",
    "        # what a programmer wants to see, should work with eval\n",
    "        return \"{}{}\".format(type(self).__name__, str(self))\n",
    "        \n",
    "    def __str__(self):\n",
    "        # what a user wants to see\n",
    "        coord_str = (str(x) for x in self)\n",
    "        coord_str = str.join(', ', coord_str)\n",
    "        return \"({})\".format(coord_str)\n",
    "    \n",
    "    def __eq__(self, other):\n",
    "        return tuple(self) == tuple(other)\n",
    "    \n",
    "    def __gt__(self, other):\n",
    "        return all(x1 > x2 for x1, x2 in zip(self, other))\n",
    "    \n",
    "    def __add__(self, other):\n",
    "        cls = type(self)\n",
    "        if isinstance(other, numbers.Real):\n",
    "            coords = (x + other for x in self) \n",
    "            return cls(*coords) \n",
    "        elif isinstance(other, cls):\n",
    "            if len(self) != len(other): \n",
    "                raise NotImplementedError(\"Wrong number of dimensions: {} and {}\".format(len(self), len(other)))\n",
    "            coords = (x1 + x2 for x1, x2 in zip(self, other))\n",
    "            return cls(*coords) \n",
    "        else:\n",
    "            return NotImplemented\n",
    "    \n",
    "    def is_extreme(self, *points):\n",
    "        return all(self > point for point in points)\n",
    "    \n",
    "    def __abs__(self):\n",
    "        if len(self) == 2:\n",
    "            return math.hypot(*self) # optimized for 2D\n",
    "        else:\n",
    "            return math.sqrt(sum(x*x for x in self)) # general purpose\n",
    "    \n",
    "    def angle(self):\n",
    "        if len(self) == 2:\n",
    "            return math.atan2(self.y, self.x)\n",
    "        else:\n",
    "            raise NotImplementedError(\"Not implemented for {} dimensions\".format(len(self)))\n",
    "\n",
    "    def to_polar(self):\n",
    "        if len(self) == 2:\n",
    "            return abs(self), self.angle()  \n",
    "        else:\n",
    "            raise NotImplementedError(\"Not implemented for {} dimensions\".format(len(self)))\n",
    "    \n",
    "    @classmethod\n",
    "    def from_polar(cls, radius, angle): \n",
    "        x = radius * math.cos(angle)\n",
    "        y = radius * math.sin(angle)\n",
    "        return cls(x, y)\n",
    "    \n",
    "    def __complex__(self):\n",
    "        if len(self) == 2:\n",
    "            return complex(*self)\n",
    "        else:\n",
    "            raise NotImplementedError(\"Not implemented for {} dimensions\".format(len(self)))"
   ]
  },
  {
   "cell_type": "code",
   "execution_count": 56,
   "metadata": {},
   "outputs": [
    {
     "data": {
      "text/plain": [
       "(1.0, 2.0, 3.0, 4.0, 5.0)"
      ]
     },
     "execution_count": 56,
     "metadata": {},
     "output_type": "execute_result"
    }
   ],
   "source": [
    "p = Point(1, 2, 3, 4, 5)\n",
    "p.coords"
   ]
  },
  {
   "cell_type": "code",
   "execution_count": 57,
   "metadata": {},
   "outputs": [
    {
     "data": {
      "text/plain": [
       "(1.0, 2.0)"
      ]
     },
     "execution_count": 57,
     "metadata": {},
     "output_type": "execute_result"
    }
   ],
   "source": [
    "p[0], p[1]"
   ]
  },
  {
   "cell_type": "code",
   "execution_count": 58,
   "metadata": {},
   "outputs": [
    {
     "data": {
      "text/plain": [
       "5.0"
      ]
     },
     "execution_count": 58,
     "metadata": {},
     "output_type": "execute_result"
    }
   ],
   "source": [
    "p[-1]"
   ]
  },
  {
   "cell_type": "code",
   "execution_count": 59,
   "metadata": {},
   "outputs": [
    {
     "ename": "IndexError",
     "evalue": "tuple index out of range",
     "output_type": "error",
     "traceback": [
      "\u001b[0;31m---------------------------------------------------------------------------\u001b[0m",
      "\u001b[0;31mIndexError\u001b[0m                                Traceback (most recent call last)",
      "\u001b[0;32m/var/folders/qn/3hj7mcx56k19b_09n6dymw8h0000gn/T/ipykernel_8018/2324789721.py\u001b[0m in \u001b[0;36m<module>\u001b[0;34m\u001b[0m\n\u001b[0;32m----> 1\u001b[0;31m \u001b[0mp\u001b[0m\u001b[0;34m[\u001b[0m\u001b[0;36m10\u001b[0m\u001b[0;34m]\u001b[0m\u001b[0;34m\u001b[0m\u001b[0;34m\u001b[0m\u001b[0m\n\u001b[0m",
      "\u001b[0;32m/var/folders/qn/3hj7mcx56k19b_09n6dymw8h0000gn/T/ipykernel_8018/2810258796.py\u001b[0m in \u001b[0;36m__getitem__\u001b[0;34m(self, key)\u001b[0m\n\u001b[1;32m     11\u001b[0m \u001b[0;34m\u001b[0m\u001b[0m\n\u001b[1;32m     12\u001b[0m     \u001b[0;32mdef\u001b[0m \u001b[0m__getitem__\u001b[0m\u001b[0;34m(\u001b[0m\u001b[0mself\u001b[0m\u001b[0;34m,\u001b[0m \u001b[0mkey\u001b[0m\u001b[0;34m)\u001b[0m\u001b[0;34m:\u001b[0m\u001b[0;34m\u001b[0m\u001b[0;34m\u001b[0m\u001b[0m\n\u001b[0;32m---> 13\u001b[0;31m         \u001b[0;32mreturn\u001b[0m \u001b[0mself\u001b[0m\u001b[0;34m.\u001b[0m\u001b[0mcoords\u001b[0m\u001b[0;34m[\u001b[0m\u001b[0mkey\u001b[0m\u001b[0;34m]\u001b[0m\u001b[0;34m\u001b[0m\u001b[0;34m\u001b[0m\u001b[0m\n\u001b[0m\u001b[1;32m     14\u001b[0m \u001b[0;34m\u001b[0m\u001b[0m\n\u001b[1;32m     15\u001b[0m     \u001b[0;32mdef\u001b[0m \u001b[0m__len__\u001b[0m\u001b[0;34m(\u001b[0m\u001b[0mself\u001b[0m\u001b[0;34m)\u001b[0m\u001b[0;34m:\u001b[0m \u001b[0;31m# delegate to tuple\u001b[0m\u001b[0;34m\u001b[0m\u001b[0;34m\u001b[0m\u001b[0m\n",
      "\u001b[0;31mIndexError\u001b[0m: tuple index out of range"
     ]
    }
   ],
   "source": [
    "p[10]"
   ]
  },
  {
   "cell_type": "code",
   "execution_count": 60,
   "metadata": {},
   "outputs": [
    {
     "data": {
      "text/plain": [
       "(1.0, 2.0)"
      ]
     },
     "execution_count": 60,
     "metadata": {},
     "output_type": "execute_result"
    }
   ],
   "source": [
    "p.x, p.y"
   ]
  },
  {
   "cell_type": "markdown",
   "metadata": {},
   "source": [
    "## Bonus: __dict__\n",
    "\n",
    "An object attributes are saved in a dictionary called `__dict__`:"
   ]
  },
  {
   "cell_type": "code",
   "execution_count": 61,
   "metadata": {},
   "outputs": [
    {
     "data": {
      "text/plain": [
       "{'_coords': (1.0, 2.0, 3.0, 4.0, 5.0)}"
      ]
     },
     "execution_count": 61,
     "metadata": {},
     "output_type": "execute_result"
    }
   ],
   "source": [
    "p.__dict__"
   ]
  },
  {
   "cell_type": "markdown",
   "metadata": {},
   "source": [
    "However, a dictionary has some overhead, and a more memory efficient way to save the attributes is done by defining the class attribute `__slots__`.\n",
    "\n",
    "Let's see an example for 2D point:"
   ]
  },
  {
   "cell_type": "code",
   "execution_count": 62,
   "metadata": {},
   "outputs": [],
   "source": [
    "class RegularPoint:\n",
    "    \n",
    "    def __init__(self, x, y):        \n",
    "        self.x = float(x)\n",
    "        self.y = float(y)\n",
    "        \n",
    "    def __iter__(self):\n",
    "        yield self.x\n",
    "        yield self.y\n",
    "    \n",
    "    def __repr__(self):\n",
    "        return \"{}({}, {})\".format(type(self).__name__, *self)\n",
    "    \n",
    "class EfficientPoint:\n",
    "    __slots__ = ('x', 'y')\n",
    "    \n",
    "    def __init__(self, x, y):        \n",
    "        self.x = float(x)\n",
    "        self.y = float(y)\n",
    "        \n",
    "    def __iter__(self):\n",
    "        yield self.x\n",
    "        yield self.y\n",
    "    \n",
    "    def __repr__(self):\n",
    "        return \"{}({}, {})\".format(type(self).__name__, *self)"
   ]
  },
  {
   "cell_type": "markdown",
   "metadata": {},
   "source": [
    "We load [ipython_memory_usage](https://github.com/ianozsvald/ipython_memory_usage), a package that monitors memory usage inside the notebook.\n",
    "\n",
    "Install from with `pip install ipython_memory_usage`, and on Windows you will also n\n",
    "`conda install psutil`."
   ]
  },
  {
   "cell_type": "code",
   "execution_count": 63,
   "metadata": {},
   "outputs": [
    {
     "name": "stdout",
     "output_type": "stream",
     "text": [
      "In [63] used 0.0078 MiB RAM in 0.17s, peaked 0.00 MiB above current, total RAM usage 57.71 MiB\n"
     ]
    }
   ],
   "source": [
    "import ipython_memory_usage.ipython_memory_usage as imu\n",
    "imu.start_watching_memory()"
   ]
  },
  {
   "cell_type": "code",
   "execution_count": 64,
   "metadata": {},
   "outputs": [
    {
     "name": "stdout",
     "output_type": "stream",
     "text": [
      "In [64] used 2179.7891 MiB RAM in 9.27s, peaked 14.20 MiB above current, total RAM usage 2237.50 MiB\n"
     ]
    }
   ],
   "source": [
    "lst1 = [RegularPoint(0, 0) for _ in range(10**7)]"
   ]
  },
  {
   "cell_type": "code",
   "execution_count": 65,
   "metadata": {},
   "outputs": [
    {
     "name": "stdout",
     "output_type": "stream",
     "text": [
      "In [65] used 1236.9336 MiB RAM in 7.69s, peaked 0.00 MiB above current, total RAM usage 3474.43 MiB\n"
     ]
    }
   ],
   "source": [
    "lst2 = [EfficientPoint(0, 0) for _ in range(10**7)]"
   ]
  },
  {
   "cell_type": "markdown",
   "metadata": {},
   "source": [
    "So we see that for $10^7$ points, the `__slots__` class requires ~2-fold less memory.\n",
    "\n",
    "We should now delete the references to release these GB of RAM with the `del` statement:"
   ]
  },
  {
   "cell_type": "code",
   "execution_count": 66,
   "metadata": {},
   "outputs": [
    {
     "name": "stdout",
     "output_type": "stream",
     "text": [
      "In [66] used -3328.0508 MiB RAM in 1.29s, peaked 3328.07 MiB above current, total RAM usage 146.38 MiB\n"
     ]
    }
   ],
   "source": [
    "del lst1\n",
    "del lst2"
   ]
  },
  {
   "cell_type": "markdown",
   "metadata": {},
   "source": [
    "And finally stop monitoring the memory:"
   ]
  },
  {
   "cell_type": "code",
   "execution_count": 67,
   "metadata": {},
   "outputs": [],
   "source": [
    "imu.stop_watching_memory()"
   ]
  },
  {
   "cell_type": "markdown",
   "metadata": {},
   "source": [
    "# __Rectangle class__\n",
    "\n",
    "We will implement two classes for rectangles, and compare the two implementations.\n",
    "\n",
    "## First implementation - two points\n",
    "\n",
    "The first implementation defines a rectangle by its lower left and upper right vertices."
   ]
  },
  {
   "cell_type": "code",
   "execution_count": 68,
   "metadata": {},
   "outputs": [],
   "source": [
    "class Rectangle1:\n",
    "    \"\"\"Describe a parallel-axes rectangle by storing two points.\n",
    "    \n",
    "    Attributes\n",
    "    ----------\n",
    "    llv : Point\n",
    "        lower left vertex\n",
    "    urv : Point\n",
    "        upper right vertex\n",
    "    \"\"\"\n",
    "    \n",
    "    def __init__(self, lower_left_vertex, upper_right_vertex):        \n",
    "        self.llv = Point(*lower_left_vertex)\n",
    "        self.urv = Point(*upper_right_vertex)\n",
    "        assert self.llv < self.urv, \"Lower left vertex should be lower than upper right vertex\"\n",
    "        \n",
    "    def __str__(self):\n",
    "        return \"Rectangle with lower left {} and upper right {}\".format(self.llv, self.urv)\n",
    "\n",
    "    @property\n",
    "    def height(self):\n",
    "        return self.urv.y - self.llv.y\n",
    "      \n",
    "    @property\n",
    "    def width(self):\n",
    "        return self.urv.x - self.llv.x\n",
    "\n",
    "    @property\n",
    "    def area(self):\n",
    "        return self.height * self.width\n",
    "       \n",
    "    def transpose(self):\n",
    "        \"\"\"Reflection with regard to the line passing through lower left vertex with angle 315 (-45) degrees\n",
    "        \"\"\"\n",
    "        x, y = self.llv\n",
    "        llv = Point(x - self.height, y - self.width)\n",
    "        cls = type(self)\n",
    "        return cls(llv, self.urv)"
   ]
  },
  {
   "cell_type": "code",
   "execution_count": 69,
   "metadata": {},
   "outputs": [
    {
     "name": "stdout",
     "output_type": "stream",
     "text": [
      "Rectangle with lower left (0.0, 0.0) and upper right (2.0, 1.0)\n",
      "Area: 2.0\n",
      "Dimensions: 1.0 2.0\n",
      "Transposed: Rectangle with lower left (-1.0, -2.0) and upper right (2.0, 1.0)\n"
     ]
    }
   ],
   "source": [
    "rect = Rectangle1(Point(0, 0), Point(2,1))\n",
    "print(rect)\n",
    "print(\"Area:\", rect.area)\n",
    "print(\"Dimensions:\", rect.height, rect.width)\n",
    "t_rect = rect.transpose()\n",
    "print(\"Transposed:\", t_rect)"
   ]
  },
  {
   "cell_type": "markdown",
   "metadata": {},
   "source": [
    "## Exercise: contains\n",
    "\n",
    "Overload the `__contains__` method of the rectangle class so that given a point it will return `True` if the point is inside the rectangle and `False` otherwise."
   ]
  },
  {
   "cell_type": "code",
   "execution_count": 71,
   "metadata": {},
   "outputs": [],
   "source": [
    "class Rectangle1:\n",
    "   # your code here"
   ]
  },
  {
   "cell_type": "code",
   "execution_count": 72,
   "metadata": {},
   "outputs": [],
   "source": [
    "rect = Rectangle1(Point(0, 0), Point(2, 2))\n",
    "assert Point(1, 1) in rect\n",
    "assert Point(1.5, 0.5) in rect\n",
    "assert Point(3, 1) not in rect\n",
    "assert Point(0.5, 2.5) not in rect"
   ]
  },
  {
   "cell_type": "markdown",
   "metadata": {},
   "source": [
    "## Exercise: Rectangle2\n",
    "\n",
    "The second implementation defines a rectangle by the lower left point, the height and the width.\n",
    "\n",
    "Define the exact same methods as in `Rectangle1`, with the same input and output, but  different inner representation / implementation."
   ]
  },
  {
   "cell_type": "code",
   "execution_count": 73,
   "metadata": {},
   "outputs": [],
   "source": [
    "class Rectangle2:\n",
    "    \"\"\"Describe a parallel-axes rectangle by storing lower left point, height and width.\n",
    "    \n",
    "    Attributes\n",
    "    ----------\n",
    "    point : Point\n",
    "        lower left point\n",
    "    width : float\n",
    "        width\n",
    "    height : float\n",
    "        height\n",
    "    \"\"\"    \n",
    "   \n",
    "    # your code here"
   ]
  },
  {
   "cell_type": "code",
   "execution_count": 74,
   "metadata": {},
   "outputs": [
    {
     "name": "stdout",
     "output_type": "stream",
     "text": [
      "Rectangle with lower left (0.0, 0.0), width 1, and height 2\n",
      "Area: 2\n",
      "Dimensions: 1 2\n",
      "Transposed: Rectangle with lower left (0.0, 0.0), width 2, and height 1\n"
     ]
    }
   ],
   "source": [
    "rect = Rectangle2(Point(0, 0), 1, 2)\n",
    "print(rect)\n",
    "print(\"Area:\", rect.area)\n",
    "print(\"Dimensions:\", rect.width, rect.height)\n",
    "t_rect = rect.transpose()\n",
    "print(\"Transposed:\", t_rect)"
   ]
  },
  {
   "cell_type": "markdown",
   "metadata": {},
   "source": [
    "# Inheritance\n",
    "\n",
    "Next we will see how inheritance works in Python.\n",
    "\n",
    "We define a `Door` class. The door is either open or closed, it can be opened or closed, and it can be represented as a string.\n",
    "\n",
    "This example also shows how to define a setter property. "
   ]
  },
  {
   "cell_type": "code",
   "execution_count": 75,
   "metadata": {},
   "outputs": [],
   "source": [
    "class Door:\n",
    "    OPEN = 'open'\n",
    "    CLOSED = 'closed'\n",
    "    \n",
    "    def __init__(self, status=CLOSED):\n",
    "        self._status = status\n",
    "        \n",
    "    @property\n",
    "    def status(self):\n",
    "        return self._status\n",
    "\n",
    "    @status.setter\n",
    "    def status(self, new_status):\n",
    "        if new_status not in (self.OPEN, self.CLOSED):\n",
    "            raise ValueError('Status must be one of {}'.format((self.OPEN, self.CLOSED)))\n",
    "        self._status = new_status\n",
    "        return new_status\n",
    "    \n",
    "    def __repr__(self):\n",
    "        return '{}(status={})'.format(type(self).__name__, self.status)\n",
    "\n",
    "    def __str__(self):\n",
    "        return 'Door {0} is {1}'.format(id(self), self.status)\n",
    "    \n",
    "    def open(self):\n",
    "        self.status = self.OPEN\n",
    "        \n",
    "    def close(self):\n",
    "        self.status = self.CLOSED"
   ]
  },
  {
   "cell_type": "code",
   "execution_count": 76,
   "metadata": {},
   "outputs": [
    {
     "name": "stdout",
     "output_type": "stream",
     "text": [
      "Door 7548547616 is closed\n"
     ]
    },
    {
     "data": {
      "text/plain": [
       "Door(status=closed)"
      ]
     },
     "execution_count": 76,
     "metadata": {},
     "output_type": "execute_result"
    }
   ],
   "source": [
    "door = Door()\n",
    "print(door)\n",
    "door"
   ]
  },
  {
   "cell_type": "markdown",
   "metadata": {},
   "source": [
    "Now we want to define a secure door which only opens with a password.\n",
    "\n",
    "The secure door inherits from the regular door, but it makes some changes:\n",
    "\n",
    "- `__init__` accepts a password and saves it's hash as an attribute\n",
    "- `open` requires the password from the user to actually open the door\n",
    "\n",
    "The `super` function gives access to the parent class."
   ]
  },
  {
   "cell_type": "code",
   "execution_count": 77,
   "metadata": {},
   "outputs": [],
   "source": [
    "from getpass import getpass\n",
    "from hashlib import sha224\n",
    "\n",
    "def digest(password):\n",
    "    \"\"\"Hash a password using sha224 algorithm.\n",
    "    \"\"\"\n",
    "    return sha224(password.encode('utf8')).hexdigest()"
   ]
  },
  {
   "cell_type": "code",
   "execution_count": 78,
   "metadata": {},
   "outputs": [],
   "source": [
    "class SecurityDoor(Door):\n",
    "    \"\"\"A door that requires a password to open.\n",
    "    \"\"\"\n",
    "  \n",
    "    def __init__(self, password):\n",
    "        super().__init__()\n",
    "        self.secret = digest(password)\n",
    "        \n",
    "    def open(self):\n",
    "        if digest(getpass(\"What is the password?\")) == self.secret:\n",
    "            super().open()\n",
    "        else:\n",
    "            print(\"Wrong password!\")"
   ]
  },
  {
   "cell_type": "code",
   "execution_count": 80,
   "metadata": {},
   "outputs": [
    {
     "name": "stdin",
     "output_type": "stream",
     "text": [
      "What is the password? ··········\n"
     ]
    },
    {
     "name": "stdout",
     "output_type": "stream",
     "text": [
      "Door 4518911376 is open\n",
      "Door 4518911376 is closed\n"
     ]
    }
   ],
   "source": [
    "secure_door = SecurityDoor('opensesame')\n",
    "secure_door.open()\n",
    "print(secure_door)\n",
    "secure_door.close()\n",
    "print(secure_door)"
   ]
  },
  {
   "cell_type": "markdown",
   "metadata": {},
   "source": [
    "Multiple inheritance works in Python. If there are clashes between names Python will search from the first parent to the last. \n",
    "\n",
    "However, multiple inheritance and inheritance in general are many times not neccessary and similar results can be produced by composition and delegation, without creating the complexity and constraints that inheritance induces.\n",
    "\n",
    "In the words of the famous [Design Patterns](https://en.wikipedia.org/wiki/Composition_over_inheritance) book:\n",
    "\n",
    "> Favor 'object composition' over 'class inheritance'."
   ]
  },
  {
   "cell_type": "markdown",
   "metadata": {},
   "source": [
    "# Composition and delegation\n",
    "\n",
    "Composition means that one object **explicitly delegates** some tasks to another object. \n",
    "\n",
    "Delegation is implicit in inheritance, and explicit in composition.\n",
    "\n",
    "The *Zen of Python* (`import this`) says that *Explicit is better than implicit*, so we should conclude that composition is better than inheritance.\n",
    "\n",
    "Let's implement regular composition, which simply makes an object part of the other as an attribute:"
   ]
  },
  {
   "cell_type": "code",
   "execution_count": 81,
   "metadata": {},
   "outputs": [],
   "source": [
    "class SecurityDoor:\n",
    "    \"\"\"A door that requires a password to open.\n",
    "    \"\"\"\n",
    "    \n",
    "    def __init__(self, password):\n",
    "        self._door = Door(status=Door.CLOSED)\n",
    "        self._secret = digest(password)\n",
    "    \n",
    "    @property\n",
    "    def secret(self):\n",
    "        return self._secret\n",
    "    \n",
    "    @property\n",
    "    def door(self):\n",
    "        return self._door\n",
    "    \n",
    "    def __repr__(self):\n",
    "        return repr(self.door)\n",
    "               \n",
    "    def open(self):\n",
    "        if digest(getpass(\"What is the password?\")) == self.secret:\n",
    "            self.door.open()\n",
    "        else:\n",
    "            print(\"Wrong password!\")\n",
    "        \n",
    "    def close(self):\n",
    "        self.door.close()"
   ]
  },
  {
   "cell_type": "code",
   "execution_count": 82,
   "metadata": {},
   "outputs": [
    {
     "name": "stdin",
     "output_type": "stream",
     "text": [
      "What is the password? ··········\n"
     ]
    },
    {
     "name": "stdout",
     "output_type": "stream",
     "text": [
      "Door(status=open)\n",
      "Door(status=closed)\n"
     ]
    }
   ],
   "source": [
    "secure_door = SecurityDoor('opensesame')\n",
    "secure_door.open()\n",
    "print(secure_door)\n",
    "secure_door.close()\n",
    "print(secure_door)"
   ]
  },
  {
   "cell_type": "markdown",
   "metadata": {},
   "source": [
    "\n",
    "\n",
    "The primary goal of composition is to relax the coupling between objects. \n",
    "This little example shows that now `SecurityDoor` is an `object` and no more a `Door`, \n",
    "which means that the internal structure of `Door` is not copied. \n",
    "For this very simple example both `Door` and `SecurityDoor` are not big classes, \n",
    "but in a real system objects can be very complex; \n",
    "this means that their allocation consumes a lot of memory and if a system contains thousands or millions of objects that could be an issue.\n",
    "\n",
    "The composed `SecurityDoor` has to redefine every attribute since the concept of delegation applies only to methods and not to attributes, doesn't it?\n",
    "\n",
    "**No.** Python allows objects manipulation and attribute access is one of the most useful. \n",
    "Accessing attributes is ruled by a special method called `__getattribute__` that is called whenever an attribute of the object is accessed. \n",
    "Overriding `__getattribute__`, however, is overkill; \n",
    "it is a very complex method, and, being called on every attribute access, any change makes the whole thing slower.\n",
    "\n",
    "The method we have to leverage to delegate attribute access is `__getattr__`, which is a special method that is called whenever the requested attribute is not found in the object. \n",
    "So basically it is the right place to dispatch all attribute and method access our object cannot handle. \n",
    "\n",
    "The previous example becomes:"
   ]
  },
  {
   "cell_type": "code",
   "execution_count": 84,
   "metadata": {},
   "outputs": [],
   "source": [
    "class SecurityDoor:\n",
    "    \"\"\"A door that requires a password to open.\n",
    "    \"\"\"\n",
    "    \n",
    "    def __init__(self, password):\n",
    "        self._door = Door(status=Door.CLOSED)\n",
    "        self._secret = digest(password)\n",
    "              \n",
    "    @property\n",
    "    def door(self):\n",
    "        return self._door\n",
    "    \n",
    "    @property\n",
    "    def secret(self):\n",
    "        return self._secret\n",
    "            \n",
    "    def __repr__(self):\n",
    "        return repr(self.door)\n",
    "    \n",
    "    def open(self):\n",
    "        if digest(getpass(\"What is the password?\")) == self.secret:\n",
    "            self.door.open()\n",
    "        else:\n",
    "            print(\"Wrong password!\")\n",
    "        \n",
    "    def __getattr__(self, attr):\n",
    "        return getattr(self.door, attr)"
   ]
  },
  {
   "cell_type": "code",
   "execution_count": 85,
   "metadata": {},
   "outputs": [
    {
     "name": "stdin",
     "output_type": "stream",
     "text": [
      "What is the password? ··········\n"
     ]
    },
    {
     "name": "stdout",
     "output_type": "stream",
     "text": [
      "Door(status=open)\n",
      "Door(status=closed)\n"
     ]
    }
   ],
   "source": [
    "secure_door = SecurityDoor('opensesame')\n",
    "secure_door.open()\n",
    "print(secure_door)\n",
    "secure_door.close()\n",
    "print(secure_door)"
   ]
  },
  {
   "cell_type": "markdown",
   "metadata": {},
   "source": [
    "As this last example shows, delegating every member access through `__getattr__` is very simple. \n",
    "Pay attention to `getattr` which is different from `__getattr__`. \n",
    "The former is a built-in function that is equivalent to the dotted syntax, i.e. `getattr(obj, 'someattr')` is the same as `obj.someattr`, but you have to use it since the name of the attribute is contained in a string.\n",
    "\n",
    "**Composition provides a superior way to manage delegation** since it can selectively delegate the access, even mask some attributes or methods, while inheritance cannot. \n",
    "\n",
    "In Python you also avoid the memory problems that might arise with delegation when you put many objects inside another; Python handles everything through its reference, so the size of an attribute is constant and very limited."
   ]
  },
  {
   "cell_type": "markdown",
   "metadata": {},
   "source": [
    "## Exercise: revolving door\n",
    "\n",
    "Define a new class, `RevolvingDoor`, which closes immediately after it is opened. Define it once with inheritance and once with composition."
   ]
  },
  {
   "cell_type": "code",
   "execution_count": 86,
   "metadata": {},
   "outputs": [
    {
     "name": "stdout",
     "output_type": "stream",
     "text": [
      "Door 4530430256 is closed\n"
     ]
    }
   ],
   "source": [
    "class RevolvingDoor(Door):\n",
    "    # you code here\n",
    "    \n",
    "rdoor = RevolvingDoor()\n",
    "rdoor.open()\n",
    "print(rdoor)"
   ]
  },
  {
   "cell_type": "code",
   "execution_count": 88,
   "metadata": {},
   "outputs": [
    {
     "name": "stdout",
     "output_type": "stream",
     "text": [
      "Door(status=closed)\n"
     ]
    }
   ],
   "source": [
    "class RevolvingDoor:\n",
    "    # your code here\n",
    "    \n",
    "rdoor = RevolvingDoor()\n",
    "rdoor.open()\n",
    "print(rdoor)"
   ]
  },
  {
   "cell_type": "markdown",
   "metadata": {},
   "source": [
    "# Bonus: Polymorphism\n",
    "\n",
    "In Python, polymorphism is baked into the language, due to the **Duck typing** principle. \n",
    "\n",
    "We saw above how this relates to methods like `__add__`, `__sub__`, `__repr__`, and `__contains__`.\n",
    "\n",
    "Another example is a file object:"
   ]
  },
  {
   "cell_type": "code",
   "execution_count": 89,
   "metadata": {},
   "outputs": [
    {
     "name": "stdout",
     "output_type": "stream",
     "text": [
      "<class '_io.TextIOWrapper'>\n",
      "['_CHUNK_SIZE', '__class__', '__del__', '__delattr__', '__dict__', '__dir__', '__doc__', '__enter__', '__eq__', '__exit__', '__format__', '__ge__', '__getattribute__', '__gt__', '__hash__', '__init__', '__init_subclass__', '__iter__', '__le__', '__lt__', '__ne__', '__new__', '__next__', '__reduce__', '__reduce_ex__', '__repr__', '__setattr__', '__sizeof__', '__str__', '__subclasshook__', '_checkClosed', '_checkReadable', '_checkSeekable', '_checkWritable', '_finalizing', 'buffer', 'close', 'closed', 'detach', 'encoding', 'errors', 'fileno', 'flush', 'isatty', 'line_buffering', 'mode', 'name', 'newlines', 'read', 'readable', 'readline', 'readlines', 'reconfigure', 'seek', 'seekable', 'tell', 'truncate', 'writable', 'write', 'write_through', 'writelines']\n"
     ]
    }
   ],
   "source": [
    "f = open(\"../data/crops.txt\")\n",
    "print(type(f))\n",
    "print(dir(f))\n",
    "f.close()"
   ]
  },
  {
   "cell_type": "markdown",
   "metadata": {},
   "source": [
    "Say we write a function that gets a file and returns all the lines that start with a given prefix (say, 'Am'):"
   ]
  },
  {
   "cell_type": "code",
   "execution_count": 90,
   "metadata": {},
   "outputs": [
    {
     "name": "stdout",
     "output_type": "stream",
     "text": [
      "['Amaranthus cruentus', 'Amaranthus spp.', 'Amaranthus viridis', 'Amomum subulatum', 'Amorphophallus konjac', 'Amorphophallus paeoniifolius']\n"
     ]
    }
   ],
   "source": [
    "def filter_by_prefix(file, prefix):\n",
    "    return [line.strip() for line in file if line.startswith(prefix)]\n",
    "\n",
    "with open('../data/crops.txt', 'r') as f:\n",
    "    print(filter_by_prefix(f, 'Am'))"
   ]
  },
  {
   "cell_type": "markdown",
   "metadata": {},
   "source": [
    "But now, say we want to read from `crops.txt.gz`, which is compressed with gzip. There is a module for reading gzipped files:"
   ]
  },
  {
   "cell_type": "code",
   "execution_count": 91,
   "metadata": {},
   "outputs": [],
   "source": [
    "import gzip"
   ]
  },
  {
   "cell_type": "code",
   "execution_count": 92,
   "metadata": {},
   "outputs": [
    {
     "name": "stdout",
     "output_type": "stream",
     "text": [
      "<class 'gzip.GzipFile'>\n",
      "['__abstractmethods__', '__class__', '__del__', '__delattr__', '__dict__', '__dir__', '__doc__', '__enter__', '__eq__', '__exit__', '__format__', '__ge__', '__getattribute__', '__gt__', '__hash__', '__init__', '__init_subclass__', '__iter__', '__le__', '__lt__', '__module__', '__ne__', '__new__', '__next__', '__reduce__', '__reduce_ex__', '__repr__', '__setattr__', '__sizeof__', '__str__', '__subclasshook__', '_abc_impl', '_buffer', '_checkClosed', '_checkReadable', '_checkSeekable', '_checkWritable', '_check_can_read', '_check_can_seek', '_check_can_write', '_check_not_closed', '_init_write', '_write_gzip_header', 'close', 'closed', 'detach', 'filename', 'fileno', 'fileobj', 'flush', 'isatty', 'mode', 'mtime', 'myfileobj', 'name', 'peek', 'read', 'read1', 'readable', 'readinto', 'readinto1', 'readline', 'readlines', 'rewind', 'seek', 'seekable', 'tell', 'truncate', 'writable', 'write', 'writelines']\n",
      "False\n"
     ]
    }
   ],
   "source": [
    "gzfile = gzip.open('../data/crops.txt.gz' ,'r')\n",
    "print(type(gzfile))\n",
    "print(dir(gzfile))\n",
    "print(isinstance(gzfile, f.__class__))\n",
    "gzfile.close()"
   ]
  },
  {
   "cell_type": "markdown",
   "metadata": {},
   "source": [
    "You notice that this is a different type than a file we opened with `open` (that would be `f`), and this is not even inheritance relationship (we know this because `isinstace` returned `False`). \n",
    "\n",
    "But our function `filter_by_prefix` doesn't care about the type, all it wants is an **object that you can loop over with a `for`**: an iterable object that implements the `__iter__` method by either:\n",
    "\n",
    "- returning an iterator, which is an object that has a `next` method and stops iteration by raising a `StopIteration` exception, or \n",
    "- using the `yield` statement, which creates a generator.\n",
    "\n",
    "Indeed, `gzfile` implements `__iter__`:"
   ]
  },
  {
   "cell_type": "code",
   "execution_count": 93,
   "metadata": {},
   "outputs": [
    {
     "data": {
      "text/plain": [
       "True"
      ]
     },
     "execution_count": 93,
     "metadata": {},
     "output_type": "execute_result"
    }
   ],
   "source": [
    "hasattr(gzfile, '__iter__')"
   ]
  },
  {
   "cell_type": "markdown",
   "metadata": {},
   "source": [
    "So we can use it with our function:"
   ]
  },
  {
   "cell_type": "code",
   "execution_count": 94,
   "metadata": {},
   "outputs": [
    {
     "name": "stdout",
     "output_type": "stream",
     "text": [
      "['Amaranthus cruentus', 'Amaranthus spp.', 'Amaranthus viridis', 'Amomum subulatum', 'Amorphophallus konjac', 'Amorphophallus paeoniifolius']\n"
     ]
    }
   ],
   "source": [
    "with gzip.open('../data/crops.txt.gz', 'rt') as gzfile: # rt is for reading text\n",
    "    print(filter_by_prefix(gzfile, 'Am'))"
   ]
  },
  {
   "cell_type": "markdown",
   "metadata": {},
   "source": [
    "It doesn't even have to be a file. A list is just as good:"
   ]
  },
  {
   "cell_type": "code",
   "execution_count": 95,
   "metadata": {},
   "outputs": [
    {
     "name": "stdout",
     "output_type": "stream",
     "text": [
      "['America']\n"
     ]
    }
   ],
   "source": [
    "continents = ['America', 'Europe', 'Asia', 'Africa', 'Anarctica', 'Australia']\n",
    "print(filter_by_prefix(continents, 'Am'))"
   ]
  },
  {
   "cell_type": "markdown",
   "metadata": {},
   "source": [
    "# Bonus: Destructor\n",
    "\n",
    "Python uses a garbase collector, and the standard CPython implementation uses reference counting and deletes objects when there are no more references to them.\n",
    "\n",
    "You can remove references using the `del` command (see in [Python Tutor](http://pythontutor.com/visualize.html#code=a+%3D+%5B1,2,3%5D%0Adel+a&mode=display&origin=opt-frontend.js&cumulative=false&heapPrimitives=false&textReferences=false&py=3&rawInputLstJSON=%5B%5D&curInstr=2)):"
   ]
  },
  {
   "cell_type": "code",
   "execution_count": 96,
   "metadata": {},
   "outputs": [
    {
     "ename": "NameError",
     "evalue": "name 'a' is not defined",
     "output_type": "error",
     "traceback": [
      "\u001b[0;31m---------------------------------------------------------------------------\u001b[0m",
      "\u001b[0;31mNameError\u001b[0m                                 Traceback (most recent call last)",
      "\u001b[0;32m/var/folders/qn/3hj7mcx56k19b_09n6dymw8h0000gn/T/ipykernel_8018/2048180347.py\u001b[0m in \u001b[0;36m<module>\u001b[0;34m\u001b[0m\n\u001b[1;32m      1\u001b[0m \u001b[0ma\u001b[0m \u001b[0;34m=\u001b[0m \u001b[0;34m[\u001b[0m\u001b[0;36m1\u001b[0m\u001b[0;34m,\u001b[0m\u001b[0;36m2\u001b[0m\u001b[0;34m,\u001b[0m\u001b[0;36m3\u001b[0m\u001b[0;34m]\u001b[0m\u001b[0;34m\u001b[0m\u001b[0;34m\u001b[0m\u001b[0m\n\u001b[1;32m      2\u001b[0m \u001b[0;32mdel\u001b[0m \u001b[0ma\u001b[0m\u001b[0;34m\u001b[0m\u001b[0;34m\u001b[0m\u001b[0m\n\u001b[0;32m----> 3\u001b[0;31m \u001b[0ma\u001b[0m\u001b[0;34m\u001b[0m\u001b[0;34m\u001b[0m\u001b[0m\n\u001b[0m",
      "\u001b[0;31mNameError\u001b[0m: name 'a' is not defined"
     ]
    }
   ],
   "source": [
    "a = [1,2,3]\n",
    "del a\n",
    "a"
   ]
  },
  {
   "cell_type": "markdown",
   "metadata": {},
   "source": [
    "You can implement the [`__del__`](https://docs.python.org/3.5/reference/datamodel.html#object.__del__) method which is called when an instance is about to be destroyed. \n",
    "This is also called a **destructor**. \n",
    "Similar to `__init__`, if a base (parent) class has a `__del__` method then you must explicitly call it. \n",
    "It is not guaranteed that __del__() methods are called for objects that still exist when the interpreter exits."
   ]
  },
  {
   "cell_type": "code",
   "execution_count": 97,
   "metadata": {},
   "outputs": [],
   "source": [
    "class A:\n",
    "    def __init__(self, name):\n",
    "        self.name = name\n",
    "        print('Initialize')\n",
    "        \n",
    "    def __del__(self):\n",
    "        print('Delete')\n",
    "        \n",
    "    def __repr__(self):\n",
    "        return self.name"
   ]
  },
  {
   "cell_type": "code",
   "execution_count": 98,
   "metadata": {},
   "outputs": [
    {
     "name": "stdout",
     "output_type": "stream",
     "text": [
      "Initialize\n",
      "Alex\n"
     ]
    }
   ],
   "source": [
    "a = A('Alex')\n",
    "print(a)"
   ]
  },
  {
   "cell_type": "code",
   "execution_count": 99,
   "metadata": {},
   "outputs": [
    {
     "name": "stdout",
     "output_type": "stream",
     "text": [
      "Alex\n"
     ]
    }
   ],
   "source": [
    "b = a\n",
    "print(b)"
   ]
  },
  {
   "cell_type": "code",
   "execution_count": 100,
   "metadata": {},
   "outputs": [
    {
     "name": "stdout",
     "output_type": "stream",
     "text": [
      "Alex\n"
     ]
    }
   ],
   "source": [
    "del a\n",
    "print(b)"
   ]
  },
  {
   "cell_type": "code",
   "execution_count": 101,
   "metadata": {},
   "outputs": [
    {
     "name": "stdout",
     "output_type": "stream",
     "text": [
      "Delete\n"
     ]
    }
   ],
   "source": [
    "del b"
   ]
  },
  {
   "cell_type": "markdown",
   "metadata": {},
   "source": [
    "Note that several things can implicitly save a reference to your object, including the `_` variable name and stack traces."
   ]
  },
  {
   "cell_type": "markdown",
   "metadata": {},
   "source": [
    "# References\n",
    "\n",
    "- Python 3 [OOP tutorial](https://docs.python.org/3/tutorial/classes.html)\n",
    "- Leonardo Giordani's [OOP notebooks](http://nbviewer.jupyter.org/github/lgiordani/blog_source/blob/master/pelican/content/notebooks/Python_3_OOP_Part_3__Delegation__composition_and_inheritance.ipynb)\n",
    "- [ Fluent Python](http://shop.oreilly.com/product/0636920032519.do) by Luciano Ramalho is a great book for intermediate and advanced Python programmers.\n",
    "- [Python data model docs](https://docs.python.org/3.5/reference/datamodel.html)."
   ]
  },
  {
   "cell_type": "markdown",
   "metadata": {
    "toc-hr-collapsed": false
   },
   "source": [
    "# Solutions"
   ]
  },
  {
   "cell_type": "markdown",
   "metadata": {
    "toc-hr-collapsed": false
   },
   "source": [
    "## Solution: contains"
   ]
  },
  {
   "cell_type": "code",
   "execution_count": null,
   "metadata": {},
   "outputs": [],
   "source": [
    "class Rectangle1:\n",
    "   \n",
    "    def __init__(self, lower_left_vertex, upper_right_vertex):        \n",
    "        self.llv = Point(*lower_left_vertex)\n",
    "        self.urv = Point(*upper_right_vertex)\n",
    "        assert self.llv < self.urv, \"Lower left vertex should be lower than upper right vertex\"\n",
    "        \n",
    "    def __contains__(self, point):\n",
    "        return self.llv < point < self.urv"
   ]
  },
  {
   "cell_type": "markdown",
   "metadata": {},
   "source": [
    "## Solution: Rectangle2"
   ]
  },
  {
   "cell_type": "code",
   "execution_count": null,
   "metadata": {},
   "outputs": [],
   "source": [
    "class Rectangle2:\n",
    "    \"\"\"Describe a parallel-axes rectangle by storing lower left point, height and width.\n",
    "    \n",
    "    Attributes\n",
    "    ----------\n",
    "    point : Point\n",
    "        lower left point\n",
    "    width : float\n",
    "        width\n",
    "    height : float\n",
    "        height\n",
    "    \"\"\"    \n",
    "    def __init__(self, lower_left_vertex, width, height):        \n",
    "        self.llv = Point(*lower_left_vertex)\n",
    "        self._height = height\n",
    "        self._width = width\n",
    "                \n",
    "    def __str__(self):\n",
    "        return \"Rectangle with lower left {}, width {}, and height {}\".format(self.llv, self.width, self.height)\n",
    "\n",
    "    @property\n",
    "    def height(self):\n",
    "        return self._height\n",
    "      \n",
    "    @property\n",
    "    def width(self):\n",
    "        return self._width\n",
    "\n",
    "    @property\n",
    "    def area(self):\n",
    "        return self.height * self.width\n",
    "       \n",
    "    def transpose(self):\n",
    "        \"\"\"Reflection with regard to the line passing through lower left vertex with angle 315 (-45) degrees\n",
    "        \"\"\"\n",
    "        cls = type(self)\n",
    "        return cls(self.llv, self.height, self.width)"
   ]
  },
  {
   "cell_type": "markdown",
   "metadata": {},
   "source": [
    "## Solution: Revolving door"
   ]
  },
  {
   "cell_type": "code",
   "execution_count": null,
   "metadata": {},
   "outputs": [],
   "source": [
    "class RevolvingDoor(Door):\n",
    "    def open(self):\n",
    "        super().open()\n",
    "        super().close()\n",
    "\n",
    "rdoor = RevolvingDoor()\n",
    "rdoor.open()\n",
    "print(rdoor)"
   ]
  },
  {
   "cell_type": "code",
   "execution_count": null,
   "metadata": {},
   "outputs": [],
   "source": [
    "class RevolvingDoor:\n",
    "    def __init__(self):\n",
    "        self._door = Door(status=Door.CLOSED)\n",
    "\n",
    "    @property\n",
    "    def door(self):\n",
    "        return self._door\n",
    "\n",
    "    def __repr__(self):\n",
    "        return repr(self.door)\n",
    "    \n",
    "    def __getattr__(self, attr):\n",
    "        return getattr(self.door, attr)\n",
    "    \n",
    "    def open(self):\n",
    "        self.door.open()\n",
    "        self.door.close()\n",
    "\n",
    "rdoor = RevolvingDoor()\n",
    "rdoor.open()\n",
    "print(rdoor)"
   ]
  },
  {
   "cell_type": "markdown",
   "metadata": {},
   "source": [
    "## Colophon\n",
    "This notebook was written by [Yoav Ram](http://python.yoavram.com).\n",
    "\n",
    "The notebook was written using [Python](http://python.org/) 3.7.\n",
    "Dependencies listed in [environment.yml](../environment.yml).\n",
    "\n",
    "This work is licensed under a CC BY-NC-SA 4.0 International License.\n",
    "\n",
    "![Python logo](https://www.python.org/static/community_logos/python-logo.png)"
   ]
  }
 ],
 "metadata": {
  "kernelspec": {
   "display_name": "Python 3 (ipykernel)",
   "language": "python",
   "name": "python3"
  },
  "language_info": {
   "codemirror_mode": {
    "name": "ipython",
    "version": 3
   },
   "file_extension": ".py",
   "mimetype": "text/x-python",
   "name": "python",
   "nbconvert_exporter": "python",
   "pygments_lexer": "ipython3",
   "version": "3.9.2"
  }
 },
 "nbformat": 4,
 "nbformat_minor": 4
}
