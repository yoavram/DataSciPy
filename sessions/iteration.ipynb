{
 "cells": [
  {
   "cell_type": "markdown",
   "metadata": {},
   "source": [
    "![Py4Eng](img/logo.png)\n",
    "\n",
    "# __Iteration__"
   ]
  },
  {
   "cell_type": "markdown",
   "metadata": {},
   "source": [
    "Iteration is a huge deal in programming and especially in Python, where it is one of the biggest differences between Python 3 and Python 2, and between Python 3 and some other languages, like MATLAB. \n",
    "\n",
    "This is a challenging session, but we will start it off with a relatively simple subject and slowly increase the difficulty level.\n",
    "\n",
    "Some definitions before we begin:\n",
    "\n",
    "- _iterable_ - an object that you can iterate over, for example with a `for` loop.\n",
    "- _container_ - an object that contains other objects, you can use `in` on it.\n",
    "- _element, item_ - an object that is contained by a container or produced by iterating on an iterable.\n",
    "- _sequence_ - an ordered container.\n",
    "- _iterator_ - an object that provides an iteration over an iterable; one iterable can have several, independent, non-identical iterators.\n",
    "\n",
    "Note that not every container is iterable (i.e. [Bloom filter](https://en.wikipedia.org/wiki/Bloom_filter)) and not every iterable is a container (for example, an iterable that provides random numbers). So we can call the union of iterables and containers a **collection**.\n",
    "\n",
    "# Comprehensions\n",
    "\n",
    "Comprehensions are a compact way to process all or part of the elements in an iterable and return a new container.\n",
    "\n",
    "## List comprehensions\n",
    "\n",
    "Say we have a bunch of measurements in a list called `data` and we want to calculate the mean and the standard deviation.\n",
    "\n",
    "The usual way to do this is with `for` loops:"
   ]
  },
  {
   "cell_type": "code",
   "execution_count": 1,
   "metadata": {},
   "outputs": [
    {
     "name": "stdout",
     "output_type": "stream",
     "text": [
      "Mean: 5.375\n",
      "Standard deviation: 2.7810744326608736\n"
     ]
    }
   ],
   "source": [
    "data = [1, 7, 3, 6, 9, 2, 7, 8]\n",
    "\n",
    "mean = sum(data) / len(data)\n",
    "\n",
    "print('Mean:', mean)\n",
    "\n",
    "deviations = []\n",
    "for x in data:\n",
    "    deviations.append((x - mean)**2)\n",
    "    \n",
    "var = sum(deviations) / len(deviations)\n",
    "stdev = var**0.5\n",
    "\n",
    "print(\"Standard deviation:\", stdev)"
   ]
  },
  {
   "cell_type": "markdown",
   "metadata": {},
   "source": [
    "We can replace the `for` loop with a **list comprehension**:"
   ]
  },
  {
   "cell_type": "code",
   "execution_count": 2,
   "metadata": {},
   "outputs": [
    {
     "name": "stdout",
     "output_type": "stream",
     "text": [
      "Standard deviation: 2.7810744326608736\n"
     ]
    }
   ],
   "source": [
    "data = [1, 7, 3, 6, 9, 2, 7, 8]\n",
    "mean = sum(data) / len(data)\n",
    "\n",
    "# list comprehension:\n",
    "deviations = [ (x - mean)**2 for x in data ]\n",
    "\n",
    "var = sum(deviations) / len(deviations)\n",
    "stdev = var**0.5\n",
    "print(\"Standard deviation:\", stdev)"
   ]
  },
  {
   "cell_type": "markdown",
   "metadata": {},
   "source": [
    "We can add a condition, too. Say you want to calculate the deviations of above-average data:"
   ]
  },
  {
   "cell_type": "code",
   "execution_count": 3,
   "metadata": {},
   "outputs": [
    {
     "data": {
      "text/plain": [
       "[2.640625, 0.390625, 13.140625, 2.640625, 6.890625]"
      ]
     },
     "execution_count": 3,
     "metadata": {},
     "output_type": "execute_result"
    }
   ],
   "source": [
    "pos_devs = [(x - mean)**2 for x in data if x > mean]\n",
    "pos_devs"
   ]
  },
  {
   "cell_type": "markdown",
   "metadata": {},
   "source": [
    "Some more examples:"
   ]
  },
  {
   "cell_type": "code",
   "execution_count": 4,
   "metadata": {},
   "outputs": [
    {
     "name": "stdout",
     "output_type": "stream",
     "text": [
      "[0, 1, 4, 9, 16, 25, 36, 49, 64, 81]\n",
      "[0, 4, 16, 36, 64]\n"
     ]
    }
   ],
   "source": [
    "a = [i**2 for i in range(10)]\n",
    "print(a)\n",
    "b = [i**2 for i in range(10) if i%2==0]\n",
    "print(b)"
   ]
  },
  {
   "cell_type": "markdown",
   "metadata": {},
   "source": [
    "Some performence comparisons (see more details [here](https://wiki.python.org/moin/PythonSpeed/PerformanceTips#Loops)):"
   ]
  },
  {
   "cell_type": "code",
   "execution_count": 5,
   "metadata": {},
   "outputs": [],
   "source": [
    "data = [1, 7, 3, 6, 9, 2, 7, 8] * 10000 # make a big list"
   ]
  },
  {
   "cell_type": "code",
   "execution_count": 6,
   "metadata": {},
   "outputs": [
    {
     "name": "stdout",
     "output_type": "stream",
     "text": [
      "12.4 ms ± 335 µs per loop (mean ± std. dev. of 7 runs, 100 loops each)\n"
     ]
    }
   ],
   "source": [
    "%%timeit \n",
    "deviations = []\n",
    "for x in data:\n",
    "    deviations.append((x - mean)**2)"
   ]
  },
  {
   "cell_type": "code",
   "execution_count": 7,
   "metadata": {},
   "outputs": [
    {
     "name": "stdout",
     "output_type": "stream",
     "text": [
      "9.43 ms ± 144 µs per loop (mean ± std. dev. of 7 runs, 100 loops each)\n"
     ]
    }
   ],
   "source": [
    "%%timeit\n",
    "deviations = [(x - mean)**2 for x in data]"
   ]
  },
  {
   "cell_type": "markdown",
   "metadata": {},
   "source": [
    "So the list comprehension is ~33% faster.\n",
    "\n",
    "__Why??__\n",
    "\n",
    "First, local variables are faster."
   ]
  },
  {
   "cell_type": "code",
   "execution_count": 8,
   "metadata": {},
   "outputs": [],
   "source": [
    "def get_deviations(data, mean):\n",
    "    deviations = []\n",
    "    for x in data:\n",
    "        deviations.append((x - mean)**2)\n",
    "    return deviations"
   ]
  },
  {
   "cell_type": "code",
   "execution_count": 9,
   "metadata": {},
   "outputs": [
    {
     "name": "stdout",
     "output_type": "stream",
     "text": [
      "12.1 ms ± 1.23 ms per loop (mean ± std. dev. of 7 runs, 100 loops each)\n"
     ]
    }
   ],
   "source": [
    "%%timeit \n",
    "deviations = get_deviations(data, mean)"
   ]
  },
  {
   "cell_type": "markdown",
   "metadata": {},
   "source": [
    "Second, method lookup adds an overhead:"
   ]
  },
  {
   "cell_type": "code",
   "execution_count": 10,
   "metadata": {},
   "outputs": [],
   "source": [
    "def get_deviations2(data, mean):\n",
    "    deviations = []\n",
    "    append = deviations.append # cache the method to a variable\n",
    "    for x in data:\n",
    "        append((x - mean)**2)\n",
    "    return deviations"
   ]
  },
  {
   "cell_type": "code",
   "execution_count": 11,
   "metadata": {},
   "outputs": [
    {
     "name": "stdout",
     "output_type": "stream",
     "text": [
      "9.62 ms ± 197 µs per loop (mean ± std. dev. of 7 runs, 100 loops each)\n"
     ]
    }
   ],
   "source": [
    "%%timeit \n",
    "deviations = get_deviations2(data, mean) "
   ]
  },
  {
   "cell_type": "markdown",
   "metadata": {},
   "source": [
    "We get the same optimization as a list comprehension by using local vars and caching method lookups."
   ]
  },
  {
   "cell_type": "markdown",
   "metadata": {},
   "source": [
    "## Exercise: leap year\n",
    "\n",
    "Remember that a leap is is a year that is divisible by 400 or divisible by 4 but not by 100.\n",
    "\n",
    "Write a listcomp to build a list of all leap years until today. Print the length of the list."
   ]
  },
  {
   "cell_type": "code",
   "execution_count": null,
   "metadata": {},
   "outputs": [],
   "source": [
    "# your code here"
   ]
  },
  {
   "cell_type": "markdown",
   "metadata": {},
   "source": [
    "### Cartesian product\n",
    "\n",
    "We can insert several `for` statements in a single listcomp, producing all elements of a cartesian product.\n",
    "\n",
    "For example, consider how we construct a full pack of cards:"
   ]
  },
  {
   "cell_type": "code",
   "execution_count": 12,
   "metadata": {},
   "outputs": [
    {
     "name": "stdout",
     "output_type": "stream",
     "text": [
      "['2♠', '3♠', '4♠', '5♠', '6♠', '7♠', '8♠', '9♠', '10♠', 'J♠', 'Q♠', 'K♠', 'A♠', '2♣', '3♣', '4♣', '5♣', '6♣', '7♣', '8♣', '9♣', '10♣', 'J♣', 'Q♣', 'K♣', 'A♣', '2♥', '3♥', '4♥', '5♥', '6♥', '7♥', '8♥', '9♥', '10♥', 'J♥', 'Q♥', 'K♥', 'A♥', '2♦', '3♦', '4♦', '5♦', '6♦', '7♦', '8♦', '9♦', '10♦', 'J♦', 'Q♦', 'K♦', 'A♦']\n"
     ]
    }
   ],
   "source": [
    "suit = [\"♠\", \"♣\", \"♥\", \"♦\"] # equivalent code: [\"\\u2660\", \"\\u2666\", \"\\u2665\", \"\\u2663\"]\n",
    "rank = [str(i) for i in range(2, 11)]\n",
    "rank += ['J', 'Q', 'K', 'A']\n",
    "deck = [n+s for s in suit for n in rank]\n",
    "print(deck)"
   ]
  },
  {
   "cell_type": "markdown",
   "metadata": {},
   "source": [
    "## Dictionary comprehensions\n",
    "\n",
    "We can also use comprehensions to create dictionaries:"
   ]
  },
  {
   "cell_type": "code",
   "execution_count": 13,
   "metadata": {},
   "outputs": [
    {
     "data": {
      "text/plain": [
       "{1: 19.140625,\n",
       " 7: 2.640625,\n",
       " 3: 5.640625,\n",
       " 6: 0.390625,\n",
       " 9: 13.140625,\n",
       " 2: 11.390625,\n",
       " 8: 6.890625}"
      ]
     },
     "execution_count": 13,
     "metadata": {},
     "output_type": "execute_result"
    }
   ],
   "source": [
    "data_devs = {x: (x - mean)**2 for x in data}\n",
    "data_devs"
   ]
  },
  {
   "cell_type": "markdown",
   "metadata": {},
   "source": [
    "## Bonus: Set comprehensions"
   ]
  },
  {
   "cell_type": "code",
   "execution_count": 14,
   "metadata": {},
   "outputs": [
    {
     "name": "stdout",
     "output_type": "stream",
     "text": [
      "4766\n",
      "True\n",
      "True\n",
      "False\n",
      "False\n"
     ]
    }
   ],
   "source": [
    "with open('../data/Gulliver.txt') as f:\n",
    "    txt = f.read()\n",
    "unique_words = {w.lower() for w in txt.split() if w.isalpha()}\n",
    "\n",
    "print(len(unique_words))\n",
    "print('love' in unique_words)\n",
    "print('war' in unique_words)\n",
    "print('python' in unique_words)\n",
    "print('selfie' in unique_words)"
   ]
  },
  {
   "cell_type": "markdown",
   "metadata": {},
   "source": [
    "If the file is very big we could do it line by line and update the set (it's mutable):"
   ]
  },
  {
   "cell_type": "code",
   "execution_count": 15,
   "metadata": {},
   "outputs": [
    {
     "name": "stdout",
     "output_type": "stream",
     "text": [
      "4766\n",
      "True\n",
      "True\n",
      "False\n",
      "False\n"
     ]
    }
   ],
   "source": [
    "unique_words = set()\n",
    "with open('../data/Gulliver.txt') as f:    \n",
    "    for line in f:\n",
    "        line_unique_words = {w.lower() for w in line.split() if w.isalpha()}\n",
    "        unique_words.update(line_unique_words)\n",
    "\n",
    "print(len(unique_words))\n",
    "print('love' in unique_words)\n",
    "print('war' in unique_words)\n",
    "print('python' in unique_words)\n",
    "print('selfie' in unique_words)"
   ]
  },
  {
   "cell_type": "markdown",
   "metadata": {},
   "source": [
    "# Iterators\n",
    "\n",
    "From [Python docs](https://docs.python.org/3.5/library/stdtypes.html#iterator-types):\n",
    "\n",
    "> Python supports a concept of iteration over containers. This is implemented using two distinct methods; these are used to allow user-defined classes to support iteration. Sequences always support the iteration methods.\n",
    "\n",
    "- `__next__`: An iterator method, returns the next item from the iteration when the iterator is called with `next(...)`. If there are no more items this method should raise `StopIteration`.\n",
    "\n",
    "- `__iter__`: An iterable method, returns an iterator. If implemented in an iterator, it should return the iterator itself.\n",
    "\n",
    "Note that an iterable object cannot be its own iterator, because then two concurrent iterations will not be independent.\n",
    "\n",
    "The easiest way to implement iterators is using generators rather than defining new iterator objects, so that's our next topic."
   ]
  },
  {
   "cell_type": "markdown",
   "metadata": {},
   "source": [
    "# Generator expressions\n",
    "\n",
    "Generator expressions look similar to list comprehensions but really they return an iterator rather than a new collection.\n",
    "\n",
    "For example, if we are not interested in the deviations but only in their sum, we don't have to build the actual `list`, like the comprehension does, but rather we can use a generator, which produces each value as we need it, using **lazy evaluation**. \n",
    "\n",
    "Note the use of `()` instead of `[]`:"
   ]
  },
  {
   "cell_type": "code",
   "execution_count": 16,
   "metadata": {},
   "outputs": [
    {
     "name": "stdout",
     "output_type": "stream",
     "text": [
      "Standard deviation: 2.7810744326608736\n"
     ]
    }
   ],
   "source": [
    "deviations = ((x - mean)**2 for x in data)\n",
    "\n",
    "var = sum(deviations) / len(data)\n",
    "print(\"Standard deviation:\", var**0.5)"
   ]
  },
  {
   "cell_type": "code",
   "execution_count": 17,
   "metadata": {},
   "outputs": [
    {
     "data": {
      "text/plain": [
       "generator"
      ]
     },
     "execution_count": 17,
     "metadata": {},
     "output_type": "execute_result"
    }
   ],
   "source": [
    "type(deviations)"
   ]
  },
  {
   "cell_type": "markdown",
   "metadata": {},
   "source": [
    "Iterating over a generator can be done by calling `next`:"
   ]
  },
  {
   "cell_type": "code",
   "execution_count": 18,
   "metadata": {},
   "outputs": [
    {
     "data": {
      "text/plain": [
       "19.140625"
      ]
     },
     "execution_count": 18,
     "metadata": {},
     "output_type": "execute_result"
    }
   ],
   "source": [
    "deviations = ((x - mean)**2 for x in data)\n",
    "next(deviations)"
   ]
  },
  {
   "cell_type": "code",
   "execution_count": 19,
   "metadata": {},
   "outputs": [
    {
     "data": {
      "text/plain": [
       "2.640625"
      ]
     },
     "execution_count": 19,
     "metadata": {},
     "output_type": "execute_result"
    }
   ],
   "source": [
    "next(deviations)"
   ]
  },
  {
   "cell_type": "markdown",
   "metadata": {},
   "source": [
    "Next will fail with `StopIteration` when there are no more elements in the generator:"
   ]
  },
  {
   "cell_type": "code",
   "execution_count": 20,
   "metadata": {},
   "outputs": [
    {
     "data": {
      "text/plain": [
       "80000"
      ]
     },
     "execution_count": 20,
     "metadata": {},
     "output_type": "execute_result"
    }
   ],
   "source": [
    "len(data)"
   ]
  },
  {
   "cell_type": "code",
   "execution_count": 21,
   "metadata": {},
   "outputs": [
    {
     "data": {
      "text/plain": [
       "6.890625"
      ]
     },
     "execution_count": 21,
     "metadata": {},
     "output_type": "execute_result"
    }
   ],
   "source": [
    "next(deviations) # 3\n",
    "next(deviations) # 4\n",
    "next(deviations) # 5\n",
    "next(deviations) # 6\n",
    "next(deviations) # 7\n",
    "next(deviations) # 8"
   ]
  },
  {
   "cell_type": "code",
   "execution_count": 22,
   "metadata": {},
   "outputs": [
    {
     "data": {
      "text/plain": [
       "19.140625"
      ]
     },
     "execution_count": 22,
     "metadata": {},
     "output_type": "execute_result"
    }
   ],
   "source": [
    "next(deviations)"
   ]
  },
  {
   "cell_type": "markdown",
   "metadata": {},
   "source": [
    "When going over many elements, usually we don't need the list in the memory, just one number at a time. \n",
    "\n",
    "#### __This is where generators shine.__\n",
    "\n",
    "For example, the `range` function actually returns a generator, which can be converted into a list:"
   ]
  },
  {
   "cell_type": "code",
   "execution_count": 23,
   "metadata": {},
   "outputs": [
    {
     "data": {
      "text/plain": [
       "range(0, 10)"
      ]
     },
     "execution_count": 23,
     "metadata": {},
     "output_type": "execute_result"
    }
   ],
   "source": [
    "range(10)"
   ]
  },
  {
   "cell_type": "code",
   "execution_count": 24,
   "metadata": {},
   "outputs": [
    {
     "data": {
      "text/plain": [
       "[0, 1, 2, 3, 4, 5, 6, 7, 8, 9]"
      ]
     },
     "execution_count": 24,
     "metadata": {},
     "output_type": "execute_result"
    }
   ],
   "source": [
    "list(range(10))"
   ]
  },
  {
   "cell_type": "markdown",
   "metadata": {},
   "source": [
    "If we were to go over all the numbers from 0 to $10^8$, creating that list before the iteration is costly in space. \n",
    "\n",
    "A generator doesn't create the entire list in memory, but rather lazily creates each elements as it is needed.\n",
    "\n",
    "We load [ipython_memory_usage](https://github.com/ianozsvald/ipython_memory_usage), a package that monitors memory usage inside the notebook.\n",
    "\n",
    "Install from with `pip install ipython_memory_usage`, and on Windows (and also recommended on macOS) you will also need to `conda install psutil`."
   ]
  },
  {
   "cell_type": "code",
   "execution_count": 25,
   "metadata": {},
   "outputs": [
    {
     "name": "stdout",
     "output_type": "stream",
     "text": [
      "In [25] used 0.0000 MiB RAM in 0.18s, peaked 0.00 MiB above current, total RAM usage 67.04 MiB\n"
     ]
    }
   ],
   "source": [
    "import ipython_memory_usage.ipython_memory_usage as imu\n",
    "imu.start_watching_memory()"
   ]
  },
  {
   "cell_type": "code",
   "execution_count": 26,
   "metadata": {
    "scrolled": true
   },
   "outputs": [
    {
     "name": "stdout",
     "output_type": "stream",
     "text": [
      "In [26] used 3355.8945 MiB RAM in 3.08s, peaked 0.00 MiB above current, total RAM usage 3422.93 MiB\n"
     ]
    }
   ],
   "source": [
    "lst = list(range(10**8))"
   ]
  },
  {
   "cell_type": "code",
   "execution_count": 27,
   "metadata": {},
   "outputs": [
    {
     "name": "stdout",
     "output_type": "stream",
     "text": [
      "In [27] used -19.2969 MiB RAM in 0.17s, peaked 0.00 MiB above current, total RAM usage 3403.64 MiB\n"
     ]
    }
   ],
   "source": [
    "rng = range(10**7)"
   ]
  },
  {
   "cell_type": "code",
   "execution_count": 28,
   "metadata": {},
   "outputs": [],
   "source": [
    "del lst\n",
    "imu.stop_watching_memory()"
   ]
  },
  {
   "cell_type": "markdown",
   "metadata": {},
   "source": [
    "![Task manager](https://raw.github.com/yoavram/CS1001.py/master/list_vs_generator.png)"
   ]
  },
  {
   "cell_type": "markdown",
   "metadata": {},
   "source": [
    "Another example:"
   ]
  },
  {
   "cell_type": "code",
   "execution_count": 29,
   "metadata": {},
   "outputs": [
    {
     "name": "stdout",
     "output_type": "stream",
     "text": [
      "67.6 ms ± 4.55 ms per loop (mean ± std. dev. of 7 runs, 3 loops each)\n"
     ]
    }
   ],
   "source": [
    "%timeit -n 3 [x for x in range(1, 10**6) if x % 2 == 0]"
   ]
  },
  {
   "cell_type": "code",
   "execution_count": 30,
   "metadata": {},
   "outputs": [
    {
     "name": "stdout",
     "output_type": "stream",
     "text": [
      "550 ns ± 185 ns per loop (mean ± std. dev. of 7 runs, 3 loops each)\n"
     ]
    }
   ],
   "source": [
    "%timeit -n 3 (x for x in range(1, 10**8) if x % 2 == 0)"
   ]
  },
  {
   "cell_type": "code",
   "execution_count": 31,
   "metadata": {},
   "outputs": [
    {
     "name": "stdout",
     "output_type": "stream",
     "text": [
      "76.8 ms ± 2.43 ms per loop (mean ± std. dev. of 7 runs, 3 loops each)\n"
     ]
    }
   ],
   "source": [
    "%timeit -n 3 list(x for x in range(1, 10**6) if x % 2 == 0)"
   ]
  },
  {
   "cell_type": "markdown",
   "metadata": {},
   "source": [
    "## Exercise: secret\n",
    "\n",
    "\n",
    "Given in the code below is a dictionary (named `code`) where the keys represent encrypted characters and the values are the corresponding decrypted characters. \n",
    "\n",
    "Use the dictionary to decrypt an ecnrypted message (named `secret`) and print out the resulting cleartext message.\n",
    "\n",
    "* Use a generator expression to decrypt the secret message using the code dictionary. \n",
    "* Make sure you aren't creating any lists in intermediate steps. \n",
    "* Experiment with newlines inside `( )` to improve readability."
   ]
  },
  {
   "cell_type": "code",
   "execution_count": null,
   "metadata": {},
   "outputs": [],
   "source": [
    "secret = \"\"\"Mq osakk le eh ue usq qhp, mq osakk xzlsu zh Xcahgq,\n",
    "mq osakk xzlsu eh usq oqao ahp egqaho,\n",
    "mq osakk xzlsu mzus lcemzhl gehxzpqhgq ahp lcemzhl oucqhlus zh usq azc, mq osakk pqxqhp ebc Zokahp, msauqjqc usq geou dat rq,\n",
    "mq osakk xzlsu eh usq rqagsqo,\n",
    "mq osakk xzlsu eh usq kahpzhl lcebhpo,\n",
    "mq osakk xzlsu zh usq xzqkpo ahp zh usq oucqquo,\n",
    "mq osakk xzlsu zh usq szkko;\n",
    "mq osakk hqjqc obccqhpqc, ahp qjqh zx, mszgs Z pe heu xec a dedqhu rqkzqjq, uszo Zokahp ec a kaclq iacu ex zu mqcq obrfblauqp ahp ouacjzhl, usqh ebc Qdizcq rqtehp usq oqao, acdqp ahp lbacpqp rt usq Rczuzos Xkqqu, mebkp gacct eh usq oucbllkq, bhuzk, zh Lep’o leep uzdq, usq Hqm Meckp, mzus akk zuo iemqc ahp dzlsu, ouqio xecus ue usq cqogbq ahp usq kzrqcauzeh ex usq ekp.\"\"\"\n",
    "\n",
    "code = {'w': 'x', 'L': 'G', 'c': 'r', 'x': 'f', 'G': 'C', 'E': 'O', 'h': 'n', 'O': 'S', 'y': 'q', 'R': 'B', 'd': 'm', 'f': 'j', 'i': 'p', 'o': 's', 'g': 'c', 'a': 'a', 'u': 't', 'k': 'l', 'q': 'e', 'r': 'b', 'V': 'Z', 'X': 'F', 'N': 'K', 'B': 'U', 'T': 'Y', 'M': 'W', 'U': 'T', 'm': 'w', 'C': 'R', 'J': 'V', 't': 'y', 'S': 'H', 'v': 'z', 'e': 'o', 'D': 'M', 'p': 'd', 'K': 'L', 'A': 'A', 'P': 'D', 'l': 'g', 's': 'h', 'W': 'X', 'H': 'N', 'j': 'v', 'z': 'i', 'I': 'P', 'b': 'u', 'Z': 'I', 'F': 'J', 'Y': 'Q', 'Q': 'E', 'n': 'k'}\n",
    "\n"
   ]
  },
  {
   "cell_type": "markdown",
   "metadata": {},
   "source": [
    "## Can I iterate on it?\n",
    "\n",
    "A generator expression creates a new generator object which implements the iterator protocol, and will be an instance of `collections.Iterator`.\n",
    "\n",
    "However, the best way to check if something is iterable is to try to get an iterator from it and catch the `TypeError` if it can't be iterated:"
   ]
  },
  {
   "cell_type": "code",
   "execution_count": 32,
   "metadata": {},
   "outputs": [
    {
     "ename": "TypeError",
     "evalue": "'int' object is not iterable",
     "output_type": "error",
     "traceback": [
      "\u001b[0;31m---------------------------------------------------------------------------\u001b[0m",
      "\u001b[0;31mTypeError\u001b[0m                                 Traceback (most recent call last)",
      "\u001b[0;32m/var/folders/qn/3hj7mcx56k19b_09n6dymw8h0000gn/T/ipykernel_7953/2044503695.py\u001b[0m in \u001b[0;36m<module>\u001b[0;34m\u001b[0m\n\u001b[1;32m      3\u001b[0m \u001b[0miter\u001b[0m\u001b[0;34m(\u001b[0m\u001b[0mx\u001b[0m\u001b[0;34m**\u001b[0m\u001b[0;36m2\u001b[0m \u001b[0;32mfor\u001b[0m \u001b[0mx\u001b[0m \u001b[0;32min\u001b[0m \u001b[0mrange\u001b[0m\u001b[0;34m(\u001b[0m\u001b[0;36m10\u001b[0m\u001b[0;34m)\u001b[0m\u001b[0;34m)\u001b[0m\u001b[0;34m\u001b[0m\u001b[0;34m\u001b[0m\u001b[0m\n\u001b[1;32m      4\u001b[0m \u001b[0;34m\u001b[0m\u001b[0m\n\u001b[0;32m----> 5\u001b[0;31m \u001b[0miter\u001b[0m\u001b[0;34m(\u001b[0m\u001b[0;36m5\u001b[0m\u001b[0;34m)\u001b[0m\u001b[0;34m\u001b[0m\u001b[0;34m\u001b[0m\u001b[0m\n\u001b[0m",
      "\u001b[0;31mTypeError\u001b[0m: 'int' object is not iterable"
     ]
    }
   ],
   "source": [
    "iter(range(10))\n",
    "\n",
    "iter(x**2 for x in range(10))\n",
    "\n",
    "iter(5)"
   ]
  },
  {
   "cell_type": "markdown",
   "metadata": {},
   "source": [
    "But we can also check if something is an instance of `collections.Iterable` (this is a _peak before you leap_ approach):"
   ]
  },
  {
   "cell_type": "code",
   "execution_count": 33,
   "metadata": {},
   "outputs": [],
   "source": [
    "from collections.abc import Iterable"
   ]
  },
  {
   "cell_type": "code",
   "execution_count": 34,
   "metadata": {},
   "outputs": [
    {
     "name": "stdout",
     "output_type": "stream",
     "text": [
      "True\n",
      "True\n",
      "True\n",
      "False\n"
     ]
    }
   ],
   "source": [
    "print(isinstance(range(10), Iterable))\n",
    "\n",
    "print(isinstance((x**2 for x in range(10)), Iterable))\n",
    "\n",
    "print(isinstance([1,2,'a'], Iterable))\n",
    "\n",
    "print(isinstance(5, Iterable))"
   ]
  },
  {
   "cell_type": "markdown",
   "metadata": {},
   "source": [
    "# Bonus: Generator functions\n",
    "\n",
    "We can write more complex generators using functions in which the `yield` statement replaces the `return` statement. \n",
    "\n",
    "These are **generator functions**, which are special because:\n",
    "- When calling these functions, we don't get a return value but rather a generator object which implements the iterator protocol\n",
    "- Generator functions can be thought of as function that yield a value, suspend, and can then be resumed when further values or further action is required\n",
    "\n",
    "Generator functions can provide very flexible iterations, including potentially infinite ones, and can be used for other stuff like creating context managers.\n",
    "\n",
    "## Infinite iteration\n",
    "\n",
    "Say we want to go over all the natural numbers to find a number that matches some condition.\n",
    "\n",
    "We write a generator for the natural numbers, which is kind of a non-limit `range` (note that this can be done using `itertools.count` from the standard library):"
   ]
  },
  {
   "cell_type": "code",
   "execution_count": 36,
   "metadata": {},
   "outputs": [
    {
     "name": "stdout",
     "output_type": "stream",
     "text": [
      "<generator object natural_numbers at 0x10b4c2ba0>\n"
     ]
    }
   ],
   "source": [
    "def natural_numbers():\n",
    "    n = 0\n",
    "    while True:\n",
    "        n += 1\n",
    "        yield n\n",
    "\n",
    "gen = natural_numbers()\n",
    "print(gen)"
   ]
  },
  {
   "cell_type": "code",
   "execution_count": 37,
   "metadata": {},
   "outputs": [
    {
     "data": {
      "text/plain": [
       "(True, True, True)"
      ]
     },
     "execution_count": 37,
     "metadata": {},
     "output_type": "execute_result"
    }
   ],
   "source": [
    "from collections.abc import Iterator\n",
    "hasattr(gen, '__iter__'), hasattr(gen, '__next__'), isinstance(gen, Iterator)"
   ]
  },
  {
   "cell_type": "markdown",
   "metadata": {},
   "source": [
    "We can consume values from the generator one by one using the `next` function:"
   ]
  },
  {
   "cell_type": "code",
   "execution_count": 38,
   "metadata": {},
   "outputs": [
    {
     "name": "stdout",
     "output_type": "stream",
     "text": [
      "1\n",
      "2\n",
      "3\n",
      "4\n"
     ]
    }
   ],
   "source": [
    "print(next(gen))\n",
    "print(next(gen))\n",
    "print(next(gen))\n",
    "print(next(gen))"
   ]
  },
  {
   "cell_type": "markdown",
   "metadata": {},
   "source": [
    " or by giving it to a `for` loop"
   ]
  },
  {
   "cell_type": "code",
   "execution_count": 39,
   "metadata": {},
   "outputs": [
    {
     "name": "stdout",
     "output_type": "stream",
     "text": [
      "510922\n"
     ]
    }
   ],
   "source": [
    "for n in natural_numbers():\n",
    "    if n % 667 == 0 and n**2 % 766 == 0:\n",
    "        break\n",
    "print(n)"
   ]
  },
  {
   "cell_type": "markdown",
   "metadata": {},
   "source": [
    "Of course, this can only be done using a generator - we cannot create a list of all natural numbers...\n",
    "\n",
    "Let's do another small example to understand how a generator works:"
   ]
  },
  {
   "cell_type": "code",
   "execution_count": 40,
   "metadata": {},
   "outputs": [
    {
     "name": "stdout",
     "output_type": "stream",
     "text": [
      "Start.\n",
      "Next.\n",
      "0\n",
      "Next.\n",
      "1\n",
      "Next.\n",
      "2\n",
      "Done.\n"
     ]
    }
   ],
   "source": [
    "def example_generator():\n",
    "    print(\"Start.\")\n",
    "    for x in range(3):\n",
    "        print(\"Next.\")\n",
    "        yield x\n",
    "    print(\"Done.\")\n",
    "    \n",
    "for x in example_generator():\n",
    "    print(x)"
   ]
  },
  {
   "cell_type": "markdown",
   "metadata": {},
   "source": [
    "## Exercise: factors\n",
    "\n",
    "Write a generator function that yields the factors of a given number `n`, starting from the smallest factor."
   ]
  },
  {
   "cell_type": "code",
   "execution_count": 42,
   "metadata": {},
   "outputs": [],
   "source": [
    "def factors(n):\n",
    "    # your code here"
   ]
  },
  {
   "cell_type": "markdown",
   "metadata": {},
   "source": [
    "The following code prints the factors of a large numbers without ever actually holding the list of factors."
   ]
  },
  {
   "cell_type": "code",
   "execution_count": 43,
   "metadata": {},
   "outputs": [
    {
     "name": "stdout",
     "output_type": "stream",
     "text": [
      "22324383 = 3 * 3 * 3 * 17 * 17 * 2861 \n"
     ]
    }
   ],
   "source": [
    "n = 22324383\n",
    "print(n, end= ' = ')\n",
    "for k in factors(n):\n",
    "    print(k, end=' * ')\n",
    "print('\\b\\b') # remove the final '* '"
   ]
  },
  {
   "cell_type": "markdown",
   "metadata": {},
   "source": [
    "## Exercise: Fibonacci\n",
    "\n",
    "Create a generator that returns numbers from the Fibonacci series, defined by:\n",
    "\n",
    "$$\n",
    "a_0 = 0 \\\\\n",
    "a_1 = 1 \\\\\n",
    "a_n = a_{n-2} + a_{n-1}\n",
    "$$"
   ]
  },
  {
   "cell_type": "code",
   "execution_count": 44,
   "metadata": {},
   "outputs": [],
   "source": [
    "def fibonacci():\n",
    "    # your code here"
   ]
  },
  {
   "cell_type": "code",
   "execution_count": 45,
   "metadata": {},
   "outputs": [
    {
     "name": "stdout",
     "output_type": "stream",
     "text": [
      "0 1 1 2 3 5 8 13 21 34 55 89 144 233 377 610 987 1597 "
     ]
    }
   ],
   "source": [
    "for n in fibonacci():\n",
    "    print(n, end=' ')\n",
    "    if n > 1000: break"
   ]
  },
  {
   "cell_type": "markdown",
   "metadata": {},
   "source": [
    "## Generators as context manager\n",
    "\n",
    "A \"real\" context manager does two things: \n",
    "* sets something up when you enter the context, maybe providing some return value\n",
    "* tears something down when you exit the context. \n",
    "\n",
    "The most common case is:\n",
    "\n",
    "```python\n",
    "with open(filename) as f:\n",
    "    # do something with file f\n",
    "```\n",
    "in which `open` creates a file-like object that implements the context manager interface: on entering the context it opens the file and returns itself (the file-like object); when exiting the context it closes the file.\n",
    "\n",
    "A generator is great for that because use the `yield` statement to return a value and suspend the generator, thus the code until the `yield` implements \"entering\" the context; the code after the `yield` implements \"exiting\" the context, and Python can call `next` once when entering and again when exiting.\n",
    "\n",
    "Let's do an example - we'll write a `tictoc` context manager that measures and prints how much time we were inside the context (similar to MATLAB's `tic; toc;` idiom)."
   ]
  },
  {
   "cell_type": "code",
   "execution_count": 46,
   "metadata": {},
   "outputs": [],
   "source": [
    "import time\n",
    "import contextlib"
   ]
  },
  {
   "cell_type": "code",
   "execution_count": 47,
   "metadata": {},
   "outputs": [],
   "source": [
    "def tictoc():\n",
    "    tic = time.time()\n",
    "    yield\n",
    "    toc = time.time()\n",
    "    print(\"Elapsed time: {} seconds\".format(toc - tic))\n",
    "\n",
    "tictoc = contextlib.contextmanager(tictoc)"
   ]
  },
  {
   "cell_type": "code",
   "execution_count": 48,
   "metadata": {},
   "outputs": [
    {
     "name": "stdout",
     "output_type": "stream",
     "text": [
      "Elapsed time: 0.22798395156860352 seconds\n"
     ]
    }
   ],
   "source": [
    "with tictoc():\n",
    "    list(factors(231232221))"
   ]
  },
  {
   "cell_type": "markdown",
   "metadata": {},
   "source": [
    "Note that to tell Python that `tictoc` should be used as a context manager we need to apply the `contextmanager` decorator.\n",
    "\n",
    "`contextmanager` wraps `tictoc` with some neccesary boilerplate to convert it from a generator function to a context manager factory.\n",
    "\n",
    "A nicer, equivalent way to do this is:"
   ]
  },
  {
   "cell_type": "code",
   "execution_count": 49,
   "metadata": {},
   "outputs": [
    {
     "name": "stdout",
     "output_type": "stream",
     "text": [
      "Elapsed time: 0.21747374534606934 seconds\n"
     ]
    }
   ],
   "source": [
    "@contextlib.contextmanager\n",
    "def tictoc():\n",
    "    tic = time.time()\n",
    "    yield\n",
    "    toc = time.time()\n",
    "    print(\"Elapsed time: {} seconds\".format(toc - tic))\n",
    "\n",
    "with tictoc():\n",
    "    list(factors(231232221))"
   ]
  },
  {
   "cell_type": "markdown",
   "metadata": {},
   "source": [
    "## Bonus: Pass values into generators\n",
    "\n",
    "We said that generators are functions that can yield a value, suspend, and then be resumed by calling `next` - which can be done outside of an iteration context (`for` loop). Calling `next` on a generator object will give the next result of the generator (run generator to next `yield` statement):"
   ]
  },
  {
   "cell_type": "code",
   "execution_count": 50,
   "metadata": {},
   "outputs": [
    {
     "data": {
      "text/plain": [
       "(1, 2, 3, 4)"
      ]
     },
     "execution_count": 50,
     "metadata": {},
     "output_type": "execute_result"
    }
   ],
   "source": [
    "naturals = natural_numbers()\n",
    "next(naturals), next(naturals), next(naturals), next(naturals)"
   ]
  },
  {
   "cell_type": "markdown",
   "metadata": {},
   "source": [
    "If we can resume the generator, why not resume it with some value?\n",
    "\n",
    "`send` allows us to **pass values into generators**. For example, say we want to iterate over the natural numbers but make a jump from one value to the next, and these jumps are not constant (can't be arguments of the generator function):"
   ]
  },
  {
   "cell_type": "code",
   "execution_count": 51,
   "metadata": {},
   "outputs": [],
   "source": [
    "def jumping_natural_numbers():\n",
    "    n = 0\n",
    "    while True:\n",
    "        jump = yield n \n",
    "        if jump is None:\n",
    "            print('hi')\n",
    "            jump = 1\n",
    "        n += jump"
   ]
  },
  {
   "cell_type": "code",
   "execution_count": 52,
   "metadata": {},
   "outputs": [
    {
     "data": {
      "text/plain": [
       "(0, 3, 4)"
      ]
     },
     "execution_count": 52,
     "metadata": {},
     "output_type": "execute_result"
    }
   ],
   "source": [
    "gen = jumping_natural_numbers()\n",
    "gen.send(None), gen.send(3), gen.send(1)"
   ]
  },
  {
   "cell_type": "markdown",
   "metadata": {},
   "source": [
    "## Example: running average\n",
    "\n",
    "A more whole example is given by the following generator that calculates a running average of a stream of numbers fed to it. \n",
    "\n",
    "It does so by keeping just three numbers - the sum, the count (number of numbers), and the average.\n",
    "\n",
    "Each time a new number is sent, it yields the updated average and then waits for another number to be sent.\n",
    "\n",
    "This is much more effcient in terms of space then actually keeping all the numbers; also, it's great for cases in which we actually have a stream of numbers."
   ]
  },
  {
   "cell_type": "code",
   "execution_count": 53,
   "metadata": {},
   "outputs": [],
   "source": [
    "def running_average():\n",
    "    summ = 0\n",
    "    count = 0\n",
    "    avg = 0\n",
    "    \n",
    "    while True:\n",
    "        n = yield avg\n",
    "        count += 1\n",
    "        summ += n\n",
    "        avg = summ / count"
   ]
  },
  {
   "cell_type": "code",
   "execution_count": 54,
   "metadata": {},
   "outputs": [
    {
     "name": "stdout",
     "output_type": "stream",
     "text": [
      "8: 8.0000\n",
      "7: 7.5000\n",
      "8: 7.6667\n",
      "9: 8.0000\n",
      "4: 7.2000\n",
      "8: 7.3333\n",
      "9: 7.5714\n",
      "8: 7.6250\n",
      "2: 7.0000\n",
      "5: 6.8000\n"
     ]
    }
   ],
   "source": [
    "import random\n",
    "\n",
    "avg = running_average()\n",
    "avg.send(None) # initialize the generator by sending None or by next(avg)\n",
    "\n",
    "# mimick a stream of random integers between 0 and 9, inclusive\n",
    "random_stream = (random.randint(0, 9) for _ in range(10))\n",
    "for n in random_stream:\n",
    "    current_avg = avg.send(n)\n",
    "    print('{:d}: {:.4f}'.format(n, current_avg))"
   ]
  },
  {
   "cell_type": "markdown",
   "metadata": {},
   "source": [
    "See more at Jeff Knupp's [blog](http://www.jeffknupp.com/blog/2013/04/07/improve-your-python-yield-and-generators-explained/)."
   ]
  },
  {
   "cell_type": "markdown",
   "metadata": {},
   "source": [
    "## Exercise: have seen\n",
    "\n",
    "Write a generator `have_seen` that accepts a string via `send` and yields a boolean in response.\n",
    "\n",
    "The function will yield `True` if the input string was already seen by the function, and `False` otherwise. The function should be case insensitive.\n",
    "\n",
    "Use it to find all the words that appear more than once in the following text (the first paragraph from [Gulliver's Travels](https://ia801404.us.archive.org/2/items/gulliverstravels17157gut/17157.txt)).\n",
    "\n",
    "This exercise follows [Readable Python coroutines](http://takluyver.github.io/posts/readable-python-coroutines.html) by Thomas Kluyver. See solution in [have_seen.py](../solutions/have_seen.py)."
   ]
  },
  {
   "cell_type": "code",
   "execution_count": null,
   "metadata": {
    "collapsed": true,
    "jupyter": {
     "outputs_hidden": true
    }
   },
   "outputs": [],
   "source": [
    "def have_seen():\n",
    "    pass"
   ]
  },
  {
   "cell_type": "code",
   "execution_count": null,
   "metadata": {},
   "outputs": [],
   "source": [
    "text = \"\"\"My father had a small estate in Nottinghamshire; I was the third of five\n",
    "sons. He sent me to Emmanuel College in Cambridge at fourteen years old,\n",
    "where I resided three years, and applied myself close to my studies;\n",
    "but the charge of maintaining me, although I had a very scanty\n",
    "allowance, being too great for a narrow fortune, I was bound apprentice\n",
    "to Mr. James Bates, an eminent surgeon in London, with whom I continued\n",
    "four years; and my father now and then sending me small sums of money, I\n",
    "laid them out in learning navigation, and other parts of the mathematics\n",
    "useful to those who intend to travel, as I always believed it would be,\n",
    "some time or other, my fortune to do. When I left Mr. Bates, I went down\n",
    "to my father, where, by the assistance of him, and my uncle John and\n",
    "some other relations, I got forty pounds, and a promise of thirty\n",
    "pounds a year, to maintain me at Leyden. There I studied physic two\n",
    "years and seven months, knowing it would be useful in long voyages.\"\"\"\n",
    "text = text.lower().split()\n"
   ]
  },
  {
   "cell_type": "markdown",
   "metadata": {},
   "source": [
    "# Functional programming\n",
    "\n",
    "## Map\n",
    "\n",
    "A map applies a function on all elements of an iterable."
   ]
  },
  {
   "cell_type": "code",
   "execution_count": 55,
   "metadata": {},
   "outputs": [
    {
     "data": {
      "text/plain": [
       "<generator object <genexpr> at 0x1ccf74c10>"
      ]
     },
     "execution_count": 55,
     "metadata": {},
     "output_type": "execute_result"
    }
   ],
   "source": [
    "poets = [\n",
    "    'Shel Silverstein', \n",
    "    'Pablo Neruda', \n",
    "    'Maya Angelou',\n",
    "    'Edgar Allan Poe',\n",
    "    'Robert Frost',\n",
    "    'Emily Dickinson',\n",
    "    'Walt Whitman'\n",
    "]\n",
    "\n",
    "first_names = (name.partition(' ')[0] for name in poets)\n",
    "first_names"
   ]
  },
  {
   "cell_type": "code",
   "execution_count": 56,
   "metadata": {},
   "outputs": [
    {
     "name": "stdout",
     "output_type": "stream",
     "text": [
      "Shel\n",
      "Pablo\n",
      "Maya\n",
      "Edgar\n",
      "Robert\n",
      "Emily\n",
      "Walt\n"
     ]
    }
   ],
   "source": [
    "for n in first_names:\n",
    "    print(n)"
   ]
  },
  {
   "cell_type": "markdown",
   "metadata": {},
   "source": [
    "There's a dedicated `map` function in Python that works very similary, but requires an explicit function defined."
   ]
  },
  {
   "cell_type": "code",
   "execution_count": 57,
   "metadata": {},
   "outputs": [
    {
     "data": {
      "text/plain": [
       "<map at 0x1ccf78c40>"
      ]
     },
     "execution_count": 57,
     "metadata": {},
     "output_type": "execute_result"
    }
   ],
   "source": [
    "def get_first_name(name):\n",
    "    return name.partition(' ')[0]\n",
    "first_names = map(get_first_name, poets)\n",
    "first_names"
   ]
  },
  {
   "cell_type": "code",
   "execution_count": 58,
   "metadata": {},
   "outputs": [
    {
     "data": {
      "text/plain": [
       "['Shel', 'Pablo', 'Maya', 'Edgar', 'Robert', 'Emily', 'Walt']"
      ]
     },
     "execution_count": 58,
     "metadata": {},
     "output_type": "execute_result"
    }
   ],
   "source": [
    "list(first_names)"
   ]
  },
  {
   "cell_type": "markdown",
   "metadata": {},
   "source": [
    "## Filter\n",
    "\n",
    "A filter iterates over the elements in an iterable that pass a certain test ore predicate."
   ]
  },
  {
   "cell_type": "code",
   "execution_count": 59,
   "metadata": {},
   "outputs": [
    {
     "name": "stdout",
     "output_type": "stream",
     "text": [
      "2, 4, 6, 8, 10, 12, 14, 16, 18, 20, "
     ]
    }
   ],
   "source": [
    "def is_even(n):\n",
    "    return n % 2 == 0\n",
    "\n",
    "evens = (n for n in natural_numbers() if is_even(n))\n",
    "for n in evens:\n",
    "    print(n, end=\", \")\n",
    "    if n >= 20: \n",
    "        break"
   ]
  },
  {
   "cell_type": "markdown",
   "metadata": {},
   "source": [
    "Again, Python also has a dedicated `filter` function."
   ]
  },
  {
   "cell_type": "code",
   "execution_count": 60,
   "metadata": {},
   "outputs": [
    {
     "name": "stdout",
     "output_type": "stream",
     "text": [
      "<filter object at 0x1ccf78dc0>\n",
      "2, 4, 6, 8, 10, 12, 14, 16, 18, 20, "
     ]
    }
   ],
   "source": [
    "def is_even(n):\n",
    "    return n % 2 == 0\n",
    "\n",
    "evens = filter(is_even, natural_numbers())\n",
    "print(evens)\n",
    "for n in evens:\n",
    "    print(n, end=\", \")\n",
    "    if n >= 20: \n",
    "        break"
   ]
  },
  {
   "cell_type": "markdown",
   "metadata": {},
   "source": [
    "## Reduce\n",
    "\n",
    "`reduce` applies a function of two arguments ($f:R^2 \\to R$) cumulatively to the items of a sequence,\n",
    "from left to right, so as to reduce the sequence to a single value.\n",
    "\n",
    "`reduce` is part of the `functools` module"
   ]
  },
  {
   "cell_type": "code",
   "execution_count": 61,
   "metadata": {},
   "outputs": [],
   "source": [
    "from functools import reduce\n",
    "import operator"
   ]
  },
  {
   "cell_type": "markdown",
   "metadata": {},
   "source": [
    "The easiest example is a replacement for `sum`:"
   ]
  },
  {
   "cell_type": "code",
   "execution_count": 62,
   "metadata": {},
   "outputs": [
    {
     "data": {
      "text/plain": [
       "45"
      ]
     },
     "execution_count": 62,
     "metadata": {},
     "output_type": "execute_result"
    }
   ],
   "source": [
    "reduce(operator.add, range(10))"
   ]
  },
  {
   "cell_type": "markdown",
   "metadata": {},
   "source": [
    "What about coding a product equivalent of `sum`?"
   ]
  },
  {
   "cell_type": "code",
   "execution_count": 63,
   "metadata": {},
   "outputs": [
    {
     "data": {
      "text/plain": [
       "362880"
      ]
     },
     "execution_count": 63,
     "metadata": {},
     "output_type": "execute_result"
    }
   ],
   "source": [
    "reduce(operator.mul, range(1, 10))"
   ]
  },
  {
   "cell_type": "markdown",
   "metadata": {},
   "source": [
    "Another example: find intersection of several lists."
   ]
  },
  {
   "cell_type": "code",
   "execution_count": 64,
   "metadata": {},
   "outputs": [
    {
     "data": {
      "text/plain": [
       "{3, 4, 5}"
      ]
     },
     "execution_count": 64,
     "metadata": {},
     "output_type": "execute_result"
    }
   ],
   "source": [
    "lists = [[1, 2, 3, 4, 5], [2, 3, 4, 5, 6], [3, 4, 5, 6, 7]]\n",
    "\n",
    "reduce(set.intersection, (set(x) for x in lists))"
   ]
  },
  {
   "cell_type": "markdown",
   "metadata": {},
   "source": [
    "## Bonus example\n",
    "\n",
    "Calculating the Fibonacci series up to the n-th element can also be done with `reduce`. Here we can set the initial seed to be different from the first element of the sequence, and we ignore the values from the input sequence as we always assign the \"right\" value to `_`:"
   ]
  },
  {
   "cell_type": "code",
   "execution_count": 65,
   "metadata": {},
   "outputs": [
    {
     "data": {
      "text/plain": [
       "[0, 1, 1, 2, 3, 5, 8, 13, 21, 34]"
      ]
     },
     "execution_count": 65,
     "metadata": {},
     "output_type": "execute_result"
    }
   ],
   "source": [
    "def fib_reducer(x, _):\n",
    "    return x + [x[-1] + x[-2]]\n",
    "\n",
    "def fib(n):\n",
    "    return reduce(fib_reducer, range(n - 2), [0, 1])\n",
    "fib(10)"
   ]
  },
  {
   "cell_type": "markdown",
   "metadata": {},
   "source": [
    "## Exercise: all\n",
    "\n",
    "Use `reduce` and something from the `operator` module to write the function `my_all(iterable)` that returns `True` if all elements of `iterable` are `True` and `False` otherwise.\n",
    "\n",
    "**Note** Python already has an `all` function, so you can compare your results to it."
   ]
  },
  {
   "cell_type": "code",
   "execution_count": 66,
   "metadata": {},
   "outputs": [],
   "source": [
    "seq1 = [True,  True, True]\n",
    "seq2 = [True, False, True]\n",
    "\n",
    "def myall(iterable):\n",
    "    # Your code here\n",
    "\n",
    "assert myall(seq1) == all(seq1)\n",
    "assert myall(seq2) == all(seq2)"
   ]
  },
  {
   "cell_type": "markdown",
   "metadata": {},
   "source": [
    "**Note** that `all` (or `any`) is implemented with a short-circuit so that once it sees a `False` (or `True`) it stops the iteration.\n",
    "\n",
    "This can be much faster if a `False` appears early on in the sequence:"
   ]
  },
  {
   "cell_type": "code",
   "execution_count": 67,
   "metadata": {},
   "outputs": [
    {
     "name": "stdout",
     "output_type": "stream",
     "text": [
      "8.84 ms ± 409 µs per loop (mean ± std. dev. of 7 runs, 10 loops each)\n",
      "88.1 ns ± 24.8 ns per loop (mean ± std. dev. of 7 runs, 10 loops each)\n"
     ]
    }
   ],
   "source": [
    "data = [False] + [True] * 100000\n",
    "\n",
    "%timeit -n 10 myall(data)\n",
    "%timeit -n 10 all(data)"
   ]
  },
  {
   "cell_type": "markdown",
   "metadata": {},
   "source": [
    "# Solutions\n",
    "\n",
    "## Solution: Leap year"
   ]
  },
  {
   "cell_type": "code",
   "execution_count": null,
   "metadata": {},
   "outputs": [],
   "source": [
    "leap_years = [year for year in range(2020) if year % 400 == 0 or (year % 4 == 0 and year % 100 !=0)]\n",
    "print(len(leap_years))"
   ]
  },
  {
   "cell_type": "markdown",
   "metadata": {},
   "source": [
    "## Solution: secret \n",
    "\n",
    "Note that `code.get` is only called when `join` starts pulling elements from `decoded`."
   ]
  },
  {
   "cell_type": "code",
   "execution_count": null,
   "metadata": {},
   "outputs": [],
   "source": [
    "decoded = (code.get(c, c)  for c in secret)\n",
    "joined = str.join('', decoded) \n",
    "print(joined)"
   ]
  },
  {
   "cell_type": "markdown",
   "metadata": {},
   "source": [
    "## Solution: factors"
   ]
  },
  {
   "cell_type": "code",
   "execution_count": null,
   "metadata": {},
   "outputs": [],
   "source": [
    "def factors(n):\n",
    "    k = 2\n",
    "    while n > 1:\n",
    "        if n % k == 0:\n",
    "            yield k\n",
    "            n //= k\n",
    "        else:\n",
    "            k += 1"
   ]
  },
  {
   "cell_type": "markdown",
   "metadata": {},
   "source": [
    "## Solution: Fibonacci"
   ]
  },
  {
   "cell_type": "code",
   "execution_count": null,
   "metadata": {},
   "outputs": [],
   "source": [
    "def fibonacci():\n",
    "    prev = 0\n",
    "    yield prev\n",
    "    current = 1\n",
    "    yield current\n",
    "    while True:\n",
    "        prev, current = current, prev + current\n",
    "        yield current"
   ]
  },
  {
   "cell_type": "markdown",
   "metadata": {},
   "source": [
    "## Solution: all"
   ]
  },
  {
   "cell_type": "code",
   "execution_count": null,
   "metadata": {},
   "outputs": [],
   "source": [
    "def myall(iterable):\n",
    "    booleans = (bool(e) for e in iterable)\n",
    "    return reduce(operator.and_, booleans)"
   ]
  },
  {
   "cell_type": "markdown",
   "metadata": {},
   "source": [
    "# References\n",
    "- Some code and ideas were taken from [CS1001.py](https://github.com/yoavram/CS1001.py)\n",
    "- Some code and ideas were taken from [Code like a Pythonista](http://python.net/~goodger/projects/pycon/2007/idiomatic/presentation.html)\n",
    "- The [itertools](https://docs.python.org/3.5/library/itertools.html) module has some functions and tools for creating iterators.\n",
    "- The [operator](https://docs.python.org/3.5/library/operator.html) module has more functions that emulate operators to used in map, reduce, etc.\n",
    "- [Functional programming HOWTO](https://docs.python.org/3.5/howto/functional.html) has some more information, as the comprehensions, iterators, map-reduce and filter are the building blocks of functional programming.\n",
    "- The [toolz](http://toolz.readthedocs.org/) package has many more tools to use in a functional programming style.\n",
    "- Read Chapter 14 in the [Fluent Python](http://shop.oreilly.com/product/0636920032519.do) book by Luciano Ramalho for a deep dive into Iterators and everything related."
   ]
  },
  {
   "cell_type": "markdown",
   "metadata": {},
   "source": [
    "## Colophon\n",
    "This notebook was written by [Yoav Ram](http://python.yoavram.com).\n",
    "\n",
    "The notebook was written using [Python](http://python.org/) 3.7.\n",
    "Dependencies listed in [environment.yml](../environment.yml).\n",
    "\n",
    "This work is licensed under a CC BY-NC-SA 4.0 International License.\n",
    "\n",
    "![Python logo](https://www.python.org/static/community_logos/python-logo.png)"
   ]
  }
 ],
 "metadata": {
  "kernelspec": {
   "display_name": "Python 3 (ipykernel)",
   "language": "python",
   "name": "python3"
  },
  "language_info": {
   "codemirror_mode": {
    "name": "ipython",
    "version": 3
   },
   "file_extension": ".py",
   "mimetype": "text/x-python",
   "name": "python",
   "nbconvert_exporter": "python",
   "pygments_lexer": "ipython3",
   "version": "3.9.2"
  }
 },
 "nbformat": 4,
 "nbformat_minor": 4
}
